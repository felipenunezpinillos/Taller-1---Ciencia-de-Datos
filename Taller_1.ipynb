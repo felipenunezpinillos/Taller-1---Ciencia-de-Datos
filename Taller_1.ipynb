{
  "cells": [
    {
      "cell_type": "code",
      "execution_count": 1,
      "metadata": {
        "id": "OFSB632o9XCQ"
      },
      "outputs": [
        {
          "name": "stderr",
          "output_type": "stream",
          "text": [
            "c:\\Users\\Felipe Nunez\\Documents\\Maestria\\Ciencia de Datos\\Taller 1\\venv\\Lib\\site-packages\\tqdm\\auto.py:21: TqdmWarning: IProgress not found. Please update jupyter and ipywidgets. See https://ipywidgets.readthedocs.io/en/stable/user_install.html\n",
            "  from .autonotebook import tqdm as notebook_tqdm\n"
          ]
        },
        {
          "data": {
            "text/html": [
              "\n",
              "            <div>\n",
              "                <ins><a href=\"https://ydata.ai/register\">Upgrade to ydata-sdk</a></ins>\n",
              "                <p>\n",
              "                    Improve your data and profiling with ydata-sdk, featuring data quality scoring, redundancy detection, outlier identification, text validation, and synthetic data generation.\n",
              "                </p>\n",
              "            </div>\n",
              "            "
            ],
            "text/plain": [
              "<IPython.core.display.HTML object>"
            ]
          },
          "metadata": {},
          "output_type": "display_data"
        }
      ],
      "source": [
        "from ydata_profiling import ProfileReport\n"
      ]
    },
    {
      "cell_type": "code",
      "execution_count": 2,
      "metadata": {
        "id": "eGcBgCratimY"
      },
      "outputs": [],
      "source": [
        "import pandas as pd\n",
        "from matplotlib import pyplot as plt\n",
        "import numpy as np\n",
        "from scipy.stats import chi2_contingency"
      ]
    },
    {
      "cell_type": "code",
      "execution_count": 3,
      "metadata": {
        "id": "FCQqmwmkaucH"
      },
      "outputs": [],
      "source": [
        "%matplotlib inline\n",
        "import matplotlib.pyplot as plt"
      ]
    },
    {
      "cell_type": "markdown",
      "metadata": {
        "id": "x_dkxN5dt-Id"
      },
      "source": [
        "# 0. Carga de datos"
      ]
    },
    {
      "cell_type": "code",
      "execution_count": 4,
      "metadata": {
        "colab": {
          "base_uri": "https://localhost:8080/"
        },
        "id": "9isDk1e6uGmf",
        "outputId": "169dd60c-7185-4152-f31b-bc963e7e0a83"
      },
      "outputs": [
        {
          "name": "stderr",
          "output_type": "stream",
          "text": [
            "C:\\Users\\Felipe Nunez\\AppData\\Local\\Temp\\ipykernel_30676\\3340524304.py:1: DtypeWarning: Columns (24) have mixed types. Specify dtype option on import or set low_memory=False.\n",
            "  data = pd.read_csv('data/hotel_bookings_modified.csv')\n"
          ]
        }
      ],
      "source": [
        "data = pd.read_csv('data/hotel_bookings_modified.csv')"
      ]
    },
    {
      "cell_type": "code",
      "execution_count": 5,
      "metadata": {
        "colab": {
          "base_uri": "https://localhost:8080/",
          "height": 342
        },
        "id": "uZ05wnlEuYyB",
        "outputId": "3ad9e1e2-dae3-4087-96fd-3b6d94b6d408"
      },
      "outputs": [
        {
          "data": {
            "text/html": [
              "<div>\n",
              "<style scoped>\n",
              "    .dataframe tbody tr th:only-of-type {\n",
              "        vertical-align: middle;\n",
              "    }\n",
              "\n",
              "    .dataframe tbody tr th {\n",
              "        vertical-align: top;\n",
              "    }\n",
              "\n",
              "    .dataframe thead th {\n",
              "        text-align: right;\n",
              "    }\n",
              "</style>\n",
              "<table border=\"1\" class=\"dataframe\">\n",
              "  <thead>\n",
              "    <tr style=\"text-align: right;\">\n",
              "      <th></th>\n",
              "      <th>hotel</th>\n",
              "      <th>is_canceled</th>\n",
              "      <th>lead_time</th>\n",
              "      <th>arrival_date_year</th>\n",
              "      <th>arrival_date_month</th>\n",
              "      <th>arrival_date_week_number</th>\n",
              "      <th>arrival_date_day_of_month</th>\n",
              "      <th>stays_in_weekend_nights</th>\n",
              "      <th>stays_in_week_nights</th>\n",
              "      <th>adults</th>\n",
              "      <th>...</th>\n",
              "      <th>agent</th>\n",
              "      <th>company</th>\n",
              "      <th>days_in_waiting_list</th>\n",
              "      <th>customer_type</th>\n",
              "      <th>adr</th>\n",
              "      <th>required_car_parking_spaces</th>\n",
              "      <th>total_of_special_requests</th>\n",
              "      <th>reservation_status</th>\n",
              "      <th>reservation_status_date</th>\n",
              "      <th>kids</th>\n",
              "    </tr>\n",
              "  </thead>\n",
              "  <tbody>\n",
              "    <tr>\n",
              "      <th>0</th>\n",
              "      <td>Resort Hotel</td>\n",
              "      <td>0</td>\n",
              "      <td>342</td>\n",
              "      <td>2015.0</td>\n",
              "      <td>July</td>\n",
              "      <td>27</td>\n",
              "      <td>1</td>\n",
              "      <td>0</td>\n",
              "      <td>0</td>\n",
              "      <td>2</td>\n",
              "      <td>...</td>\n",
              "      <td>NaN</td>\n",
              "      <td>NaN</td>\n",
              "      <td>0.0</td>\n",
              "      <td>Transient</td>\n",
              "      <td>0.0</td>\n",
              "      <td>0.0</td>\n",
              "      <td>0.0</td>\n",
              "      <td>Check-Out</td>\n",
              "      <td>2015-07-01</td>\n",
              "      <td>NaN</td>\n",
              "    </tr>\n",
              "    <tr>\n",
              "      <th>1</th>\n",
              "      <td>Resort Hotel</td>\n",
              "      <td>0</td>\n",
              "      <td>737</td>\n",
              "      <td>2015.0</td>\n",
              "      <td>July</td>\n",
              "      <td>27</td>\n",
              "      <td>1</td>\n",
              "      <td>0</td>\n",
              "      <td>0</td>\n",
              "      <td>2</td>\n",
              "      <td>...</td>\n",
              "      <td>NaN</td>\n",
              "      <td>NaN</td>\n",
              "      <td>0.0</td>\n",
              "      <td>Transient</td>\n",
              "      <td>0.0</td>\n",
              "      <td>0.0</td>\n",
              "      <td>0.0</td>\n",
              "      <td>Check-Out</td>\n",
              "      <td>2015-07-01</td>\n",
              "      <td>NaN</td>\n",
              "    </tr>\n",
              "    <tr>\n",
              "      <th>2</th>\n",
              "      <td>Resort Hotel</td>\n",
              "      <td>0</td>\n",
              "      <td>7</td>\n",
              "      <td>2015.0</td>\n",
              "      <td>July</td>\n",
              "      <td>27</td>\n",
              "      <td>1</td>\n",
              "      <td>0</td>\n",
              "      <td>1</td>\n",
              "      <td>1</td>\n",
              "      <td>...</td>\n",
              "      <td>NaN</td>\n",
              "      <td>NaN</td>\n",
              "      <td>0.0</td>\n",
              "      <td>Transient</td>\n",
              "      <td>75.0</td>\n",
              "      <td>0.0</td>\n",
              "      <td>0.0</td>\n",
              "      <td>Check-Out</td>\n",
              "      <td>2015-07-02</td>\n",
              "      <td>NaN</td>\n",
              "    </tr>\n",
              "    <tr>\n",
              "      <th>3</th>\n",
              "      <td>Resort Hotel</td>\n",
              "      <td>0</td>\n",
              "      <td>13</td>\n",
              "      <td>2015.0</td>\n",
              "      <td>July</td>\n",
              "      <td>27</td>\n",
              "      <td>1</td>\n",
              "      <td>0</td>\n",
              "      <td>1</td>\n",
              "      <td>1</td>\n",
              "      <td>...</td>\n",
              "      <td>304.0</td>\n",
              "      <td>NaN</td>\n",
              "      <td>0.0</td>\n",
              "      <td>Transient</td>\n",
              "      <td>75.0</td>\n",
              "      <td>0.0</td>\n",
              "      <td>0.0</td>\n",
              "      <td>Check-Out</td>\n",
              "      <td>2015-07-02</td>\n",
              "      <td>NaN</td>\n",
              "    </tr>\n",
              "    <tr>\n",
              "      <th>4</th>\n",
              "      <td>Resort Hotel</td>\n",
              "      <td>0</td>\n",
              "      <td>14</td>\n",
              "      <td>2015.0</td>\n",
              "      <td>July</td>\n",
              "      <td>27</td>\n",
              "      <td>1</td>\n",
              "      <td>0</td>\n",
              "      <td>2</td>\n",
              "      <td>2</td>\n",
              "      <td>...</td>\n",
              "      <td>240.0</td>\n",
              "      <td>NaN</td>\n",
              "      <td>0.0</td>\n",
              "      <td>Transient</td>\n",
              "      <td>98.0</td>\n",
              "      <td>0.0</td>\n",
              "      <td>1.0</td>\n",
              "      <td>Check-Out</td>\n",
              "      <td>2015-07-03</td>\n",
              "      <td>NaN</td>\n",
              "    </tr>\n",
              "  </tbody>\n",
              "</table>\n",
              "<p>5 rows × 33 columns</p>\n",
              "</div>"
            ],
            "text/plain": [
              "          hotel  is_canceled  lead_time  arrival_date_year arrival_date_month  \\\n",
              "0  Resort Hotel            0        342             2015.0               July   \n",
              "1  Resort Hotel            0        737             2015.0               July   \n",
              "2  Resort Hotel            0          7             2015.0               July   \n",
              "3  Resort Hotel            0         13             2015.0               July   \n",
              "4  Resort Hotel            0         14             2015.0               July   \n",
              "\n",
              "   arrival_date_week_number  arrival_date_day_of_month  \\\n",
              "0                        27                          1   \n",
              "1                        27                          1   \n",
              "2                        27                          1   \n",
              "3                        27                          1   \n",
              "4                        27                          1   \n",
              "\n",
              "   stays_in_weekend_nights  stays_in_week_nights  adults  ...  agent  company  \\\n",
              "0                        0                     0       2  ...    NaN      NaN   \n",
              "1                        0                     0       2  ...    NaN      NaN   \n",
              "2                        0                     1       1  ...    NaN      NaN   \n",
              "3                        0                     1       1  ...  304.0      NaN   \n",
              "4                        0                     2       2  ...  240.0      NaN   \n",
              "\n",
              "  days_in_waiting_list customer_type   adr required_car_parking_spaces  \\\n",
              "0                  0.0     Transient   0.0                         0.0   \n",
              "1                  0.0     Transient   0.0                         0.0   \n",
              "2                  0.0     Transient  75.0                         0.0   \n",
              "3                  0.0     Transient  75.0                         0.0   \n",
              "4                  0.0     Transient  98.0                         0.0   \n",
              "\n",
              "   total_of_special_requests  reservation_status  reservation_status_date kids  \n",
              "0                        0.0           Check-Out               2015-07-01  NaN  \n",
              "1                        0.0           Check-Out               2015-07-01  NaN  \n",
              "2                        0.0           Check-Out               2015-07-02  NaN  \n",
              "3                        0.0           Check-Out               2015-07-02  NaN  \n",
              "4                        1.0           Check-Out               2015-07-03  NaN  \n",
              "\n",
              "[5 rows x 33 columns]"
            ]
          },
          "execution_count": 5,
          "metadata": {},
          "output_type": "execute_result"
        }
      ],
      "source": [
        "data.head()"
      ]
    },
    {
      "cell_type": "code",
      "execution_count": 6,
      "metadata": {
        "colab": {
          "base_uri": "https://localhost:8080/",
          "height": 320
        },
        "id": "6j1_tp5jubZt",
        "outputId": "d8521bda-578c-4b6d-f4bb-8997cb327c00"
      },
      "outputs": [
        {
          "data": {
            "text/html": [
              "<div>\n",
              "<style scoped>\n",
              "    .dataframe tbody tr th:only-of-type {\n",
              "        vertical-align: middle;\n",
              "    }\n",
              "\n",
              "    .dataframe tbody tr th {\n",
              "        vertical-align: top;\n",
              "    }\n",
              "\n",
              "    .dataframe thead th {\n",
              "        text-align: right;\n",
              "    }\n",
              "</style>\n",
              "<table border=\"1\" class=\"dataframe\">\n",
              "  <thead>\n",
              "    <tr style=\"text-align: right;\">\n",
              "      <th></th>\n",
              "      <th>is_canceled</th>\n",
              "      <th>lead_time</th>\n",
              "      <th>arrival_date_year</th>\n",
              "      <th>arrival_date_week_number</th>\n",
              "      <th>arrival_date_day_of_month</th>\n",
              "      <th>stays_in_weekend_nights</th>\n",
              "      <th>stays_in_week_nights</th>\n",
              "      <th>adults</th>\n",
              "      <th>children</th>\n",
              "      <th>babies</th>\n",
              "      <th>is_repeated_guest</th>\n",
              "      <th>previous_cancellations</th>\n",
              "      <th>previous_bookings_not_canceled</th>\n",
              "      <th>booking_changes</th>\n",
              "      <th>agent</th>\n",
              "      <th>days_in_waiting_list</th>\n",
              "      <th>adr</th>\n",
              "      <th>required_car_parking_spaces</th>\n",
              "      <th>total_of_special_requests</th>\n",
              "      <th>kids</th>\n",
              "    </tr>\n",
              "  </thead>\n",
              "  <tbody>\n",
              "    <tr>\n",
              "      <th>count</th>\n",
              "      <td>58895.000000</td>\n",
              "      <td>58895.000000</td>\n",
              "      <td>58307.000000</td>\n",
              "      <td>58895.000000</td>\n",
              "      <td>58895.000000</td>\n",
              "      <td>58895.000000</td>\n",
              "      <td>58895.000000</td>\n",
              "      <td>58895.000000</td>\n",
              "      <td>58891.000000</td>\n",
              "      <td>58895.000000</td>\n",
              "      <td>58895.000000</td>\n",
              "      <td>58895.000000</td>\n",
              "      <td>58895.000000</td>\n",
              "      <td>58895.000000</td>\n",
              "      <td>49763.000000</td>\n",
              "      <td>58894.000000</td>\n",
              "      <td>58894.000000</td>\n",
              "      <td>58306.000000</td>\n",
              "      <td>58894.000000</td>\n",
              "      <td>201.000000</td>\n",
              "    </tr>\n",
              "    <tr>\n",
              "      <th>mean</th>\n",
              "      <td>0.411393</td>\n",
              "      <td>100.050904</td>\n",
              "      <td>2205.522939</td>\n",
              "      <td>27.837389</td>\n",
              "      <td>15.766432</td>\n",
              "      <td>1.058154</td>\n",
              "      <td>2.847576</td>\n",
              "      <td>1.969148</td>\n",
              "      <td>0.112937</td>\n",
              "      <td>0.136599</td>\n",
              "      <td>0.030189</td>\n",
              "      <td>0.069191</td>\n",
              "      <td>0.099618</td>\n",
              "      <td>0.243009</td>\n",
              "      <td>146.983080</td>\n",
              "      <td>3.525979</td>\n",
              "      <td>96.250426</td>\n",
              "      <td>0.096697</td>\n",
              "      <td>0.512225</td>\n",
              "      <td>34.417910</td>\n",
              "    </tr>\n",
              "    <tr>\n",
              "      <th>std</th>\n",
              "      <td>0.492090</td>\n",
              "      <td>101.162420</td>\n",
              "      <td>1837.392466</td>\n",
              "      <td>13.346053</td>\n",
              "      <td>8.783036</td>\n",
              "      <td>1.093032</td>\n",
              "      <td>2.235486</td>\n",
              "      <td>2.943454</td>\n",
              "      <td>0.419710</td>\n",
              "      <td>3.115889</td>\n",
              "      <td>0.171109</td>\n",
              "      <td>1.102138</td>\n",
              "      <td>0.829166</td>\n",
              "      <td>0.695205</td>\n",
              "      <td>120.114987</td>\n",
              "      <td>21.841676</td>\n",
              "      <td>58.555599</td>\n",
              "      <td>0.300382</td>\n",
              "      <td>0.768378</td>\n",
              "      <td>38.571032</td>\n",
              "    </tr>\n",
              "    <tr>\n",
              "      <th>min</th>\n",
              "      <td>0.000000</td>\n",
              "      <td>0.000000</td>\n",
              "      <td>2015.000000</td>\n",
              "      <td>1.000000</td>\n",
              "      <td>1.000000</td>\n",
              "      <td>0.000000</td>\n",
              "      <td>0.000000</td>\n",
              "      <td>-1.000000</td>\n",
              "      <td>0.000000</td>\n",
              "      <td>-1.000000</td>\n",
              "      <td>0.000000</td>\n",
              "      <td>0.000000</td>\n",
              "      <td>0.000000</td>\n",
              "      <td>0.000000</td>\n",
              "      <td>1.000000</td>\n",
              "      <td>0.000000</td>\n",
              "      <td>-6.380000</td>\n",
              "      <td>0.000000</td>\n",
              "      <td>0.000000</td>\n",
              "      <td>-1.000000</td>\n",
              "    </tr>\n",
              "    <tr>\n",
              "      <th>25%</th>\n",
              "      <td>0.000000</td>\n",
              "      <td>17.000000</td>\n",
              "      <td>2016.000000</td>\n",
              "      <td>17.000000</td>\n",
              "      <td>8.000000</td>\n",
              "      <td>0.000000</td>\n",
              "      <td>1.000000</td>\n",
              "      <td>2.000000</td>\n",
              "      <td>0.000000</td>\n",
              "      <td>0.000000</td>\n",
              "      <td>0.000000</td>\n",
              "      <td>0.000000</td>\n",
              "      <td>0.000000</td>\n",
              "      <td>0.000000</td>\n",
              "      <td>9.000000</td>\n",
              "      <td>0.000000</td>\n",
              "      <td>60.000000</td>\n",
              "      <td>0.000000</td>\n",
              "      <td>0.000000</td>\n",
              "      <td>-1.000000</td>\n",
              "    </tr>\n",
              "    <tr>\n",
              "      <th>50%</th>\n",
              "      <td>0.000000</td>\n",
              "      <td>69.000000</td>\n",
              "      <td>2016.000000</td>\n",
              "      <td>29.000000</td>\n",
              "      <td>16.000000</td>\n",
              "      <td>1.000000</td>\n",
              "      <td>2.000000</td>\n",
              "      <td>2.000000</td>\n",
              "      <td>0.000000</td>\n",
              "      <td>0.000000</td>\n",
              "      <td>0.000000</td>\n",
              "      <td>0.000000</td>\n",
              "      <td>0.000000</td>\n",
              "      <td>0.000000</td>\n",
              "      <td>196.000000</td>\n",
              "      <td>0.000000</td>\n",
              "      <td>84.000000</td>\n",
              "      <td>0.000000</td>\n",
              "      <td>0.000000</td>\n",
              "      <td>-1.000000</td>\n",
              "    </tr>\n",
              "    <tr>\n",
              "      <th>75%</th>\n",
              "      <td>1.000000</td>\n",
              "      <td>157.000000</td>\n",
              "      <td>2016.000000</td>\n",
              "      <td>38.000000</td>\n",
              "      <td>23.000000</td>\n",
              "      <td>2.000000</td>\n",
              "      <td>4.000000</td>\n",
              "      <td>2.000000</td>\n",
              "      <td>0.000000</td>\n",
              "      <td>0.000000</td>\n",
              "      <td>0.000000</td>\n",
              "      <td>0.000000</td>\n",
              "      <td>0.000000</td>\n",
              "      <td>0.000000</td>\n",
              "      <td>240.000000</td>\n",
              "      <td>0.000000</td>\n",
              "      <td>120.000000</td>\n",
              "      <td>0.000000</td>\n",
              "      <td>1.000000</td>\n",
              "      <td>65.000000</td>\n",
              "    </tr>\n",
              "    <tr>\n",
              "      <th>max</th>\n",
              "      <td>1.000000</td>\n",
              "      <td>737.000000</td>\n",
              "      <td>20016.000000</td>\n",
              "      <td>53.000000</td>\n",
              "      <td>31.000000</td>\n",
              "      <td>19.000000</td>\n",
              "      <td>50.000000</td>\n",
              "      <td>100.000000</td>\n",
              "      <td>10.000000</td>\n",
              "      <td>100.000000</td>\n",
              "      <td>1.000000</td>\n",
              "      <td>26.000000</td>\n",
              "      <td>30.000000</td>\n",
              "      <td>20.000000</td>\n",
              "      <td>535.000000</td>\n",
              "      <td>391.000000</td>\n",
              "      <td>5400.000000</td>\n",
              "      <td>8.000000</td>\n",
              "      <td>5.000000</td>\n",
              "      <td>100.000000</td>\n",
              "    </tr>\n",
              "  </tbody>\n",
              "</table>\n",
              "</div>"
            ],
            "text/plain": [
              "        is_canceled     lead_time  arrival_date_year  \\\n",
              "count  58895.000000  58895.000000       58307.000000   \n",
              "mean       0.411393    100.050904        2205.522939   \n",
              "std        0.492090    101.162420        1837.392466   \n",
              "min        0.000000      0.000000        2015.000000   \n",
              "25%        0.000000     17.000000        2016.000000   \n",
              "50%        0.000000     69.000000        2016.000000   \n",
              "75%        1.000000    157.000000        2016.000000   \n",
              "max        1.000000    737.000000       20016.000000   \n",
              "\n",
              "       arrival_date_week_number  arrival_date_day_of_month  \\\n",
              "count              58895.000000               58895.000000   \n",
              "mean                  27.837389                  15.766432   \n",
              "std                   13.346053                   8.783036   \n",
              "min                    1.000000                   1.000000   \n",
              "25%                   17.000000                   8.000000   \n",
              "50%                   29.000000                  16.000000   \n",
              "75%                   38.000000                  23.000000   \n",
              "max                   53.000000                  31.000000   \n",
              "\n",
              "       stays_in_weekend_nights  stays_in_week_nights        adults  \\\n",
              "count             58895.000000          58895.000000  58895.000000   \n",
              "mean                  1.058154              2.847576      1.969148   \n",
              "std                   1.093032              2.235486      2.943454   \n",
              "min                   0.000000              0.000000     -1.000000   \n",
              "25%                   0.000000              1.000000      2.000000   \n",
              "50%                   1.000000              2.000000      2.000000   \n",
              "75%                   2.000000              4.000000      2.000000   \n",
              "max                  19.000000             50.000000    100.000000   \n",
              "\n",
              "           children        babies  is_repeated_guest  previous_cancellations  \\\n",
              "count  58891.000000  58895.000000       58895.000000            58895.000000   \n",
              "mean       0.112937      0.136599           0.030189                0.069191   \n",
              "std        0.419710      3.115889           0.171109                1.102138   \n",
              "min        0.000000     -1.000000           0.000000                0.000000   \n",
              "25%        0.000000      0.000000           0.000000                0.000000   \n",
              "50%        0.000000      0.000000           0.000000                0.000000   \n",
              "75%        0.000000      0.000000           0.000000                0.000000   \n",
              "max       10.000000    100.000000           1.000000               26.000000   \n",
              "\n",
              "       previous_bookings_not_canceled  booking_changes         agent  \\\n",
              "count                    58895.000000     58895.000000  49763.000000   \n",
              "mean                         0.099618         0.243009    146.983080   \n",
              "std                          0.829166         0.695205    120.114987   \n",
              "min                          0.000000         0.000000      1.000000   \n",
              "25%                          0.000000         0.000000      9.000000   \n",
              "50%                          0.000000         0.000000    196.000000   \n",
              "75%                          0.000000         0.000000    240.000000   \n",
              "max                         30.000000        20.000000    535.000000   \n",
              "\n",
              "       days_in_waiting_list           adr  required_car_parking_spaces  \\\n",
              "count          58894.000000  58894.000000                 58306.000000   \n",
              "mean               3.525979     96.250426                     0.096697   \n",
              "std               21.841676     58.555599                     0.300382   \n",
              "min                0.000000     -6.380000                     0.000000   \n",
              "25%                0.000000     60.000000                     0.000000   \n",
              "50%                0.000000     84.000000                     0.000000   \n",
              "75%                0.000000    120.000000                     0.000000   \n",
              "max              391.000000   5400.000000                     8.000000   \n",
              "\n",
              "       total_of_special_requests        kids  \n",
              "count               58894.000000  201.000000  \n",
              "mean                    0.512225   34.417910  \n",
              "std                     0.768378   38.571032  \n",
              "min                     0.000000   -1.000000  \n",
              "25%                     0.000000   -1.000000  \n",
              "50%                     0.000000   -1.000000  \n",
              "75%                     1.000000   65.000000  \n",
              "max                     5.000000  100.000000  "
            ]
          },
          "execution_count": 6,
          "metadata": {},
          "output_type": "execute_result"
        }
      ],
      "source": [
        "data.describe()"
      ]
    },
    {
      "cell_type": "code",
      "execution_count": 7,
      "metadata": {
        "colab": {
          "base_uri": "https://localhost:8080/",
          "height": 440,
          "referenced_widgets": [
            "3e907bb029524126899632a00273cd19",
            "d01080202e0d4dd8b103328cb7f67618",
            "1ca3d8b1a4f84b03b06f514b03a5bf3a",
            "957c84e6e08d4483b53528c787fa2626",
            "3e82523b88ab45b188d87fe3290b968f",
            "0c114d47c8664608acca7c8b13d38160",
            "8e64bb63497441d1b18c22db3c9dc988",
            "fcca1d0b4e8c4558b787876291d86d6f",
            "09a73a5d549f4096bfa6d68a5f6b3762",
            "040a36378c2f4b40b95225ddebfad464",
            "6afd7c6106ef4ead81c3a75507c36d9c",
            "4e2694f56c4249b48f4d16e2a730719f",
            "ec900a63b62d42418edc5b0f8625de55",
            "7f32a646d5d04c83b9ae663fc546d22d",
            "63a45132935a42fdb3e167bf60694a1f",
            "c1d8f080ee6e495091c05965330b4f4c",
            "634652bf8d55477f9c297b8fc71db14e",
            "b0c79a9941324de59c113125adf0d2b8",
            "5f0797bf80964e33bb72bb8b64d123f6",
            "0d25d91e72ba4f859380495f59093158",
            "fc23cf6cb5f846a5aba43daa17b03bec",
            "1f99c0502efb45eba5db9a7cba6baf2b",
            "e630df804822477dba6e241afb6bfd8a",
            "c76d3184a9c045edb4076e0ef62dbb55",
            "fa419ecc201b4bd69b8259b819d14612",
            "f096cea9aea74ac0bd2c7539d634b708",
            "f5f62cefc4c74f44902b70198e2b7553",
            "2c7306947cb245dc8cf568445e2f7af7",
            "c812f2e6848b4ae8ae3feb37649e76c5",
            "57071692532a4808bc8f299096b57589",
            "4e4814ce127842b79de9c19f0a8cb3d6",
            "03a13c26c7d642548e3e769aaf704590",
            "0d410c69751b4b5a9032bfca0ac43b1e",
            "01de9c7af5244b34bae5768c2b37c740",
            "e98b6c13cf314847935a4c8ae10dee6b",
            "3b4c6a81af5041978a8ba92cb4e50f21",
            "241fc2b95c7948bfa299d3fb0eec97d5",
            "b11658eaadba4b1fa578cf776c0c0e82",
            "2117bc85211e46ed8c7dfcb95decbb76",
            "504e170ec35c41af824f99d1514343ff",
            "3b24e08f277847549836e6c28a634898",
            "432cf843138a4154b210219ff9b679fd",
            "5fc1005d68464faa8b133283ab27f2d2",
            "339396a3a3854042af7952b079de7e3d"
          ]
        },
        "id": "OSN1rl3Yufla",
        "outputId": "1c49670e-41f6-474a-cbfb-0806bebc737b"
      },
      "outputs": [
        {
          "name": "stderr",
          "output_type": "stream",
          "text": [
            "100%|██████████| 33/33 [00:00<00:00, 35.39it/s]1<00:00, 17.13it/s, Describe variable: kids]                       \n",
            "Summarize dataset: 100%|██████████| 268/268 [00:25<00:00, 10.39it/s, Completed]                                                             \n",
            "Generate report structure: 100%|██████████| 1/1 [00:05<00:00,  5.91s/it]\n",
            "Render HTML: 100%|██████████| 1/1 [00:04<00:00,  4.43s/it]\n",
            "Export report to file: 100%|██████████| 1/1 [00:00<00:00, 24.10it/s]\n"
          ]
        }
      ],
      "source": [
        "report = ProfileReport(data)\n",
        "report.to_file('report.html')"
      ]
    },
    {
      "cell_type": "markdown",
      "metadata": {
        "id": "uAZB5SEWCcib"
      },
      "source": [
        "# 1. Entendimiento inicial de datos:"
      ]
    },
    {
      "cell_type": "code",
      "execution_count": 8,
      "metadata": {
        "colab": {
          "base_uri": "https://localhost:8080/"
        },
        "id": "XFbFwEcAO87j",
        "outputId": "9bc11956-f2e7-47b2-8e94-b1b0b1981432"
      },
      "outputs": [
        {
          "data": {
            "text/plain": [
              "array([nan, 110.0, 113.0, 270.0, 178.0, 240.0, 154.0, 144.0, 307.0, 268.0,\n",
              "       59.0, 204.0, 312.0, 318.0, 94.0, 174.0, 274.0, 195.0, 223.0, 317.0,\n",
              "       281.0, 118.0, 53.0, 286.0, 12.0, 47.0, 324.0, 342.0, 373.0, 371.0,\n",
              "       383.0, 86.0, 82.0, 218.0, 88.0, 31.0, 397.0, 392.0, 405.0, 331.0,\n",
              "       367.0, 20.0, 83.0, 416.0, 51.0, 395.0, 102.0, 34.0, 84.0, 360.0,\n",
              "       394.0, 457.0, 382.0, 461.0, 478.0, 386.0, 112.0, 486.0, 421.0, 9.0,\n",
              "       308.0, 135.0, 224.0, 504.0, 269.0, 356.0, 498.0, 390.0, 513.0,\n",
              "       203.0, 263.0, 477.0, 521.0, 169.0, 515.0, 445.0, 337.0, 251.0,\n",
              "       428.0, 292.0, 388.0, 130.0, 250.0, 355.0, 254.0, 543.0, 531.0,\n",
              "       528.0, 62.0, 120.0, 42.0, 81.0, 116.0, 530.0, 103.0, 39.0, 16.0,\n",
              "       92.0, 61.0, 501.0, 165.0, 291.0, 290.0, 43.0, 325.0, 192.0, 108.0,\n",
              "       200.0, 465.0, 287.0, 297.0, 490.0, 482.0, 207.0, 282.0, 437.0,\n",
              "       225.0, 329.0, 272.0, 28.0, 77.0, 338.0, 72.0, 246.0, 319.0, 146.0,\n",
              "       159.0, 380.0, 323.0, 511.0, 407.0, 278.0, 80.0, 403.0, 399.0, 14.0,\n",
              "       137.0, 343.0, 346.0, 347.0, 349.0, 289.0, 351.0, 353.0, 54.0, 99.0,\n",
              "       358.0, 361.0, 362.0, 366.0, 372.0, 365.0, 277.0, 109.0, 377.0,\n",
              "       379.0, 22.0, 378.0, 330.0, 364.0, 401.0, 232.0, 255.0, 384.0,\n",
              "       167.0, 212.0, 514.0, 391.0, 400.0, 376.0, 402.0, 396.0, 302.0,\n",
              "       398.0, 6.0, 370.0, 369.0, 409.0, 168.0, 104.0, 408.0, 413.0, 148.0,\n",
              "       10.0, 333.0, 419.0, 415.0, 424.0, 425.0, 423.0, 422.0, 435.0,\n",
              "       439.0, 442.0, 448.0, 443.0, 454.0, 444.0, 52.0, 459.0, 458.0,\n",
              "       456.0, 460.0, 447.0, 470.0, 466.0, 484.0, 184.0, 485.0, 32.0,\n",
              "       487.0, 491.0, 494.0, 193.0, 516.0, 496.0, 499.0, 29.0, 78.0, 520.0,\n",
              "       507.0, 506.0, 512.0, 126.0, 64.0, 242.0, 518.0, 523.0, 539.0,\n",
              "       534.0, 436.0, 525.0, 541.0, 40.0, 455.0, 410.0, 45.0, 38.0, 49.0,\n",
              "       48.0, 67.0, 68.0, 65.0, 91.0, 37.0, 8.0, 179.0, 209.0, 219.0,\n",
              "       221.0, 227.0, 153.0, '40', '186', '51', '45', '153', '47', '218',\n",
              "       '38', '179', '174', '78', '253', '202', '216', '221', '219', '275',\n",
              "       '277', '233', '280', '309', '321', '331', '93', '316', 'NU'],\n",
              "      dtype=object)"
            ]
          },
          "execution_count": 8,
          "metadata": {},
          "output_type": "execute_result"
        }
      ],
      "source": [
        "data['company'].unique()\n"
      ]
    },
    {
      "cell_type": "markdown",
      "metadata": {
        "id": "ZjTs7_nbC_15"
      },
      "source": [
        "## 1.1. Dimensiones del dataset"
      ]
    },
    {
      "cell_type": "markdown",
      "metadata": {
        "id": "-W2goP49DFV4"
      },
      "source": [
        "Este dataset cuenta con 58,895 observaciones donde cada observación hace referencia a una reservación realizada las instalaciones hoteleras disponibles con su conjunto de caracterisicas al momento de realizar la reservacion. Tambien, tiene 33 variables. Entrando un poco a detalle en las observaciones se pueden observar 6.5% de datos faltantes que equivalen a 126,083. Otra caracteristica importante a resaltar es que hay 3,822 observaciones duplicadas que equivale al 6.5% del dataset.\n",
        "\n",
        "Analizando un poco de manera general las 33 variables del dataset, podemos encontrar que según el perfilamiento de datos realizado hay:\n",
        "- 15 variables categoricas:\n",
        "  - hotel: hace referencia al tipo de hotel, se tienen dos categorias, si el hotel es un Resort o un hotel de Ciudad.\n",
        "  - is_canceled: indica si se cancelo la reserva.\n",
        "  - arrival_date_year:\n",
        "  - arrival_date_month:\n",
        "  - children\n",
        "  - meal\n",
        "  - market_segment\n",
        "  - distribution_channel\n",
        "  - is_repeated_guest\n",
        "  - reserverd_room_type\n",
        "  - assigned_room_type\n",
        "  - deposit_type\n",
        "  - customer_type\n",
        "  - requiered_car_parking_spaces\n",
        "  - reservation_status\n",
        "\n",
        "- 15 variables númericas\n",
        "  - lead_time\n",
        "  - arrival_date_week_number\n",
        "  - arrival_date_day_of_month\n",
        "  - stays_in_weekend_nights\n",
        "  - stays_in_week_nights\n",
        "  - adults\n",
        "  - babies\n",
        "  - previous_cancellations\n",
        "  - previous_bookings_not_cancelled\n",
        "  - booking_changes\n",
        "  - agent\n",
        "  - days_in_waiting_list\n",
        "  - adr\n",
        "  - total_of_special_requests\n",
        "  - kids\n",
        "- 1 variable de texto\n",
        "  - country\n",
        "- 1 variable de fecha\n",
        "  - reservation_status_date\n",
        "- 1 variable que no esta soportada\n",
        "  - company: de lo que se pudo observar más a detalle fue que hay tipos numericos, faltantes y de texto en esta variable."
      ]
    },
    {
      "cell_type": "markdown",
      "metadata": {
        "id": "b2FYhDMKRMVq"
      },
      "source": [
        "## 1.2. Top 5 variables clave"
      ]
    },
    {
      "cell_type": "markdown",
      "metadata": {
        "id": "TF-hIUSAPWN0"
      },
      "source": [
        "### 1.2.1. is_canceled"
      ]
    },
    {
      "cell_type": "markdown",
      "metadata": {
        "id": "BAlidYRfgl05"
      },
      "source": [
        "Esta variable es clave ya que respresenta si se cancelo o no una observación especifica. Se podria ver hasta como una variable dependiente, ya que su valor se determina a traves de las démas variables"
      ]
    },
    {
      "cell_type": "markdown",
      "metadata": {
        "id": "9GUkG1WpbR0Z"
      },
      "source": [
        "#### Analisis no gráfico"
      ]
    },
    {
      "cell_type": "markdown",
      "metadata": {
        "id": "5FRNVhyWkOKi"
      },
      "source": [
        "##### Tabla de frecuencia"
      ]
    },
    {
      "cell_type": "code",
      "execution_count": 9,
      "metadata": {
        "colab": {
          "base_uri": "https://localhost:8080/",
          "height": 143
        },
        "id": "78eJX09xhbo8",
        "outputId": "ecb24451-cb65-4629-e8a2-29a0eb9cd2b0"
      },
      "outputs": [
        {
          "data": {
            "text/html": [
              "<div>\n",
              "<style scoped>\n",
              "    .dataframe tbody tr th:only-of-type {\n",
              "        vertical-align: middle;\n",
              "    }\n",
              "\n",
              "    .dataframe tbody tr th {\n",
              "        vertical-align: top;\n",
              "    }\n",
              "\n",
              "    .dataframe thead th {\n",
              "        text-align: right;\n",
              "    }\n",
              "</style>\n",
              "<table border=\"1\" class=\"dataframe\">\n",
              "  <thead>\n",
              "    <tr style=\"text-align: right;\">\n",
              "      <th></th>\n",
              "      <th>count</th>\n",
              "      <th>percent</th>\n",
              "    </tr>\n",
              "    <tr>\n",
              "      <th>is_canceled</th>\n",
              "      <th></th>\n",
              "      <th></th>\n",
              "    </tr>\n",
              "  </thead>\n",
              "  <tbody>\n",
              "    <tr>\n",
              "      <th>0</th>\n",
              "      <td>34666</td>\n",
              "      <td>58.86</td>\n",
              "    </tr>\n",
              "    <tr>\n",
              "      <th>1</th>\n",
              "      <td>24229</td>\n",
              "      <td>41.14</td>\n",
              "    </tr>\n",
              "  </tbody>\n",
              "</table>\n",
              "</div>"
            ],
            "text/plain": [
              "             count  percent\n",
              "is_canceled                \n",
              "0            34666    58.86\n",
              "1            24229    41.14"
            ]
          },
          "execution_count": 9,
          "metadata": {},
          "output_type": "execute_result"
        }
      ],
      "source": [
        "freq = data['is_canceled'].value_counts()\n",
        "freq_pct = data['is_canceled'].value_counts(normalize=True).mul(100).round(2)\n",
        "\n",
        "freq_table = pd.DataFrame({'count': freq, 'percent': freq_pct})\n",
        "freq_table"
      ]
    },
    {
      "cell_type": "markdown",
      "metadata": {
        "id": "w3g6SeO_nY9M"
      },
      "source": [
        "La tabla de frecuencia nos muestra que el porcentaje de cancelacion es muy alto ya que de la muestra el 41.14% de las reservaciones se cancelaron."
      ]
    },
    {
      "cell_type": "markdown",
      "metadata": {
        "id": "VghDy9CtkWm_"
      },
      "source": [
        "##### Moda"
      ]
    },
    {
      "cell_type": "code",
      "execution_count": 10,
      "metadata": {
        "colab": {
          "base_uri": "https://localhost:8080/",
          "height": 115
        },
        "id": "QclPWcgGk0N-",
        "outputId": "2fc9518d-020c-487f-bdf0-97e36de47b18"
      },
      "outputs": [
        {
          "data": {
            "text/plain": [
              "0    0\n",
              "Name: is_canceled, dtype: int64"
            ]
          },
          "execution_count": 10,
          "metadata": {},
          "output_type": "execute_result"
        }
      ],
      "source": [
        "data['is_canceled'].mode()"
      ]
    },
    {
      "cell_type": "markdown",
      "metadata": {
        "id": "wHXbBUh_n1t1"
      },
      "source": [
        "La moda es decir el valor que más se repite es que no se cancela la reservación."
      ]
    },
    {
      "cell_type": "markdown",
      "metadata": {
        "id": "ocyPh1-4loLl"
      },
      "source": [
        "#### Analisis gráfico"
      ]
    },
    {
      "cell_type": "markdown",
      "metadata": {
        "id": "0GmA5u0mpcaJ"
      },
      "source": [
        "##### Grafico de tortas"
      ]
    },
    {
      "cell_type": "code",
      "execution_count": 11,
      "metadata": {
        "colab": {
          "base_uri": "https://localhost:8080/",
          "height": 428
        },
        "id": "Fs2wpB18ltiT",
        "outputId": "8ddf6ecc-256c-4b10-e1f7-3228996f622f"
      },
      "outputs": [
        {
          "data": {
            "image/png": "[encoded data removed]",
            "text/plain": [
              "<Figure size 640x480 with 1 Axes>"
            ]
          },
          "metadata": {},
          "output_type": "display_data"
        }
      ],
      "source": [
        "counts_row = freq_table['count']   # a Series with categories as index\n",
        "\n",
        "plt.figure()\n",
        "plt.pie(\n",
        "    counts_row.values,\n",
        "    labels=[x for x in counts_row.index],\n",
        "    autopct='%1.1f%%',\n",
        "    startangle=90,\n",
        "    colors=['blue', 'orange']\n",
        ")\n",
        "plt.title('is_canceled')\n",
        "plt.show()"
      ]
    },
    {
      "cell_type": "markdown",
      "metadata": {
        "id": "MQAR_dBjpaAR"
      },
      "source": [
        "##### Grafico de barras"
      ]
    },
    {
      "cell_type": "code",
      "execution_count": 12,
      "metadata": {
        "colab": {
          "base_uri": "https://localhost:8080/",
          "height": 467
        },
        "id": "U7BbD9RVpmPt",
        "outputId": "904ae9d9-4dfa-4897-c482-3cabcae476e5"
      },
      "outputs": [
        {
          "data": {
            "image/png": "[encoded data removed]",
            "text/plain": [
              "<Figure size 640x480 with 1 Axes>"
            ]
          },
          "metadata": {},
          "output_type": "display_data"
        }
      ],
      "source": [
        "plt.figure()\n",
        "ax = freq_table['count'].plot(kind='bar', color=['blue', 'orange'])\n",
        "plt.xlabel('is_canceled')\n",
        "plt.ylabel('count')\n",
        "plt.title('is_canceled')\n",
        "\n",
        "for p in ax.patches:\n",
        "    ax.annotate(str(p.get_height()), (p.get_x() * 1.005, p.get_height() * 1.005))\n",
        "\n",
        "plt.show()"
      ]
    },
    {
      "cell_type": "markdown",
      "metadata": {
        "id": "dVLQZAT6nULt"
      },
      "source": [
        "### 1.2.2. lead_time"
      ]
    },
    {
      "cell_type": "markdown",
      "metadata": {
        "id": "1oEzjP3Tn82D"
      },
      "source": [
        "##### Analisis no gráfico"
      ]
    },
    {
      "cell_type": "code",
      "execution_count": 13,
      "metadata": {
        "colab": {
          "base_uri": "https://localhost:8080/",
          "height": 335
        },
        "id": "SusPr9_bn73L",
        "outputId": "f5065706-45c6-4d42-ec29-974f1e19af06"
      },
      "outputs": [
        {
          "data": {
            "text/plain": [
              "count    58895.000000\n",
              "mean       100.050904\n",
              "std        101.162420\n",
              "min          0.000000\n",
              "25%         17.000000\n",
              "50%         69.000000\n",
              "75%        157.000000\n",
              "max        737.000000\n",
              "Name: lead_time, dtype: float64"
            ]
          },
          "execution_count": 13,
          "metadata": {},
          "output_type": "execute_result"
        }
      ],
      "source": [
        "data['lead_time'].describe()"
      ]
    },
    {
      "cell_type": "code",
      "execution_count": 14,
      "metadata": {
        "colab": {
          "base_uri": "https://localhost:8080/"
        },
        "id": "G0-I1ZEWovtx",
        "outputId": "deebaa8a-7a7d-4c82-a68c-7d49de970e95"
      },
      "outputs": [
        {
          "name": "stdout",
          "output_type": "stream",
          "text": [
            "Skewness: 1.2082573004591315\n",
            "Kurtosis: 1.0087856167757177\n"
          ]
        }
      ],
      "source": [
        "print(\"Skewness:\", data['lead_time'].skew())\n",
        "print(\"Kurtosis:\", data['lead_time'].kurtosis())"
      ]
    },
    {
      "cell_type": "code",
      "execution_count": 15,
      "metadata": {
        "colab": {
          "base_uri": "https://localhost:8080/"
        },
        "id": "SSbH2ty3pRRD",
        "outputId": "46c6571b-71af-48d5-f846-f7089440d3b5"
      },
      "outputs": [
        {
          "name": "stdout",
          "output_type": "stream",
          "text": [
            "Number of outliers: 1233\n"
          ]
        }
      ],
      "source": [
        "col = data['lead_time']\n",
        "\n",
        "Q1 = col.quantile(0.25)\n",
        "Q3 = col.quantile(0.75)\n",
        "IQR = Q3 - Q1\n",
        "\n",
        "lower_bound = Q1 - 1.5 * IQR\n",
        "upper_bound = Q3 + 1.5 * IQR\n",
        "\n",
        "outliers = col[(col < lower_bound) | (col > upper_bound)]\n",
        "n_outliers = outliers.count()\n",
        "\n",
        "print(\"Number of outliers:\", n_outliers)"
      ]
    },
    {
      "cell_type": "markdown",
      "metadata": {
        "id": "K6rCiKJarHQ_"
      },
      "source": [
        "#### Analisis gráfico"
      ]
    },
    {
      "cell_type": "markdown",
      "metadata": {
        "id": "-g9nzwmmunuC"
      },
      "source": [
        "##### Histograma"
      ]
    },
    {
      "cell_type": "code",
      "execution_count": 16,
      "metadata": {
        "colab": {
          "base_uri": "https://localhost:8080/",
          "height": 472
        },
        "id": "MYUl6Ga4rQpB",
        "outputId": "3b17ecb8-73db-4ade-a2fc-23d61431da72"
      },
      "outputs": [
        {
          "data": {
            "image/png": "[encoded data removed]",
            "text/plain": [
              "<Figure size 640x480 with 1 Axes>"
            ]
          },
          "metadata": {},
          "output_type": "display_data"
        }
      ],
      "source": [
        "data['lead_time'].hist(bins=50)\n",
        "plt.title('lead_time')\n",
        "plt.ylabel('frequency')\n",
        "plt.xlabel('bins')\n",
        "plt.show()"
      ]
    },
    {
      "cell_type": "markdown",
      "metadata": {
        "id": "oiYuZG6Su539"
      },
      "source": [
        "##### Diagrama de cajas"
      ]
    },
    {
      "cell_type": "code",
      "execution_count": 17,
      "metadata": {
        "colab": {
          "base_uri": "https://localhost:8080/",
          "height": 487
        },
        "id": "uYMixdp2skNX",
        "outputId": "eaee8d3b-ac43-43de-c72a-a49d109f7d38"
      },
      "outputs": [
        {
          "data": {
            "image/png": "[encoded data removed]",
            "text/plain": [
              "<Figure size 1000x500 with 1 Axes>"
            ]
          },
          "metadata": {},
          "output_type": "display_data"
        }
      ],
      "source": [
        "plt.figure(figsize=(10, 5))\n",
        "plt.boxplot(data['lead_time'], showmeans=True, vert=False)\n",
        "plt.title('lead_time')\n",
        "plt.xlabel('lead_time')\n",
        "plt.show()\n",
        "plt.show()"
      ]
    },
    {
      "cell_type": "markdown",
      "metadata": {
        "id": "7a9f8jFmqctl"
      },
      "source": [
        "El análisis univariado de la variable lead_time muestra una distribución fuertemente asimétrica, con una mediana de 69 días y una media superior de 100 días, lo que indica la presencia de reservas muy anticipadas que elevan el promedio. La dispersión es amplia (IQR = 140 días), con valores que van desde reservas inmediatas (0 días) hasta más de dos años (737 días). La asimetría positiva (skewness = 1.21) y la curtosis levemente (1.01) confirman la existencia de una cola larga de reservas con gran anticipación, donde se identifican 1,233 outliers (≈2.1%) por encima de 367 días. Esto refleja que, aunque la mayoría de los clientes reserva con menos de 3 a 5 meses de antelación, existe un segmento reducido que planifica su estadía con más de un año, lo cual puede tener implicaciones en el comportamiento de cancelaciones."
      ]
    },
    {
      "cell_type": "markdown",
      "metadata": {
        "id": "6F4Z9RzjxOjv"
      },
      "source": [
        "### 1.2.3. arrival_date_month"
      ]
    },
    {
      "cell_type": "markdown",
      "metadata": {
        "id": "AxqmSvvL1Bgx"
      },
      "source": [
        "#### Analisis no grafico"
      ]
    },
    {
      "cell_type": "markdown",
      "metadata": {
        "id": "2Uu6VJgd2clo"
      },
      "source": [
        "##### Tabla de frecuencia"
      ]
    },
    {
      "cell_type": "code",
      "execution_count": 18,
      "metadata": {
        "colab": {
          "base_uri": "https://localhost:8080/",
          "height": 457
        },
        "id": "tSZ0ew4n1Kx-",
        "outputId": "fdfba394-3615-41b4-aa2e-8e3db688bc11"
      },
      "outputs": [
        {
          "data": {
            "text/html": [
              "<div>\n",
              "<style scoped>\n",
              "    .dataframe tbody tr th:only-of-type {\n",
              "        vertical-align: middle;\n",
              "    }\n",
              "\n",
              "    .dataframe tbody tr th {\n",
              "        vertical-align: top;\n",
              "    }\n",
              "\n",
              "    .dataframe thead th {\n",
              "        text-align: right;\n",
              "    }\n",
              "</style>\n",
              "<table border=\"1\" class=\"dataframe\">\n",
              "  <thead>\n",
              "    <tr style=\"text-align: right;\">\n",
              "      <th></th>\n",
              "      <th>count</th>\n",
              "      <th>percent</th>\n",
              "    </tr>\n",
              "    <tr>\n",
              "      <th>arrival_date_month</th>\n",
              "      <th></th>\n",
              "      <th></th>\n",
              "    </tr>\n",
              "  </thead>\n",
              "  <tbody>\n",
              "    <tr>\n",
              "      <th>August</th>\n",
              "      <td>7715</td>\n",
              "      <td>13.10</td>\n",
              "    </tr>\n",
              "    <tr>\n",
              "      <th>September</th>\n",
              "      <td>6712</td>\n",
              "      <td>11.40</td>\n",
              "    </tr>\n",
              "    <tr>\n",
              "      <th>July</th>\n",
              "      <td>6177</td>\n",
              "      <td>10.49</td>\n",
              "    </tr>\n",
              "    <tr>\n",
              "      <th>October</th>\n",
              "      <td>6040</td>\n",
              "      <td>10.26</td>\n",
              "    </tr>\n",
              "    <tr>\n",
              "      <th>May</th>\n",
              "      <td>5283</td>\n",
              "      <td>8.97</td>\n",
              "    </tr>\n",
              "    <tr>\n",
              "      <th>April</th>\n",
              "      <td>5185</td>\n",
              "      <td>8.80</td>\n",
              "    </tr>\n",
              "    <tr>\n",
              "      <th>June</th>\n",
              "      <td>4725</td>\n",
              "      <td>8.02</td>\n",
              "    </tr>\n",
              "    <tr>\n",
              "      <th>March</th>\n",
              "      <td>4492</td>\n",
              "      <td>7.63</td>\n",
              "    </tr>\n",
              "    <tr>\n",
              "      <th>February</th>\n",
              "      <td>3830</td>\n",
              "      <td>6.50</td>\n",
              "    </tr>\n",
              "    <tr>\n",
              "      <th>December</th>\n",
              "      <td>3121</td>\n",
              "      <td>5.30</td>\n",
              "    </tr>\n",
              "    <tr>\n",
              "      <th>November</th>\n",
              "      <td>2857</td>\n",
              "      <td>4.85</td>\n",
              "    </tr>\n",
              "    <tr>\n",
              "      <th>January</th>\n",
              "      <td>2758</td>\n",
              "      <td>4.68</td>\n",
              "    </tr>\n",
              "  </tbody>\n",
              "</table>\n",
              "</div>"
            ],
            "text/plain": [
              "                    count  percent\n",
              "arrival_date_month                \n",
              "August               7715    13.10\n",
              "September            6712    11.40\n",
              "July                 6177    10.49\n",
              "October              6040    10.26\n",
              "May                  5283     8.97\n",
              "April                5185     8.80\n",
              "June                 4725     8.02\n",
              "March                4492     7.63\n",
              "February             3830     6.50\n",
              "December             3121     5.30\n",
              "November             2857     4.85\n",
              "January              2758     4.68"
            ]
          },
          "execution_count": 18,
          "metadata": {},
          "output_type": "execute_result"
        }
      ],
      "source": [
        "freq = data['arrival_date_month'].value_counts()\n",
        "freq_pct = data['arrival_date_month'].value_counts(normalize=True).mul(100).round(2)\n",
        "\n",
        "freq_table = pd.DataFrame({'count': freq, 'percent': freq_pct})\n",
        "freq_table"
      ]
    },
    {
      "cell_type": "markdown",
      "metadata": {
        "id": "HCBzrU1n2vaL"
      },
      "source": [
        "##### Moda"
      ]
    },
    {
      "cell_type": "code",
      "execution_count": 19,
      "metadata": {
        "colab": {
          "base_uri": "https://localhost:8080/",
          "height": 115
        },
        "id": "-s3N1JtC2xhT",
        "outputId": "b0c4eb04-c05f-473c-9507-13a89579db56"
      },
      "outputs": [
        {
          "data": {
            "text/plain": [
              "0    August\n",
              "Name: arrival_date_month, dtype: object"
            ]
          },
          "execution_count": 19,
          "metadata": {},
          "output_type": "execute_result"
        }
      ],
      "source": [
        "data['arrival_date_month'].mode()"
      ]
    },
    {
      "cell_type": "markdown",
      "metadata": {
        "id": "9egwKYruoL25"
      },
      "source": [
        "El mes que mas demada tiene es agosto."
      ]
    },
    {
      "cell_type": "markdown",
      "metadata": {
        "id": "kGUyQI7B3LJW"
      },
      "source": [
        "#### Analisis Gráfico"
      ]
    },
    {
      "cell_type": "code",
      "execution_count": 20,
      "metadata": {
        "colab": {
          "base_uri": "https://localhost:8080/",
          "height": 487
        },
        "id": "OAeKZLGX3SjH",
        "outputId": "b3675261-6554-40e6-cf0f-31e5e9f8fe94"
      },
      "outputs": [
        {
          "data": {
            "image/png": "[encoded data removed]",
            "text/plain": [
              "<Figure size 640x480 with 1 Axes>"
            ]
          },
          "metadata": {},
          "output_type": "display_data"
        }
      ],
      "source": [
        "month_order = ['January','February','March','April','May','June',\n",
        "               'July','August','September','October','November','December']\n",
        "\n",
        "freq_ordered = freq_table['count'].reindex(month_order)\n",
        "\n",
        "plt.figure()\n",
        "ax = freq_ordered.plot(kind='bar')\n",
        "ax.set_xlabel('arrival_date_month')\n",
        "ax.set_ylabel('count')\n",
        "ax.set_title('arrival_date_month')\n",
        "\n",
        "for bar in ax.patches:\n",
        "    h = bar.get_height()\n",
        "    ax.annotate(f'{int(h)}', (bar.get_x() + bar.get_width()/2, h),\n",
        "                ha='center', va='bottom', fontsize=9)\n",
        "\n",
        "plt.xticks(rotation=45)\n",
        "plt.tight_layout()\n",
        "plt.show()\n"
      ]
    },
    {
      "cell_type": "markdown",
      "metadata": {
        "id": "kl8fSkWb2qPr"
      },
      "source": [
        "#####"
      ]
    },
    {
      "cell_type": "markdown",
      "metadata": {
        "id": "S90bvTsGoabR"
      },
      "source": [
        "De la tabla y el analisi grafico podemos concluir que los meses que mayor demanda tienen son los meses de verano, mientras que los otros meses de invierno son los que peor demanda tienen."
      ]
    },
    {
      "cell_type": "markdown",
      "metadata": {
        "id": "s1S4K_7zxhAJ"
      },
      "source": [
        "### 1.2.4. customer_type"
      ]
    },
    {
      "cell_type": "markdown",
      "metadata": {
        "id": "bvFuQ7Y66Duj"
      },
      "source": [
        "#### Analisis no gráfico"
      ]
    },
    {
      "cell_type": "markdown",
      "metadata": {
        "id": "Hby1mkRb6XuL"
      },
      "source": [
        "##### Tabla de frecuencia"
      ]
    },
    {
      "cell_type": "code",
      "execution_count": 21,
      "metadata": {
        "colab": {
          "base_uri": "https://localhost:8080/",
          "height": 206
        },
        "id": "nlaxEiXyy1hi",
        "outputId": "2dbba402-0a06-44d9-cbe4-478aebf3db99"
      },
      "outputs": [
        {
          "data": {
            "text/html": [
              "<div>\n",
              "<style scoped>\n",
              "    .dataframe tbody tr th:only-of-type {\n",
              "        vertical-align: middle;\n",
              "    }\n",
              "\n",
              "    .dataframe tbody tr th {\n",
              "        vertical-align: top;\n",
              "    }\n",
              "\n",
              "    .dataframe thead th {\n",
              "        text-align: right;\n",
              "    }\n",
              "</style>\n",
              "<table border=\"1\" class=\"dataframe\">\n",
              "  <thead>\n",
              "    <tr style=\"text-align: right;\">\n",
              "      <th></th>\n",
              "      <th>count</th>\n",
              "      <th>percent</th>\n",
              "    </tr>\n",
              "    <tr>\n",
              "      <th>customer_type</th>\n",
              "      <th></th>\n",
              "      <th></th>\n",
              "    </tr>\n",
              "  </thead>\n",
              "  <tbody>\n",
              "    <tr>\n",
              "      <th>Transient</th>\n",
              "      <td>42430</td>\n",
              "      <td>72.77</td>\n",
              "    </tr>\n",
              "    <tr>\n",
              "      <th>Transient-Party</th>\n",
              "      <td>13078</td>\n",
              "      <td>22.43</td>\n",
              "    </tr>\n",
              "    <tr>\n",
              "      <th>Contract</th>\n",
              "      <td>2486</td>\n",
              "      <td>4.26</td>\n",
              "    </tr>\n",
              "    <tr>\n",
              "      <th>Group</th>\n",
              "      <td>312</td>\n",
              "      <td>0.54</td>\n",
              "    </tr>\n",
              "  </tbody>\n",
              "</table>\n",
              "</div>"
            ],
            "text/plain": [
              "                 count  percent\n",
              "customer_type                  \n",
              "Transient        42430    72.77\n",
              "Transient-Party  13078    22.43\n",
              "Contract          2486     4.26\n",
              "Group              312     0.54"
            ]
          },
          "execution_count": 21,
          "metadata": {},
          "output_type": "execute_result"
        }
      ],
      "source": [
        "freq = data['customer_type'].value_counts()\n",
        "freq_pct = data['customer_type'].value_counts(normalize=True).mul(100).round(2)\n",
        "\n",
        "freq_table = pd.DataFrame({'count': freq, 'percent': freq_pct})\n",
        "freq_table"
      ]
    },
    {
      "cell_type": "markdown",
      "metadata": {
        "id": "lcqxj-df6hNO"
      },
      "source": [
        "##### Moda"
      ]
    },
    {
      "cell_type": "code",
      "execution_count": 22,
      "metadata": {
        "colab": {
          "base_uri": "https://localhost:8080/",
          "height": 115
        },
        "id": "eoqK_HLW6gwK",
        "outputId": "2becf130-158c-4a86-c339-e5bd93c3de85"
      },
      "outputs": [
        {
          "data": {
            "text/plain": [
              "0    Transient\n",
              "Name: customer_type, dtype: object"
            ]
          },
          "execution_count": 22,
          "metadata": {},
          "output_type": "execute_result"
        }
      ],
      "source": [
        "data['customer_type'].mode()"
      ]
    },
    {
      "cell_type": "markdown",
      "metadata": {
        "id": "6YUvoROZABnl"
      },
      "source": [
        "#### Analisis Grafico"
      ]
    },
    {
      "cell_type": "code",
      "execution_count": 23,
      "metadata": {
        "colab": {
          "base_uri": "https://localhost:8080/",
          "height": 562
        },
        "id": "pLuPyNmvABKM",
        "outputId": "131904fb-281a-4842-ecff-7d02dc7717fb"
      },
      "outputs": [
        {
          "data": {
            "image/png": "[encoded data removed]",
            "text/plain": [
              "<Figure size 640x480 with 1 Axes>"
            ]
          },
          "metadata": {},
          "output_type": "display_data"
        }
      ],
      "source": [
        "plt.figure()\n",
        "ax = freq_table['count'].plot(kind='bar')\n",
        "plt.xlabel('customer_type')\n",
        "plt.ylabel('count')\n",
        "plt.title('customer_type')\n",
        "\n",
        "for p in ax.patches:\n",
        "    ax.annotate(str(p.get_height()), (p.get_x() * 1.005, p.get_height() * 1.005))\n",
        "\n",
        "plt.show()"
      ]
    },
    {
      "cell_type": "markdown",
      "metadata": {},
      "source": [
        "La variable customer_type está fuertemente concentrada en reservas Transient (≈72.8%), seguidas por Transient-Party (≈22.4%); las modalidades Contract (≈4.3%) y Group (≈0.5%) son minoritarias. Esto indica que la gran mayoría de clientes reserva de forma individual y sin contrato, mientras que los grupos y contratos corporativos representan una fracción pequeña del volumen. Dado el bajo tamaño muestral de Group (312 casos) —y en menor medida Contract—, cualquier comparación o modelado por categoría debe considerar su alta incertidumbre (intervalos amplios) o, si es necesario, agrupar estas colas para obtener estimaciones más estables."
      ]
    },
    {
      "cell_type": "markdown",
      "metadata": {
        "id": "OaKSuQBCxkyO"
      },
      "source": [
        "### 1.2.5. Deposit Type"
      ]
    },
    {
      "cell_type": "markdown",
      "metadata": {
        "id": "gRfc3kSHB-MK"
      },
      "source": [
        "#### Analisis no grafico"
      ]
    },
    {
      "cell_type": "markdown",
      "metadata": {
        "id": "JevwvTTTaucP"
      },
      "source": [
        "##### Tabla de Frecuencia"
      ]
    },
    {
      "cell_type": "code",
      "execution_count": 24,
      "metadata": {
        "id": "UvOsL300B8hi",
        "outputId": "456d4e69-261c-4847-ba2c-6108249d1126"
      },
      "outputs": [
        {
          "data": {
            "text/html": [
              "<div>\n",
              "<style scoped>\n",
              "    .dataframe tbody tr th:only-of-type {\n",
              "        vertical-align: middle;\n",
              "    }\n",
              "\n",
              "    .dataframe tbody tr th {\n",
              "        vertical-align: top;\n",
              "    }\n",
              "\n",
              "    .dataframe thead th {\n",
              "        text-align: right;\n",
              "    }\n",
              "</style>\n",
              "<table border=\"1\" class=\"dataframe\">\n",
              "  <thead>\n",
              "    <tr style=\"text-align: right;\">\n",
              "      <th></th>\n",
              "      <th>count</th>\n",
              "      <th>percent</th>\n",
              "    </tr>\n",
              "    <tr>\n",
              "      <th>deposit_type</th>\n",
              "      <th></th>\n",
              "      <th></th>\n",
              "    </tr>\n",
              "  </thead>\n",
              "  <tbody>\n",
              "    <tr>\n",
              "      <th>No Deposit</th>\n",
              "      <td>52333</td>\n",
              "      <td>88.86</td>\n",
              "    </tr>\n",
              "    <tr>\n",
              "      <th>Non Refund</th>\n",
              "      <td>5457</td>\n",
              "      <td>9.27</td>\n",
              "    </tr>\n",
              "    <tr>\n",
              "      <th>No Refund</th>\n",
              "      <td>962</td>\n",
              "      <td>1.63</td>\n",
              "    </tr>\n",
              "    <tr>\n",
              "      <th>Refundable</th>\n",
              "      <td>143</td>\n",
              "      <td>0.24</td>\n",
              "    </tr>\n",
              "  </tbody>\n",
              "</table>\n",
              "</div>"
            ],
            "text/plain": [
              "              count  percent\n",
              "deposit_type                \n",
              "No Deposit    52333    88.86\n",
              "Non Refund     5457     9.27\n",
              "No Refund       962     1.63\n",
              "Refundable      143     0.24"
            ]
          },
          "execution_count": 24,
          "metadata": {},
          "output_type": "execute_result"
        }
      ],
      "source": [
        "freq = data['deposit_type'].value_counts()\n",
        "freq_pct = data['deposit_type'].value_counts(normalize=True).mul(100).round(2)\n",
        "\n",
        "freq_table = pd.DataFrame({'count': freq, 'percent': freq_pct})\n",
        "freq_table"
      ]
    },
    {
      "cell_type": "markdown",
      "metadata": {
        "id": "VkQVyollaucP"
      },
      "source": [
        "##### Moda"
      ]
    },
    {
      "cell_type": "code",
      "execution_count": 25,
      "metadata": {
        "id": "wwngVOGUaucP",
        "outputId": "b0e2518a-417f-45d7-ff61-104e62016c72"
      },
      "outputs": [
        {
          "data": {
            "text/plain": [
              "0    No Deposit\n",
              "Name: deposit_type, dtype: object"
            ]
          },
          "execution_count": 25,
          "metadata": {},
          "output_type": "execute_result"
        }
      ],
      "source": [
        "data['deposit_type'].mode()"
      ]
    },
    {
      "cell_type": "markdown",
      "metadata": {
        "id": "nhYBG38raucP"
      },
      "source": [
        "#### Analisis Grafico"
      ]
    },
    {
      "cell_type": "code",
      "execution_count": 26,
      "metadata": {
        "id": "7n5rJxSZaucP",
        "outputId": "f1886de7-aef3-4dcd-d11e-bb4dcba1f5f6"
      },
      "outputs": [
        {
          "data": {
            "image/png": "[encoded data removed]",
            "text/plain": [
              "<Figure size 640x480 with 1 Axes>"
            ]
          },
          "metadata": {},
          "output_type": "display_data"
        }
      ],
      "source": [
        "plt.figure()\n",
        "ax = freq_table['count'].plot(kind='bar')\n",
        "plt.xlabel('deposit_type')\n",
        "plt.ylabel('count')\n",
        "plt.title('deposit_type')\n",
        "\n",
        "for p in ax.patches:\n",
        "    ax.annotate(str(p.get_height()), (p.get_x() * 1.005, p.get_height() * 1.005))\n",
        "\n",
        "plt.show()"
      ]
    },
    {
      "cell_type": "markdown",
      "metadata": {
        "id": "bXiRhWfFBsWw"
      },
      "source": [
        "La variable deposit_type muestra una distribución muy concentrada: No Deposit representa ≈88.9% de las reservas (52 333 casos), Non Refund ≈9.3% (5 457), No Refund ≈1.6% (962) y Refundable apenas ≈0.24% (143). Esto sugiere que, en este conjunto, la práctica habitual es no exigir depósito, mientras que las modalidades con penalización o reembolso son poco frecuentes."
      ]
    },
    {
      "cell_type": "markdown",
      "metadata": {
        "id": "BKDn22K7Rrai"
      },
      "source": [
        "# 2. Estrategia de análisis"
      ]
    },
    {
      "cell_type": "markdown",
      "metadata": {
        "id": "Ky1h1wiCRyCH"
      },
      "source": [
        "El análisis se estructurará a partir de un conjunto de preguntas que se relacionan directamente con los objetivos del negocio para asi tener insights más especificos sobre preguntas concretas:\n",
        "- ¿la tasa de cancelación difiere entre hoteles resort y de ciudad?\n",
        "- ¿En que hotel se inclumple más la asignacion del cuarto de los clientes y como impacta esto en la cancelación?\n",
        "- ¿Qué habitaciones presentan mayores tasas de cancelación por hotel?\n",
        "- ¿Como se comporta la demanda de los hoteles a lo largo del año?\n",
        "- ¿El tiempo de anticipación de la reserva (lead_time) influye en la probabilidad de cancelación?\n",
        "- ¿El tipo de deposito influye en la probabilidad de cancelación?\n",
        "- ¿Los clientes con previas cancelaciones tienden a reincidir?\n",
        "- ¿Los clientes frecuentes tienden a cancelar mas/menos que los clientes que reservan por primera vez?\n",
        "\n",
        "\n",
        "Para dar respuesta a las preguntas planteadas, se aplicará un conjunto de técnicas de análisis adaptadas a cada variable. En primer lugar, la comparación de la tasa de cancelación entre hoteles resort y de ciudad se abordará mediante tablas de contingencia, gráficos de barras y pruebas de hipótesis de proporciones (chi-cuadrado y z-test), complementadas con el cálculo de Cramér’s V como medida de efecto. El incumplimiento en la asignación de habitaciones se estudiará a través de cruces entre el tipo de hotel y la diferencia entre cuarto reservado y asignado, observando cancelaciones asociadas con un enfoque descriptivo. Para identificar las habitaciones con mayor cancelación por hotel, se calcularán proporciones y se aplicarán pruebas chi-cuadrado de independencia. El comportamiento de la demanda a lo largo del año se analizará de manera descriptiva, agrupando reservas por mes y graficando tendencias estacionales. La influencia del lead_time en la cancelación se evaluará con un análisis univariado de su distribución y posteriormente con pruebas t de Welch y Mann-Whitney, apoyadas en tamaños de efecto. En el caso del tipo de depósito, se construirán tablas y se aplicará chi-cuadrado para medir la asociación con la cancelación. La recurrencia de clientes con cancelaciones previas se examinará a través de proporciones y gráficas de tendencia, mientras que la diferencia entre clientes frecuentes y nuevos se analizará con proporciones, gráficos comparativos y pruebas de hipótesis."
      ]
    },
    {
      "cell_type": "markdown",
      "metadata": {
        "id": "RLNBykomSgIx"
      },
      "source": [
        "# 3. Desarrollo de la estrategía"
      ]
    },
    {
      "cell_type": "markdown",
      "metadata": {
        "id": "k3XhNuTaGyvK"
      },
      "source": [
        "### 3.1. ¿La tasa de cancelación difiere entre hoteles resort y de ciudad?"
      ]
    },
    {
      "cell_type": "markdown",
      "metadata": {
        "id": "lkfjNAM_LJKY"
      },
      "source": [
        "Para responder esta pregunta no fue necesario hacer un tratamiento de los datos. Sin embargo, se va aplicar un tecnica de estadistica inferencial para contestar la pregunta. Especificamente la prueba de chi-cuadrado que permite investigar la relación entre variables categoricas."
      ]
    },
    {
      "cell_type": "code",
      "execution_count": 27,
      "metadata": {
        "colab": {
          "base_uri": "https://localhost:8080/",
          "height": 143
        },
        "id": "6XTEiy1oG6JW",
        "outputId": "d4a11905-4650-4276-df0e-b40bc5589344"
      },
      "outputs": [
        {
          "data": {
            "text/html": [
              "<div>\n",
              "<style scoped>\n",
              "    .dataframe tbody tr th:only-of-type {\n",
              "        vertical-align: middle;\n",
              "    }\n",
              "\n",
              "    .dataframe tbody tr th {\n",
              "        vertical-align: top;\n",
              "    }\n",
              "\n",
              "    .dataframe thead th {\n",
              "        text-align: right;\n",
              "    }\n",
              "</style>\n",
              "<table border=\"1\" class=\"dataframe\">\n",
              "  <thead>\n",
              "    <tr style=\"text-align: right;\">\n",
              "      <th></th>\n",
              "      <th>No Cancel</th>\n",
              "      <th>Cancel</th>\n",
              "      <th>n_total</th>\n",
              "      <th>cancel_rate</th>\n",
              "    </tr>\n",
              "    <tr>\n",
              "      <th>hotel</th>\n",
              "      <th></th>\n",
              "      <th></th>\n",
              "      <th></th>\n",
              "      <th></th>\n",
              "    </tr>\n",
              "  </thead>\n",
              "  <tbody>\n",
              "    <tr>\n",
              "      <th>City Hotel</th>\n",
              "      <td>5727</td>\n",
              "      <td>13105</td>\n",
              "      <td>18832</td>\n",
              "      <td>0.695890</td>\n",
              "    </tr>\n",
              "    <tr>\n",
              "      <th>Resort Hotel</th>\n",
              "      <td>28939</td>\n",
              "      <td>11124</td>\n",
              "      <td>40063</td>\n",
              "      <td>0.277663</td>\n",
              "    </tr>\n",
              "  </tbody>\n",
              "</table>\n",
              "</div>"
            ],
            "text/plain": [
              "              No Cancel  Cancel  n_total  cancel_rate\n",
              "hotel                                                \n",
              "City Hotel         5727   13105    18832     0.695890\n",
              "Resort Hotel      28939   11124    40063     0.277663"
            ]
          },
          "execution_count": 27,
          "metadata": {},
          "output_type": "execute_result"
        }
      ],
      "source": [
        "ct = pd.crosstab(data['hotel'], data['is_canceled']).sort_index()\n",
        "ct = ct.reindex(columns=[0, 1], fill_value=0)\n",
        "ct.columns = ['No Cancel', 'Cancel']\n",
        "\n",
        "summary = ct.copy()\n",
        "summary['n_total'] = summary.sum(axis=1)\n",
        "summary['cancel_rate'] = summary['Cancel'] / summary['n_total']\n",
        "summary"
      ]
    },
    {
      "cell_type": "markdown",
      "metadata": {
        "id": "ga7AZ8Ebo0yP"
      },
      "source": [
        "Se procede a plantear la siguiente hipotesis de la prueba Chi-Cuadrado.\n",
        "La proporción de reservas canceladas es igual en los hoteles de ciudad y en los hoteles resort.\n",
        "$$H_{0}:p_{city}=p_{resort}$$\n",
        "$$H_{1}:¬H_{0}$$"
      ]
    },
    {
      "cell_type": "code",
      "execution_count": 28,
      "metadata": {
        "colab": {
          "base_uri": "https://localhost:8080/"
        },
        "id": "D5LwZP59jTUm",
        "outputId": "41a86a3e-c4c0-478f-bc85-cd18358c24a9"
      },
      "outputs": [
        {
          "name": "stdout",
          "output_type": "stream",
          "text": [
            "Chi=9253.4537, gl=1, p=0.000000\n",
            "Cramér's V=0.3964 | Cramér's V (corr)=0.3964\n"
          ]
        }
      ],
      "source": [
        "chi2, pvalue, dof, expected = chi2_contingency(ct.values, correction=False)\n",
        "\n",
        "n = ct.values.sum()\n",
        "r, k = ct.shape\n",
        "cramers_v = np.sqrt(chi2 / (n * (min(r, k) - 1)))\n",
        "\n",
        "phi2 = chi2 / n\n",
        "phi2_corr = max(0, phi2 - ((k - 1) * (r - 1)) / (n - 1))\n",
        "r_corr = r - ((r - 1) ** 2) / (n - 1)\n",
        "k_corr = k - ((k - 1) ** 2) / (n - 1)\n",
        "cramers_v_corr = np.sqrt(phi2_corr / max(1e-12, min(r_corr - 1, k_corr - 1)))\n",
        "\n",
        "print(f\"Chi={chi2:.4f}, gl={dof}, p={pvalue:.6f}\")\n",
        "print(f\"Cramér's V={cramers_v:.4f} | Cramér's V (corr)={cramers_v_corr:.4f}\")"
      ]
    },
    {
      "cell_type": "markdown",
      "metadata": {
        "id": "PgcJC_uqnVou"
      },
      "source": [
        "Se rechaza $H_{0}$, dado un valor de chi-cuadrado tan alto y un p-value menor a la significancia de 0.05.Dado lo anterior, existe evidencia estadísticamente significativa de que la tasa de cancelación depende del tipo de hotel. Ahora bien el tamaño del efecto es moderado dado su valor de Cramer de 0.39, lo que implica que implica que el tipo de hotel explica una parte importante de la variación en las cancelaciones: los clientes del City Hotel presentan una tasa de cancelación considerablemente más alta que los del Resort Hotel. Este hallazgo sugiere que la cadena hotelera debería considerar políticas diferenciadas de gestión de reservas, precios o depósitos según el tipo de establecimiento, ya que el riesgo de cancelación no es homogéneo entre ambos."
      ]
    },
    {
      "cell_type": "code",
      "execution_count": 29,
      "metadata": {
        "colab": {
          "base_uri": "https://localhost:8080/",
          "height": 487
        },
        "id": "gl8Juj4J8yTr",
        "outputId": "359c0fd1-daba-4193-e897-7ce700ef98e4"
      },
      "outputs": [
        {
          "data": {
            "image/png": "[encoded data removed]",
            "text/plain": [
              "<Figure size 640x480 with 1 Axes>"
            ]
          },
          "metadata": {},
          "output_type": "display_data"
        }
      ],
      "source": [
        "ax = summary['cancel_rate'].plot(kind='bar' )\n",
        "ax.set_xlabel('Tipo de hotel')\n",
        "ax.set_ylabel('Tasa de cancelación')\n",
        "ax.set_title('Tasa de cancelación por tipo de hotel')\n",
        "plt.xticks(rotation=0, ha='center')\n",
        "\n",
        "for p in ax.patches:\n",
        "    ax.annotate(f\"{p.get_height():.2f}\", (p.get_x() + p.get_width() / 2., p.get_height()),\n",
        "                ha='center', va='center', xytext=(0, 5), textcoords='offset points')\n",
        "\n",
        "plt.tight_layout()\n",
        "plt.show()"
      ]
    },
    {
      "cell_type": "markdown",
      "metadata": {
        "id": "iu1_5T_Q-65i"
      },
      "source": [
        "El primer insight que nos llevamos es que entre los hoteles disponibles el hotel de ciudad tiene más cancelaciones pero muchas menos reservaciones en total. Estadisticamente la diferencia entre cancelaciones entre ambos hoteles significativa. Según la grafica el hotel de la ciudad obtiene 70% de cancelaciones mientras que el hotel del Resort obtiene 28%."
      ]
    },
    {
      "cell_type": "markdown",
      "metadata": {
        "id": "Q36VUPE4BOiL"
      },
      "source": [
        "### 3.2. ¿En que hotel se inclumple más la asignacion del cuarto de los clientes y como impacta esto en la cancelación?"
      ]
    },
    {
      "cell_type": "code",
      "execution_count": 30,
      "metadata": {
        "colab": {
          "base_uri": "https://localhost:8080/",
          "height": 507
        },
        "id": "Ff9RDhfGBmVq",
        "outputId": "c9fcde47-2d1b-496d-e585-dc5f0c4afdf6"
      },
      "outputs": [
        {
          "data": {
            "image/png": "[encoded data removed]",
            "text/plain": [
              "<Figure size 800x500 with 1 Axes>"
            ]
          },
          "metadata": {},
          "output_type": "display_data"
        }
      ],
      "source": [
        "data['incumplimiento'] = data['reserved_room_type'] != data['assigned_room_type']\n",
        "\n",
        "inc = data[data['incumplimiento']]\n",
        "\n",
        "resumen = (\n",
        "    inc.groupby(['hotel', 'is_canceled'])\n",
        "       .size()\n",
        "       .unstack(fill_value=0)\n",
        "       .rename(columns={0: 'No cancelado', 1: 'Cancelado'})\n",
        ")\n",
        "\n",
        "ax = resumen.plot(kind='bar', figsize=(8,5))\n",
        "\n",
        "ax.set_ylabel(\"Número de reservas\")\n",
        "ax.set_xlabel(\"Hotel\")\n",
        "ax.set_title(\"Incumplimiento de asignación: canceladas vs no canceladas\")\n",
        "for p in ax.patches:\n",
        "    ax.annotate(str(p.get_height()), (p.get_x() * 1.005, p.get_height() * 1.005))\n",
        "plt.xticks(rotation=0)\n",
        "plt.tight_layout()\n",
        "plt.show()"
      ]
    },
    {
      "cell_type": "markdown",
      "metadata": {
        "id": "jgLhmUGUFWQH"
      },
      "source": [
        "El insight que se obtiene con este apartado del incumplimiento del hotel al momento de entregar un cuarto basado en una seleccion del cliente. Podemos ver que la cancelación no se ve afectada si los clientes no obtuvieron el cuarto que esperaban, pues segun las graficas los valores de cancelacion son pequeños a comparacion de los no cancelados cuando se incumplio con la asignacion de un cuarto para ambos hoteles."
      ]
    },
    {
      "cell_type": "markdown",
      "metadata": {
        "id": "Ar1eE54ZG1ke"
      },
      "source": [
        "### 3.3. ¿Qué habitaciones presentan mayores tasas de cancelación por hotel?"
      ]
    },
    {
      "cell_type": "code",
      "execution_count": 31,
      "metadata": {
        "colab": {
          "base_uri": "https://localhost:8080/",
          "height": 645
        },
        "id": "Hv_m6kQuHPJh",
        "outputId": "24ca511b-4bdc-4d1b-d18c-590f52f699ca"
      },
      "outputs": [
        {
          "data": {
            "text/html": [
              "<div>\n",
              "<style scoped>\n",
              "    .dataframe tbody tr th:only-of-type {\n",
              "        vertical-align: middle;\n",
              "    }\n",
              "\n",
              "    .dataframe tbody tr th {\n",
              "        vertical-align: top;\n",
              "    }\n",
              "\n",
              "    .dataframe thead th {\n",
              "        text-align: right;\n",
              "    }\n",
              "</style>\n",
              "<table border=\"1\" class=\"dataframe\">\n",
              "  <thead>\n",
              "    <tr style=\"text-align: right;\">\n",
              "      <th></th>\n",
              "      <th>hotel</th>\n",
              "      <th>assigned_room_type</th>\n",
              "      <th>cancelations</th>\n",
              "      <th>total</th>\n",
              "      <th>rate</th>\n",
              "    </tr>\n",
              "  </thead>\n",
              "  <tbody>\n",
              "    <tr>\n",
              "      <th>0</th>\n",
              "      <td>City Hotel</td>\n",
              "      <td>A</td>\n",
              "      <td>10541</td>\n",
              "      <td>14343</td>\n",
              "      <td>73.492296</td>\n",
              "    </tr>\n",
              "    <tr>\n",
              "      <th>5</th>\n",
              "      <td>City Hotel</td>\n",
              "      <td>F</td>\n",
              "      <td>317</td>\n",
              "      <td>443</td>\n",
              "      <td>71.557562</td>\n",
              "    </tr>\n",
              "    <tr>\n",
              "      <th>2</th>\n",
              "      <td>City Hotel</td>\n",
              "      <td>C</td>\n",
              "      <td>7</td>\n",
              "      <td>11</td>\n",
              "      <td>63.636364</td>\n",
              "    </tr>\n",
              "    <tr>\n",
              "      <th>6</th>\n",
              "      <td>City Hotel</td>\n",
              "      <td>G</td>\n",
              "      <td>40</td>\n",
              "      <td>64</td>\n",
              "      <td>62.500000</td>\n",
              "    </tr>\n",
              "    <tr>\n",
              "      <th>3</th>\n",
              "      <td>City Hotel</td>\n",
              "      <td>D</td>\n",
              "      <td>1776</td>\n",
              "      <td>2997</td>\n",
              "      <td>59.259259</td>\n",
              "    </tr>\n",
              "    <tr>\n",
              "      <th>4</th>\n",
              "      <td>City Hotel</td>\n",
              "      <td>E</td>\n",
              "      <td>151</td>\n",
              "      <td>289</td>\n",
              "      <td>52.249135</td>\n",
              "    </tr>\n",
              "    <tr>\n",
              "      <th>1</th>\n",
              "      <td>City Hotel</td>\n",
              "      <td>B</td>\n",
              "      <td>271</td>\n",
              "      <td>662</td>\n",
              "      <td>40.936556</td>\n",
              "    </tr>\n",
              "    <tr>\n",
              "      <th>7</th>\n",
              "      <td>City Hotel</td>\n",
              "      <td>K</td>\n",
              "      <td>2</td>\n",
              "      <td>23</td>\n",
              "      <td>8.695652</td>\n",
              "    </tr>\n",
              "    <tr>\n",
              "      <th>17</th>\n",
              "      <td>Resort Hotel</td>\n",
              "      <td>L</td>\n",
              "      <td>1</td>\n",
              "      <td>1</td>\n",
              "      <td>100.000000</td>\n",
              "    </tr>\n",
              "    <tr>\n",
              "      <th>18</th>\n",
              "      <td>Resort Hotel</td>\n",
              "      <td>P</td>\n",
              "      <td>2</td>\n",
              "      <td>2</td>\n",
              "      <td>100.000000</td>\n",
              "    </tr>\n",
              "    <tr>\n",
              "      <th>8</th>\n",
              "      <td>Resort Hotel</td>\n",
              "      <td>A</td>\n",
              "      <td>6048</td>\n",
              "      <td>17048</td>\n",
              "      <td>35.476302</td>\n",
              "    </tr>\n",
              "    <tr>\n",
              "      <th>15</th>\n",
              "      <td>Resort Hotel</td>\n",
              "      <td>H</td>\n",
              "      <td>251</td>\n",
              "      <td>712</td>\n",
              "      <td>35.252809</td>\n",
              "    </tr>\n",
              "    <tr>\n",
              "      <th>14</th>\n",
              "      <td>Resort Hotel</td>\n",
              "      <td>G</td>\n",
              "      <td>651</td>\n",
              "      <td>1853</td>\n",
              "      <td>35.132218</td>\n",
              "    </tr>\n",
              "    <tr>\n",
              "      <th>12</th>\n",
              "      <td>Resort Hotel</td>\n",
              "      <td>E</td>\n",
              "      <td>1428</td>\n",
              "      <td>5638</td>\n",
              "      <td>25.328131</td>\n",
              "    </tr>\n",
              "    <tr>\n",
              "      <th>11</th>\n",
              "      <td>Resort Hotel</td>\n",
              "      <td>D</td>\n",
              "      <td>2089</td>\n",
              "      <td>10339</td>\n",
              "      <td>20.205049</td>\n",
              "    </tr>\n",
              "    <tr>\n",
              "      <th>10</th>\n",
              "      <td>Resort Hotel</td>\n",
              "      <td>C</td>\n",
              "      <td>431</td>\n",
              "      <td>2214</td>\n",
              "      <td>19.467028</td>\n",
              "    </tr>\n",
              "    <tr>\n",
              "      <th>13</th>\n",
              "      <td>Resort Hotel</td>\n",
              "      <td>F</td>\n",
              "      <td>209</td>\n",
              "      <td>1734</td>\n",
              "      <td>12.053057</td>\n",
              "    </tr>\n",
              "    <tr>\n",
              "      <th>9</th>\n",
              "      <td>Resort Hotel</td>\n",
              "      <td>B</td>\n",
              "      <td>9</td>\n",
              "      <td>159</td>\n",
              "      <td>5.660377</td>\n",
              "    </tr>\n",
              "    <tr>\n",
              "      <th>16</th>\n",
              "      <td>Resort Hotel</td>\n",
              "      <td>I</td>\n",
              "      <td>5</td>\n",
              "      <td>363</td>\n",
              "      <td>1.377410</td>\n",
              "    </tr>\n",
              "  </tbody>\n",
              "</table>\n",
              "</div>"
            ],
            "text/plain": [
              "           hotel assigned_room_type  cancelations  total        rate\n",
              "0     City Hotel                  A         10541  14343   73.492296\n",
              "5     City Hotel                  F           317    443   71.557562\n",
              "2     City Hotel                  C             7     11   63.636364\n",
              "6     City Hotel                  G            40     64   62.500000\n",
              "3     City Hotel                  D          1776   2997   59.259259\n",
              "4     City Hotel                  E           151    289   52.249135\n",
              "1     City Hotel                  B           271    662   40.936556\n",
              "7     City Hotel                  K             2     23    8.695652\n",
              "17  Resort Hotel                  L             1      1  100.000000\n",
              "18  Resort Hotel                  P             2      2  100.000000\n",
              "8   Resort Hotel                  A          6048  17048   35.476302\n",
              "15  Resort Hotel                  H           251    712   35.252809\n",
              "14  Resort Hotel                  G           651   1853   35.132218\n",
              "12  Resort Hotel                  E          1428   5638   25.328131\n",
              "11  Resort Hotel                  D          2089  10339   20.205049\n",
              "10  Resort Hotel                  C           431   2214   19.467028\n",
              "13  Resort Hotel                  F           209   1734   12.053057\n",
              "9   Resort Hotel                  B             9    159    5.660377\n",
              "16  Resort Hotel                  I             5    363    1.377410"
            ]
          },
          "execution_count": 31,
          "metadata": {},
          "output_type": "execute_result"
        }
      ],
      "source": [
        "\n",
        "# Agrupar por hotel y tipo de habitación reservada\n",
        "grp = (\n",
        "    data.groupby(['hotel', 'assigned_room_type'])['is_canceled']\n",
        "      .agg(cancelations='sum', total='count', rate=lambda s: s.mean()*100)\n",
        "      .reset_index()\n",
        "      .sort_values(['hotel', 'rate'], ascending=[True, False])\n",
        ")\n",
        "\n",
        "grp"
      ]
    },
    {
      "cell_type": "code",
      "execution_count": 32,
      "metadata": {
        "colab": {
          "base_uri": "https://localhost:8080/",
          "height": 507
        },
        "id": "xZbqbRKaJlwb",
        "outputId": "29a16333-2cc3-4f92-e4c1-984ead07ec72"
      },
      "outputs": [
        {
          "data": {
            "image/png": "[encoded data removed]",
            "text/plain": [
              "<Figure size 800x500 with 1 Axes>"
            ]
          },
          "metadata": {},
          "output_type": "display_data"
        }
      ],
      "source": [
        "city = grp[grp['hotel'] == 'City Hotel'].sort_values('total', ascending=False)\n",
        "\n",
        "plt.figure(figsize=(8,5))\n",
        "plt.bar(city['assigned_room_type'], city['rate'])\n",
        "plt.title(\"Tasa de cancelación por tipo de habitación - City Hotel\")\n",
        "plt.ylabel(\"% cancelación\")\n",
        "plt.xlabel(\"Tipo de habitación asignada\")\n",
        "\n",
        "for i, (x,y) in enumerate(zip(city['assigned_room_type'], city['rate'])):\n",
        "    plt.text(i, y, f\"{y:.1f}%\", ha='center', va='bottom')\n",
        "\n",
        "plt.tight_layout()\n",
        "plt.show()"
      ]
    },
    {
      "cell_type": "markdown",
      "metadata": {
        "id": "cYv1M7w4li8O"
      },
      "source": [
        "En el City Hotel, la mayoría de las habitaciones presentan una tasa de cancelación alta, con excepción de las habitaciones B y K, que registran los niveles más bajos. Mientras se realiza un análisis más profundo de las posibles causas de insatisfacción en los otros tipos de habitaciones, una medida táctica inmediata sería realizar upgrades hacia las habitaciones B y K en periodos de baja demanda, capitalizando su mejor aceptación entre los clientes. Esta estrategia no solo ayudaría a mejorar la experiencia del huésped, sino que también contribuiría a estabilizar la ocupación en el corto plazo."
      ]
    },
    {
      "cell_type": "code",
      "execution_count": 33,
      "metadata": {
        "colab": {
          "base_uri": "https://localhost:8080/",
          "height": 507
        },
        "id": "v5QmuP3WJoq8",
        "outputId": "e1cd835a-3a7f-4425-ea41-e1c17d75c7d9"
      },
      "outputs": [
        {
          "data": {
            "image/png": "[encoded data removed]",
            "text/plain": [
              "<Figure size 800x500 with 1 Axes>"
            ]
          },
          "metadata": {},
          "output_type": "display_data"
        }
      ],
      "source": [
        "resort = grp[grp['hotel'] == 'Resort Hotel'].sort_values('total', ascending=False)\n",
        "\n",
        "plt.figure(figsize=(8,5))\n",
        "plt.bar(resort['assigned_room_type'], resort['rate'])\n",
        "plt.title(\"Tasa de cancelación por tipo de habitación - Resort Hotel\")\n",
        "plt.ylabel(\"% cancelación\")\n",
        "plt.xlabel(\"Tipo de habitación asignada\")\n",
        "\n",
        "for i, (x,y) in enumerate(zip(resort['assigned_room_type'], resort['rate'])):\n",
        "    plt.text(i, y, f\"{y:.1f}%\", ha='center', va='bottom')\n",
        "\n",
        "plt.tight_layout()\n",
        "plt.show()"
      ]
    },
    {
      "cell_type": "markdown",
      "metadata": {
        "id": "rrE8VxI1ltHf"
      },
      "source": [
        "En el Resort Hotel, la cancelación por tipo de habitación se encuentra más distribuida entre varias categorías, destacando tasas elevadas en las habitaciones A, G, H, P y L. Esta concentración sugiere que no se trata de un caso aislado, sino de un patrón que podría estar asociado a características específicas de estas habitaciones. Para tomar medidas efectivas, es recomendable complementar el análisis con información de satisfacción de clientes y retroalimentación directa, lo que permitiría identificar con mayor precisión los factores que generan inconformidad y orientar las acciones correctivas."
      ]
    },
    {
      "cell_type": "markdown",
      "metadata": {
        "id": "68F66uzBKmU1"
      },
      "source": [
        "### 3.4. ¿Como se comporta la demanda de los hoteles a lo largo del año?"
      ]
    },
    {
      "cell_type": "code",
      "execution_count": 34,
      "metadata": {
        "colab": {
          "base_uri": "https://localhost:8080/",
          "height": 143
        },
        "id": "eB9eUBTHKwE7",
        "outputId": "2d1a7bd9-fd3a-4a26-d3ac-3752c81a49b9"
      },
      "outputs": [
        {
          "data": {
            "text/html": [
              "<div>\n",
              "<style scoped>\n",
              "    .dataframe tbody tr th:only-of-type {\n",
              "        vertical-align: middle;\n",
              "    }\n",
              "\n",
              "    .dataframe tbody tr th {\n",
              "        vertical-align: top;\n",
              "    }\n",
              "\n",
              "    .dataframe thead th {\n",
              "        text-align: right;\n",
              "    }\n",
              "</style>\n",
              "<table border=\"1\" class=\"dataframe\">\n",
              "  <thead>\n",
              "    <tr style=\"text-align: right;\">\n",
              "      <th>arrival_date_month</th>\n",
              "      <th>April</th>\n",
              "      <th>August</th>\n",
              "      <th>December</th>\n",
              "      <th>February</th>\n",
              "      <th>January</th>\n",
              "      <th>July</th>\n",
              "      <th>June</th>\n",
              "      <th>March</th>\n",
              "      <th>May</th>\n",
              "      <th>November</th>\n",
              "      <th>October</th>\n",
              "      <th>September</th>\n",
              "    </tr>\n",
              "    <tr>\n",
              "      <th>hotel</th>\n",
              "      <th></th>\n",
              "      <th></th>\n",
              "      <th></th>\n",
              "      <th></th>\n",
              "      <th></th>\n",
              "      <th></th>\n",
              "      <th></th>\n",
              "      <th></th>\n",
              "      <th></th>\n",
              "      <th></th>\n",
              "      <th></th>\n",
              "      <th></th>\n",
              "    </tr>\n",
              "  </thead>\n",
              "  <tbody>\n",
              "    <tr>\n",
              "      <th>City Hotel</th>\n",
              "      <td>1575</td>\n",
              "      <td>2821</td>\n",
              "      <td>473</td>\n",
              "      <td>727</td>\n",
              "      <td>565</td>\n",
              "      <td>1604</td>\n",
              "      <td>1680</td>\n",
              "      <td>1156</td>\n",
              "      <td>1723</td>\n",
              "      <td>420</td>\n",
              "      <td>2484</td>\n",
              "      <td>3604</td>\n",
              "    </tr>\n",
              "    <tr>\n",
              "      <th>Resort Hotel</th>\n",
              "      <td>3610</td>\n",
              "      <td>4894</td>\n",
              "      <td>2648</td>\n",
              "      <td>3103</td>\n",
              "      <td>2193</td>\n",
              "      <td>4573</td>\n",
              "      <td>3045</td>\n",
              "      <td>3336</td>\n",
              "      <td>3560</td>\n",
              "      <td>2437</td>\n",
              "      <td>3556</td>\n",
              "      <td>3108</td>\n",
              "    </tr>\n",
              "  </tbody>\n",
              "</table>\n",
              "</div>"
            ],
            "text/plain": [
              "arrival_date_month  April  August  December  February  January  July  June  \\\n",
              "hotel                                                                        \n",
              "City Hotel           1575    2821       473       727      565  1604  1680   \n",
              "Resort Hotel         3610    4894      2648      3103     2193  4573  3045   \n",
              "\n",
              "arrival_date_month  March   May  November  October  September  \n",
              "hotel                                                          \n",
              "City Hotel           1156  1723       420     2484       3604  \n",
              "Resort Hotel         3336  3560      2437     3556       3108  "
            ]
          },
          "execution_count": 34,
          "metadata": {},
          "output_type": "execute_result"
        }
      ],
      "source": [
        "ct = pd.crosstab(\n",
        "    data['hotel'],\n",
        "    data['arrival_date_month'],\n",
        "    dropna=False\n",
        ").sort_index()\n",
        "ct"
      ]
    },
    {
      "cell_type": "code",
      "execution_count": 35,
      "metadata": {
        "colab": {
          "base_uri": "https://localhost:8080/",
          "height": 1000
        },
        "id": "DKy9S3-1PQoC",
        "outputId": "0c1d0792-a162-4e9e-9724-d96518ca7a79"
      },
      "outputs": [
        {
          "data": {
            "image/png": "[encoded data removed]",
            "text/plain": [
              "<Figure size 1000x1000 with 2 Axes>"
            ]
          },
          "metadata": {},
          "output_type": "display_data"
        }
      ],
      "source": [
        "month_order = ['January', 'February', 'March', 'April', 'May', 'June', 'July', 'August', 'September', 'October', 'November', 'December']\n",
        "\n",
        "city_hotel_demand = ct.loc['City Hotel', month_order]\n",
        "resort_hotel_demand = ct.loc['Resort Hotel', month_order]\n",
        "\n",
        "fig, axes = plt.subplots(nrows=2, ncols=1, figsize=(10, 10))\n",
        "\n",
        "# City Hotel\n",
        "ax1 = city_hotel_demand.plot(kind='bar', ax=axes[0])\n",
        "ax1.set_xlabel('Mes')\n",
        "ax1.set_ylabel('Número de reservas')\n",
        "ax1.set_title('Demanda de City Hotel por mes')\n",
        "ax1.tick_params(axis='x', rotation=45)\n",
        "for p in ax1.patches:\n",
        "    ax1.annotate(str(p.get_height()), (p.get_x() * 1.005, p.get_height() * 1.005))\n",
        "\n",
        "\n",
        "# Resort Hote\n",
        "ax2 = resort_hotel_demand.plot(kind='bar', ax=axes[1], color='orange')\n",
        "ax2.set_xlabel('Mes')\n",
        "ax2.set_ylabel('Número de reservas')\n",
        "ax2.set_title('Demanda de Resort Hotel por mes')\n",
        "ax2.tick_params(axis='x', rotation=45)\n",
        "for p in ax2.patches:\n",
        "    ax2.annotate(str(p.get_height()), (p.get_x() * 1.005, p.get_height() * 1.005))\n",
        "\n",
        "\n",
        "plt.tight_layout()\n",
        "plt.show()"
      ]
    },
    {
      "cell_type": "markdown",
      "metadata": {
        "id": "2GucXg6LlMCB"
      },
      "source": [
        "El City Hotel presenta su mayor demanda en los meses de agosto, septiembre y octubre, mientras que entre marzo y julio mantiene un comportamiento estable pero sin picos destacados. Sin embargo, enero, febrero, noviembre y diciembre muestran niveles de ocupación muy bajos, lo que representa una oportunidad de mejora. Para estos meses críticos, se recomienda diseñar estrategias específicas para estimular la demanda, como la creación de eventos temáticos de fin de año y navidad en diciembre, así como la aplicación de tarifas promocionales o descuentos especiales que sirvan de incentivo para captar huéspedes adicionales.\n",
        "\n",
        "En el caso del Resort Hotel, la demanda se concentra principalmente durante los meses de verano, donde las reservaciones alcanzan sus niveles más altos. No obstante, noviembre, diciembre y enero reflejan una baja significativa en la ocupación. Dado que este hotel se orienta a estadías familiares o de grupos, una estrategia efectiva sería incrementar la oferta de actividades y eventos en temporada baja, reforzando la propuesta de valor del resort en esos meses. Esto permitiría atraer clientes mediante experiencias diferenciadas que complementen la estadía, reduciendo así la marcada estacionalidad de su demanda."
      ]
    },
    {
      "cell_type": "markdown",
      "metadata": {
        "id": "25Rt9ebQaWj7"
      },
      "source": [
        "### 3.5. ¿El tiempo de anticipación de la reserva (lead_time) influye en la probabilidad de cancelación?"
      ]
    },
    {
      "cell_type": "markdown",
      "metadata": {
        "id": "ssRK0bzbaucR"
      },
      "source": [
        "Para probar esto realizamos una prueba de hipotesis basado en regresion logistica.\n",
        "\n",
        "H0 (nula): el tiempo de anticipación no influye en la probabilidad de cancelación\n",
        "\n",
        "𝐻0:𝛽lead_time=0\t​\n",
        "\n",
        "H1 (alternativa): el tiempo de anticipación sí influye\n",
        "\n",
        "𝐻1:𝛽lead_time≠0"
      ]
    },
    {
      "cell_type": "code",
      "execution_count": 36,
      "metadata": {
        "id": "z8wz2sGUaqZu",
        "outputId": "f25678a4-0d20-4ab2-f5a4-eb686cd3122a"
      },
      "outputs": [
        {
          "name": "stdout",
          "output_type": "stream",
          "text": [
            "=== Prueba principal (Logit univariante) ===\n",
            "N = 58895  |  Pseudo-R² (McFadden) = 0.0444  |  AIC = 76246.0  |  BIC = 76264.0\n",
            "H0: β_lead_time = 0   vs   H1: β_lead_time ≠ 0   (α = 0.05)\n",
            "Coeficiente β: 0.005054\n",
            "p-valor (Wald): 0\n",
            "OR (+1 día): 1.005   |  IC95% OR: [1.005, 1.005]\n",
            "OR (+30 días): 1.164\n",
            "Decisión: RECHAZAS H0 (sí influye)\n",
            "{'n': 58895, 'p_value': 0.0, 'beta': 0.0050537480362738505, 'odds_ratio_1d': 1.0050665397605199, 'odds_ratio_30d': 1.1637091431759898, 'ci95_or': (1.004892421868145, 1.0052406878223334), 'pseudo_r2_mcfadden': 0.044423945099940076, 'aic': 76245.99490721505, 'bic': 76263.96193016783, 'reject_H0': True, 'decision_text': 'RECHAZAS H0 (sí influye)'}\n"
          ]
        }
      ],
      "source": [
        "# --- Prueba de hipótesis: ¿lead_time influye en la probabilidad de cancelación? ---\n",
        "# H0: beta_lead_time = 0  (no influye)\n",
        "# H1: beta_lead_time ≠ 0  (sí influye)\n",
        "\n",
        "import pandas as pd\n",
        "import numpy as np\n",
        "import statsmodels.formula.api as smf\n",
        "\n",
        "def probar_hipotesis_lead_time(df: pd.DataFrame, alpha: float = 0.05):\n",
        "    # 1) Validaciones mínimas\n",
        "    for col in [\"is_canceled\", \"lead_time\"]:\n",
        "        if col not in df.columns:\n",
        "            raise ValueError(f\"Falta la columna requerida: {col}\")\n",
        "\n",
        "    # 2) Limpieza básica y tipos\n",
        "    tmp = df[[\"is_canceled\", \"lead_time\"]].copy()\n",
        "    tmp = tmp.dropna(subset=[\"is_canceled\", \"lead_time\"])\n",
        "    tmp[\"is_canceled\"] = tmp[\"is_canceled\"].astype(int)\n",
        "    tmp[\"lead_time\"]   = pd.to_numeric(tmp[\"lead_time\"], errors=\"coerce\")\n",
        "    tmp = tmp.dropna(subset=[\"lead_time\"])\n",
        "    nobs = len(tmp)\n",
        "    if nobs < 50:\n",
        "        print(f\"[Aviso] Muestra pequeña para Logit (n={nobs}). Interpreta con cautela.\")\n",
        "\n",
        "    # 3) Ajuste logit univariante (manejo de errores numéricos)\n",
        "    try:\n",
        "        model = smf.logit(\"is_canceled ~ lead_time\", data=tmp).fit(disp=False, maxiter=200)\n",
        "    except Exception as e:\n",
        "        raise RuntimeError(f\"Error al ajustar el modelo Logit: {e}\")\n",
        "\n",
        "    # 4) Estadísticos principales\n",
        "    beta = model.params[\"lead_time\"]\n",
        "    pval = model.pvalues[\"lead_time\"]\n",
        "    or_1d = float(np.exp(beta))\n",
        "    or_30 = float(np.exp(30 * beta))\n",
        "    ci = model.conf_int().loc[\"lead_time\"]\n",
        "    ci_or = np.exp(ci.values)\n",
        "\n",
        "    # 5) Métricas de ajuste\n",
        "    llf = model.llf                # log-likelihood del modelo\n",
        "    llnull = model.llnull          # log-likelihood del modelo nulo\n",
        "    pseudo_r2 = 1 - llf/llnull if llnull != 0 else np.nan\n",
        "    aic = model.aic\n",
        "    bic = model.bic\n",
        "\n",
        "    # 6) Decisión\n",
        "    rechaza = pval < alpha\n",
        "    decision = \"RECHAZAS H0 (sí influye)\" if rechaza else \"NO rechazas H0 (no hay evidencia de influencia)\"\n",
        "\n",
        "    # 7) Reporte legible\n",
        "    print(\"=== Prueba principal (Logit univariante) ===\")\n",
        "    print(f\"N = {nobs}  |  Pseudo-R² (McFadden) = {pseudo_r2:.4f}  |  AIC = {aic:.1f}  |  BIC = {bic:.1f}\")\n",
        "    print(f\"H0: β_lead_time = 0   vs   H1: β_lead_time ≠ 0   (α = {alpha})\")\n",
        "    print(f\"Coeficiente β: {beta:.6f}\")\n",
        "    print(f\"p-valor (Wald): {pval:.6g}\")\n",
        "    print(f\"OR (+1 día): {or_1d:.3f}   |  IC95% OR: [{ci_or[0]:.3f}, {ci_or[1]:.3f}]\")\n",
        "    print(f\"OR (+30 días): {or_30:.3f}\")\n",
        "    print(f\"Decisión: {decision}\")\n",
        "\n",
        "    return {\n",
        "        \"n\": nobs,\n",
        "        \"p_value\": float(pval),\n",
        "        \"beta\": float(beta),\n",
        "        \"odds_ratio_1d\": or_1d,\n",
        "        \"odds_ratio_30d\": or_30,\n",
        "        \"ci95_or\": (float(ci_or[0]), float(ci_or[1])),\n",
        "        \"pseudo_r2_mcfadden\": float(pseudo_r2) if np.isfinite(pseudo_r2) else None,\n",
        "        \"aic\": float(aic),\n",
        "        \"bic\": float(bic),\n",
        "        \"reject_H0\": bool(rechaza),\n",
        "        \"decision_text\": decision,\n",
        "    }\n",
        "\n",
        "# Ejemplo de uso:\n",
        "res = probar_hipotesis_lead_time(data, alpha=0.05)\n",
        "print(res)"
      ]
    },
    {
      "cell_type": "markdown",
      "metadata": {
        "id": "iwCkFlDKaucR"
      },
      "source": [
        "Con base en la regresión logística univariante (α=5%), encontramos evidencia estadísticamente significativa de que el tiempo de anticipación de la reserva influye en la probabilidad de cancelación: el coeficiente para lead_time fue positivo (β=0.005054; p≈0), por lo que, a mayor anticipación, aumentan las odds de cancelar. En términos de magnitud, el odds ratio por un día adicional es 1.005 (IC95%≈[1.005, 1.005]), lo que implica un incremento aproximado de 0,5% en las odds por día; acumulado a 30 días, el OR es 1.164, es decir, ~16,4% más en las odds de cancelación. Aunque el efecto marginal diario es pequeño, en horizontes más largos se vuelve relevante. En consecuencia, se rechaza H0 (β=0) y se concluye que el lead_time sí influye —de forma positiva— en la probabilidad de cancelación."
      ]
    },
    {
      "cell_type": "markdown",
      "metadata": {
        "id": "dTCeCNTraucR"
      },
      "source": [
        "### 3.6. ¿El tipo de deposito influye en la probabilidad de cancelación?"
      ]
    },
    {
      "cell_type": "markdown",
      "metadata": {
        "id": "DFj-aTFcaucR"
      },
      "source": [
        "H0 (nula): todos los coeficientes deC(deposit_type) son cero ⇒ el tipo de depósito no influye en la probabilidad de cancelación.\n",
        "\n",
        "H1 (alternativa): al menos uno de los coeficientes de C(deposit_type) es distinto de cero ⇒ el tipo de depósito sí influye."
      ]
    },
    {
      "cell_type": "code",
      "execution_count": 37,
      "metadata": {
        "id": "9OtSm7o6aucR",
        "outputId": "583227b9-d408-4333-ffac-6b9df3ec9d88"
      },
      "outputs": [
        {
          "name": "stdout",
          "output_type": "stream",
          "text": [
            "=== Prueba categórica (Logit con C(deposit_type)) ===\n",
            "N = 58895 | categorías = 4\n",
            "Test global LR: χ²(3) = 11722.63, p = 0  (α = 0.05)\n",
            "Decisión: RECHAZAS H0 (sí influye)\n",
            "\n",
            "Odds Ratios por categoría (vs referencia):\n",
            "Referencia (implícita): la categoría base de C(deposit_type)\n",
            "\n",
            "C(deposit_type)[T.No Refund]: OR=230.233  (IC95% 114.778–461.820)  p=6.09e-53\n",
            "C(deposit_type)[T.Non Refund]: OR=170.785  (IC95% 132.608–219.953)  p=0\n",
            "C(deposit_type)[T.Refundable]: OR=0.351  (IC95% 0.223–0.553)  p=6.38e-06\n"
          ]
        }
      ],
      "source": [
        "# --- Prueba de hipótesis: ¿deposit_type influye en la probabilidad de cancelación? ---\n",
        "# H0 (global): todos los coeficientes de C(deposit_type) = 0  (no influye)\n",
        "# H1 (global): al menos un coeficiente ≠ 0                  (sí influye)\n",
        "\n",
        "import pandas as pd\n",
        "import numpy as np\n",
        "import statsmodels.formula.api as smf\n",
        "from scipy.stats import chi2\n",
        "\n",
        "def probar_hipotesis_deposit_type(df: pd.DataFrame, alpha: float = 0.05, col_dep: str = \"deposit_type\"):\n",
        "    # 1) Validaciones\n",
        "    for col in [\"is_canceled\", col_dep]:\n",
        "        if col not in df.columns:\n",
        "            raise ValueError(f\"Falta la columna requerida: {col!r}\")\n",
        "    tmp = df[[\"is_canceled\", col_dep]].copy()\n",
        "    tmp = tmp.dropna(subset=[\"is_canceled\"])  # si deposit_type tiene NaN, lo convertimos a 'Unknown'\n",
        "    tmp[col_dep] = tmp[col_dep].astype(str).fillna(\"Unknown\").replace({\"nan\":\"Unknown\", \"None\":\"Unknown\"})\n",
        "    tmp[\"is_canceled\"] = tmp[\"is_canceled\"].astype(int)\n",
        "\n",
        "    # Chequeos de cardinalidad\n",
        "    cats = tmp[col_dep].unique()\n",
        "    if len(cats) < 2:\n",
        "        raise ValueError(f\"{col_dep} tiene una sola categoría en los datos filtrados ({cats}). No se puede probar influencia.\")\n",
        "    nobs = len(tmp)\n",
        "\n",
        "    # 2) Modelos: nulo vs completo\n",
        "    m_null = smf.logit(\"is_canceled ~ 1\", data=tmp).fit(disp=False, maxiter=200)\n",
        "    m_full = smf.logit(f\"is_canceled ~ C({col_dep})\", data=tmp).fit(disp=False, maxiter=200)\n",
        "\n",
        "    # 3) Test global (Likelihood Ratio)\n",
        "    ll_null, ll_full = m_null.llf, m_full.llf\n",
        "    df_null, df_full = m_null.df_model + 1, m_full.df_model + 1  # +1 por el intercept\n",
        "    lr_stat = 2 * (ll_full - ll_null)\n",
        "    df_diff = int(df_full - df_null)\n",
        "    p_global = chi2.sf(lr_stat, df_diff)\n",
        "\n",
        "    rechaza = p_global < alpha\n",
        "    decision = \"RECHAZAS H0 (sí influye)\" if rechaza else \"NO rechazas H0 (no hay evidencia de influencia)\"\n",
        "\n",
        "    # 4) Efectos por categoría (vs referencia)\n",
        "    # La referencia es la primera en orden alfabético por defecto en patsy/statsmodels;\n",
        "    # puedes fijarla reordenando la categoría si lo deseas.\n",
        "    coefs = m_full.params\n",
        "    conf  = m_full.conf_int()\n",
        "    efectos = []\n",
        "    for name, beta in coefs.items():\n",
        "        if name == \"Intercept\":\n",
        "            continue\n",
        "        # name típico: C(deposit_type)[T.Non Refund]\n",
        "        or_val = float(np.exp(beta))\n",
        "        ci_low, ci_high = np.exp(conf.loc[name].values)\n",
        "        efectos.append({\n",
        "            \"term\": name,\n",
        "            \"beta\": float(beta),\n",
        "            \"OR\": or_val,\n",
        "            \"CI95_low\": float(ci_low),\n",
        "            \"CI95_high\": float(ci_high),\n",
        "            \"p_value\": float(m_full.pvalues[name])\n",
        "        })\n",
        "\n",
        "    # 5) Salida legible\n",
        "    print(\"=== Prueba categórica (Logit con C(deposit_type)) ===\")\n",
        "    print(f\"N = {nobs} | categorías = {len(cats)}\")\n",
        "    print(f\"Test global LR: χ²({df_diff}) = {lr_stat:.2f}, p = {p_global:.4g}  (α = {alpha})\")\n",
        "    print(f\"Decisión: {decision}\\n\")\n",
        "    print(\"Odds Ratios por categoría (vs referencia):\")\n",
        "    ref = [c for c in coefs.index if \"Intercept\" in c]\n",
        "    print(f\"Referencia (implícita): la categoría base de C({col_dep})\\n\")\n",
        "    for e in efectos:\n",
        "        print(f\"{e['term']}: OR={e['OR']:.3f}  (IC95% {e['CI95_low']:.3f}–{e['CI95_high']:.3f})  p={e['p_value']:.3g}\")\n",
        "\n",
        "\n",
        "    return {\n",
        "        \"n\": nobs,\n",
        "        \"categories\": sorted(cats.tolist()),\n",
        "        \"lr_stat\": float(lr_stat),\n",
        "        \"df_diff\": df_diff,\n",
        "        \"p_global\": float(p_global),\n",
        "        \"reject_H0\": bool(rechaza),\n",
        "        \"decision_text\": decision,\n",
        "        \"effects_vs_reference\": efectos,\n",
        "        \"reference_note\": f\"La categoría de referencia es la base implícita en C({col_dep}). \"\n",
        "                          f\"Si deseas forzar una referencia específica, convierte {col_dep} en Categorical con 'cat.reorder_categories(...)'.\"\n",
        "    }\n",
        "\n",
        "# Ejemplo de uso:\n",
        "res_dep = probar_hipotesis_deposit_type(data, alpha=0.05, col_dep=\"deposit_type\")"
      ]
    },
    {
      "cell_type": "code",
      "execution_count": 38,
      "metadata": {},
      "outputs": [
        {
          "name": "stdout",
          "output_type": "stream",
          "text": [
            "  deposit_type  cancelados  total  no_cancelados  pct_cancelados\n",
            "0    No Refund         954    962              8       99.168399\n",
            "1   Non Refund        5396   5457             61       98.882170\n",
            "2   No Deposit       17857  52333          34476       34.121873\n",
            "3   Refundable          22    143            121       15.384615\n"
          ]
        },
        {
          "data": {
            "image/png": "[encoded data removed]",
            "text/plain": [
              "<Figure size 900x480 with 1 Axes>"
            ]
          },
          "metadata": {},
          "output_type": "display_data"
        },
        {
          "data": {
            "image/png": "[encoded data removed]",
            "text/plain": [
              "<Figure size 1000x500 with 1 Axes>"
            ]
          },
          "metadata": {},
          "output_type": "display_data"
        }
      ],
      "source": [
        "import pandas as pd\n",
        "import numpy as np\n",
        "import matplotlib.pyplot as plt\n",
        "from matplotlib.ticker import PercentFormatter\n",
        "\n",
        "def _coerce_binary_cancel(s):\n",
        "    # Convierte is_canceled a 0/1 de forma robusta\n",
        "    s = pd.to_numeric(s, errors=\"coerce\")\n",
        "    s = s.fillna(0)\n",
        "    return (s > 0).astype(int)\n",
        "\n",
        "def resumen_cancelaciones_por_deposito(df: pd.DataFrame, col_dep: str = \"deposit_type\"):\n",
        "    tmp = df[[col_dep, \"is_canceled\"]].copy()\n",
        "    tmp = tmp.dropna(subset=[col_dep])  # solo para agrupar bien; puedes quitar si quieres contar Unknown\n",
        "    tmp[col_dep] = (tmp[col_dep].astype(str)\n",
        "                    .str.strip()\n",
        "                    .replace({\"nan\":\"Unknown\",\"None\":\"Unknown\",\"\": \"Unknown\"}))\n",
        "    tmp[\"is_canceled\"] = _coerce_binary_cancel(tmp[\"is_canceled\"])\n",
        "\n",
        "    g = tmp.groupby(col_dep)[\"is_canceled\"].agg(\n",
        "        cancelados=\"sum\",\n",
        "        total=\"count\"\n",
        "    ).reset_index()\n",
        "    g[\"no_cancelados\"] = g[\"total\"] - g[\"cancelados\"]\n",
        "    g[\"pct_cancelados\"] = 100 * g[\"cancelados\"] / g[\"total\"]\n",
        "    # Ordena de mayor a menor % cancelados\n",
        "    g = g.sort_values(\"pct_cancelados\", ascending=False).reset_index(drop=True)\n",
        "    return g\n",
        "\n",
        "def plot_porcentaje_con_cuentas(df: pd.DataFrame, col_dep: str = \"deposit_type\"):\n",
        "    g = resumen_cancelaciones_por_deposito(df, col_dep)\n",
        "    plt.figure(figsize=(9, 4.8))\n",
        "    plt.bar(g[col_dep].astype(str), g[\"pct_cancelados\"])\n",
        "    # Etiquetas: \"cancelados/total (=xx.x%)\"\n",
        "    for i, (cat, c, t, p) in enumerate(zip(g[col_dep], g[\"cancelados\"], g[\"total\"], g[\"pct_cancelados\"])):\n",
        "        plt.text(i, p, f\"{int(c)}/{int(t)} (= {p:.1f}%)\", ha=\"center\", va=\"bottom\", fontsize=10)\n",
        "    # n al pie\n",
        "    for i, t in enumerate(g[\"total\"]):\n",
        "        plt.text(i, 0, f\"n={int(t)}\", ha=\"center\", va=\"bottom\", fontsize=9, rotation=90)\n",
        "    plt.gca().yaxis.set_major_formatter(PercentFormatter())\n",
        "    plt.ylabel(\"% de cancelación\")\n",
        "    plt.xlabel(\"Tipo de depósito\")\n",
        "    plt.title(\"Porcentaje de cancelación por tipo de depósito\\n(con conteos cancelados/total)\")\n",
        "    plt.tight_layout()\n",
        "    plt.show()\n",
        "\n",
        "def plot_apilado_100_con_cuentas(df: pd.DataFrame, col_dep: str = \"deposit_type\"):\n",
        "    g = resumen_cancelaciones_por_deposito(df, col_dep)\n",
        "    # Para el apilado necesitamos el orden ya calculado\n",
        "    idx = np.arange(len(g))\n",
        "    pct_cancel = g[\"pct_cancelados\"].values\n",
        "    pct_no     = 100 - pct_cancel\n",
        "\n",
        "    plt.figure(figsize=(10, 5))\n",
        "    plt.bar(idx, pct_cancel, label=\"% Cancelado (1)\")\n",
        "    plt.bar(idx, pct_no, bottom=pct_cancel, label=\"% No cancelado (0)\")\n",
        "    # Etiquetas internas + totals arriba\n",
        "    for i, (p1, p0, c, t) in enumerate(zip(pct_cancel, pct_no, g[\"cancelados\"], g[\"total\"])):\n",
        "        # Dentro de la parte cancelada\n",
        "        if p1 > 4:  # evita solape si es muy pequeño\n",
        "            plt.text(i, p1/2, f\"{int(c)}/{int(t)}\\n{p1:.1f}%\", ha=\"center\", va=\"center\", fontsize=9)\n",
        "        else:\n",
        "            # Si es muy pequeño, escribe arriba de la barra\n",
        "            plt.text(i, p1 + 1, f\"{int(c)}/{int(t)} ({p1:.1f}%)\", ha=\"center\", va=\"bottom\", fontsize=9)\n",
        "        # Dentro de la parte no cancelada\n",
        "        if p0 > 4:\n",
        "            plt.text(i, p1 + p0/2, f\"{int(t-c)}/{int(t)}\\n{p0:.1f}%\", ha=\"center\", va=\"center\", fontsize=9)\n",
        "\n",
        "    plt.xticks(idx, g[col_dep].astype(str), rotation=0)\n",
        "    plt.gca().yaxis.set_major_formatter(PercentFormatter())\n",
        "    plt.ylabel(\"Composición (%)\")\n",
        "    plt.xlabel(\"Tipo de depósito\")\n",
        "    plt.title(\"Distribución 100%: cancelado vs no cancelado por tipo de depósito\\n(con conteos por segmento)\")\n",
        "    plt.legend()\n",
        "    plt.tight_layout()\n",
        "    plt.show()\n",
        "\n",
        "# --- Ejecucion ------:\n",
        "summary = resumen_cancelaciones_por_deposito(data, col_dep=\"deposit_type\")\n",
        "print(summary)                   # <-- tabla auditable: cancelados/total y %\n",
        "plot_porcentaje_con_cuentas(data, col_dep=\"deposit_type\")\n",
        "plot_apilado_100_con_cuentas(data, col_dep=\"deposit_type\")\n"
      ]
    },
    {
      "cell_type": "markdown",
      "metadata": {
        "id": "jPdwzvM-aucR"
      },
      "source": [
        "Con base en la regresión logística con C(deposit_type), el contraste global por razón de verosimilitudes fue altamente significativo (χ²(3)=11 722.63, p≈0), por lo que rechazamos H0 al 5% y concluimos que el tipo de depósito sí influye en la probabilidad de cancelación. En la comparación respecto a la categoría de referencia (implícita), las reservas con “No Refund” presentan odds de cancelación aproximadamente 230 veces mayores (OR=230.233; IC95%: 114.778–461.820; p≈6.09×10⁻⁵³) y las “Non Refund” cerca de 171 veces mayores (OR=170.785; IC95%: 132.608–219.953; p≈0). Por el contrario, las “Refundable” exhiben odds de cancelación 65% menores que la referencia (OR=0.351; IC95%: 0.223–0.553; p≈6.38×10⁻⁶). Estos resultados muestran que la política de depósito es un determinante clave del riesgo de cancelación, con diferencias muy marcadas entre modalidades."
      ]
    },
    {
      "cell_type": "markdown",
      "metadata": {
        "id": "yqYFu-v3aucR"
      },
      "source": [
        "### 3.7. ¿Los clientes con previas cancelaciones tienden a reincidir?"
      ]
    },
    {
      "cell_type": "markdown",
      "metadata": {
        "id": "uav3d5SFaucR"
      },
      "source": [
        "H0 (nula): β(prev_any)​=0 ⇒ haber tenido cancelaciones previas no influye en la probabilidad de cancelar.\n",
        "\n",
        "H1 (alternativa): 𝛽(prev_any)≠0 ⇒ haber tenido cancelaciones previas sí influye."
      ]
    },
    {
      "cell_type": "code",
      "execution_count": 39,
      "metadata": {
        "id": "GyLuJsFRaucR",
        "outputId": "a7433423-1f5e-48b3-d9d4-233ed5abdace"
      },
      "outputs": [
        {
          "name": "stdout",
          "output_type": "stream",
          "text": [
            "=== Prueba principal (Logit: prev_any → is_canceled) ===\n",
            "N = 58895 | Pseudo-R² = 0.0112 | AIC = 78900.5 | BIC = 78918.5\n",
            "H0: β_prev_any = 0   vs   H1: β_prev_any ≠ 0   (α = 0.05)\n",
            "Coeficiente β: 2.079195\n",
            "p-valor (Wald): 2.759e-136\n",
            "OR (prev_any=1 vs 0): 7.998  (IC95% 6.788–9.423)\n",
            "Decisión: RECHAZAS H0 (sí influye)\n",
            "\n",
            "=== Chequeo de robustez (χ² de independencia 2x2) ===\n",
            "Tabla 2x2 (prev_any x is_canceled):\n",
            "is_canceled      0      1\n",
            "prev_any                 \n",
            "0            34495  23305\n",
            "1              171    924\n",
            "\n",
            "χ²(1) = 859.85, p = 5.257e-189  (α = 0.05)\n",
            "Conclusión χ²: Asociación significativa\n"
          ]
        }
      ],
      "source": [
        "# --- 3.7 ¿Clientes con previas cancelaciones tienden a reincidir? ---\n",
        "# H0: β_prev_any = 0 (no influye)\n",
        "# H1: β_prev_any ≠ 0 (sí influye)\n",
        "\n",
        "import pandas as pd\n",
        "import numpy as np\n",
        "import statsmodels.formula.api as smf\n",
        "from scipy.stats import chi2_contingency\n",
        "\n",
        "def probar_hipotesis_reincidencia(df: pd.DataFrame, alpha: float = 0.05,\n",
        "                                  prev_col: str = \"previous_cancellations\"):\n",
        "    # 1) Validaciones y binarización\n",
        "    for col in [\"is_canceled\", prev_col]:\n",
        "        if col not in df.columns:\n",
        "            raise ValueError(f\"Falta la columna requerida: {col!r}\")\n",
        "    tmp = df[[\"is_canceled\", prev_col]].copy()\n",
        "    tmp = tmp.dropna(subset=[\"is_canceled\", prev_col])\n",
        "    tmp[\"is_canceled\"] = tmp[\"is_canceled\"].astype(int)\n",
        "    tmp[prev_col] = pd.to_numeric(tmp[prev_col], errors=\"coerce\")\n",
        "    tmp = tmp.dropna(subset=[prev_col])\n",
        "    tmp[\"prev_any\"] = (tmp[prev_col] > 0).astype(int)\n",
        "    nobs = len(tmp)\n",
        "    if nobs < 50:\n",
        "        print(f\"[Aviso] Muestra pequeña para Logit (n={nobs}). Interpreta con cautela.\")\n",
        "\n",
        "    # Chequeo de variabilidad\n",
        "    if tmp[\"prev_any\"].nunique() < 2:\n",
        "        raise ValueError(\"La variable binaria 'prev_any' no tiene variación (todo 0 o todo 1).\")\n",
        "\n",
        "    # 2) Modelo logit univariante\n",
        "    model = smf.logit(\"is_canceled ~ prev_any\", data=tmp).fit(disp=False, maxiter=200)\n",
        "    beta = model.params[\"prev_any\"]\n",
        "    pval = model.pvalues[\"prev_any\"]\n",
        "    or_val = float(np.exp(beta))\n",
        "    ci = model.conf_int().loc[\"prev_any\"].values\n",
        "    ci_or = np.exp(ci)\n",
        "\n",
        "    # Métricas de ajuste\n",
        "    llf, llnull = model.llf, model.llnull\n",
        "    pseudo_r2 = 1 - llf/llnull if llnull != 0 else np.nan\n",
        "    aic, bic = model.aic, model.bic\n",
        "\n",
        "    # 3) Decisión principal\n",
        "    rechaza = pval < alpha\n",
        "    decision = \"RECHAZAS H0 (sí influye)\" if rechaza else \"NO rechazas H0 (no hay evidencia de influencia)\"\n",
        "\n",
        "    # 4) Chequeo de robustez: χ² en tabla 2x2 (dos proporciones)\n",
        "    ct = pd.crosstab(tmp[\"prev_any\"], tmp[\"is_canceled\"])  # filas: prev_any (0/1), cols: cancel (0/1)\n",
        "    chi2, p_chi, dof, _ = chi2_contingency(ct)\n",
        "\n",
        "    # 5) Reporte\n",
        "    print(\"=== Prueba principal (Logit: prev_any → is_canceled) ===\")\n",
        "    print(f\"N = {nobs} | Pseudo-R² = {pseudo_r2:.4f} | AIC = {aic:.1f} | BIC = {bic:.1f}\")\n",
        "    print(f\"H0: β_prev_any = 0   vs   H1: β_prev_any ≠ 0   (α = {alpha})\")\n",
        "    print(f\"Coeficiente β: {beta:.6f}\")\n",
        "    print(f\"p-valor (Wald): {pval:.4g}\")\n",
        "    print(f\"OR (prev_any=1 vs 0): {or_val:.3f}  (IC95% {ci_or[0]:.3f}–{ci_or[1]:.3f})\")\n",
        "    print(f\"Decisión: {decision}\\n\")\n",
        "\n",
        "    print(\"=== Chequeo de robustez (χ² de independencia 2x2) ===\")\n",
        "    print(f\"Tabla 2x2 (prev_any x is_canceled):\\n{ct}\\n\")\n",
        "    print(f\"χ²({dof}) = {chi2:.2f}, p = {p_chi:.4g}  (α = {alpha})\")\n",
        "    print(\"Conclusión χ²:\", \"Asociación significativa\" if p_chi < alpha else \"No significativa\")\n",
        "\n",
        "    return {\n",
        "        \"n\": int(nobs),\n",
        "        \"beta\": float(beta),\n",
        "        \"p_wald\": float(pval),\n",
        "        \"odds_ratio_prev_any\": float(or_val),\n",
        "        \"ci95_or\": (float(ci_or[0]), float(ci_or[1])),\n",
        "        \"pseudo_r2_mcfadden\": float(pseudo_r2) if np.isfinite(pseudo_r2) else None,\n",
        "        \"aic\": float(aic),\n",
        "        \"bic\": float(bic),\n",
        "        \"reject_H0\": bool(rechaza),\n",
        "        \"decision_text\": decision,\n",
        "        \"chi2\": float(chi2),\n",
        "        \"p_chi2\": float(p_chi),\n",
        "    }\n",
        "\n",
        "# Ejemplo de uso:\n",
        "res_prev = probar_hipotesis_reincidencia(data, alpha=0.05, prev_col=\"previous_cancellations\")\n"
      ]
    },
    {
      "cell_type": "code",
      "execution_count": 40,
      "metadata": {},
      "outputs": [
        {
          "data": {
            "image/png": "[encoded data removed]",
            "text/plain": [
              "<Figure size 780x460 with 1 Axes>"
            ]
          },
          "metadata": {},
          "output_type": "display_data"
        },
        {
          "data": {
            "image/png": "[encoded data removed]",
            "text/plain": [
              "<Figure size 650x280 with 1 Axes>"
            ]
          },
          "metadata": {},
          "output_type": "display_data"
        }
      ],
      "source": [
        "import pandas as pd\n",
        "import numpy as np\n",
        "import matplotlib.pyplot as plt\n",
        "from matplotlib.ticker import PercentFormatter\n",
        "import statsmodels.formula.api as smf\n",
        "from statsmodels.stats.proportion import proportion_confint\n",
        "\n",
        "# --- Utilidad: construir la binaria 'prev_any' y un resumen auditable\n",
        "def _coerce_binary_cancel(s):\n",
        "    s = pd.to_numeric(s, errors=\"coerce\").fillna(0)\n",
        "    return (s > 0).astype(int)\n",
        "\n",
        "def resumen_reincidencia(df: pd.DataFrame, prev_col=\"previous_cancellations\"):\n",
        "    tmp = df[[prev_col, \"is_canceled\"]].copy()\n",
        "    tmp[\"is_canceled\"] = _coerce_binary_cancel(tmp[\"is_canceled\"])\n",
        "    tmp[prev_col] = pd.to_numeric(tmp[prev_col], errors=\"coerce\")\n",
        "    tmp = tmp.dropna(subset=[prev_col])\n",
        "    tmp[\"prev_any\"] = (tmp[prev_col] > 0).astype(int)\n",
        "\n",
        "    g = tmp.groupby(\"prev_any\")[\"is_canceled\"].agg(cancelados=\"sum\", total=\"count\").reset_index()\n",
        "    g[\"pct_cancel\"] = 100 * g[\"cancelados\"] / g[\"total\"]\n",
        "    # IC95% (Wilson) para el % cancelado en cada grupo\n",
        "    lo, hi = proportion_confint(g[\"cancelados\"], g[\"total\"], alpha=0.05, method=\"wilson\")\n",
        "    g[\"ci_low\"] = lo * 100\n",
        "    g[\"ci_high\"] = hi * 100\n",
        "    # Ordenar: primero el grupo con mayor % cancelación\n",
        "    g = g.sort_values(\"pct_cancel\", ascending=False).reset_index(drop=True)\n",
        "    return g, tmp\n",
        "\n",
        "# --- Gráfico 2: apilado 100% (no cancelado vs cancelado) para cada grupo\n",
        "def plot_100pct_stack_prev_any(df: pd.DataFrame, prev_col=\"previous_cancellations\"):\n",
        "    g, _ = resumen_reincidencia(df, prev_col)\n",
        "    idx = np.arange(len(g))\n",
        "    pct1 = g[\"pct_cancel\"].values\n",
        "    pct0 = 100 - pct1\n",
        "    labels = g[\"prev_any\"].map({0:\"Sin cancelaciones previas\", 1:\"Con cancelaciones previas\"})\n",
        "\n",
        "    plt.figure(figsize=(7.8,4.6))\n",
        "    plt.bar(idx, pct1, label=\"% Cancelado (1)\")\n",
        "    plt.bar(idx, pct0, bottom=pct1, label=\"% No cancelado (0)\")\n",
        "    for i, (p1, p0, c, t) in enumerate(zip(pct1, pct0, g[\"cancelados\"], g[\"total\"])):\n",
        "        if p1 > 5:\n",
        "            plt.text(i, p1/2, f\"{int(c)}/{int(t)}\\n{p1:.1f}%\", ha=\"center\", va=\"center\", fontsize=9)\n",
        "        else:\n",
        "            plt.text(i, p1 + 1, f\"{int(c)}/{int(t)} ({p1:.1f}%)\", ha=\"center\", va=\"bottom\", fontsize=9)\n",
        "        if p0 > 5:\n",
        "            plt.text(i, p1 + p0/2, f\"{int(t-c)}/{int(t)}\\n{p0:.1f}%\", ha=\"center\", va=\"center\", fontsize=9)\n",
        "    plt.xticks(idx, labels)\n",
        "    plt.gca().yaxis.set_major_formatter(PercentFormatter())\n",
        "    plt.ylabel(\"Composición (%)\")\n",
        "    plt.title(\"Distribución 100%: cancelado vs no cancelado\\npor historial de cancelaciones previas\")\n",
        "    plt.legend()\n",
        "    plt.tight_layout()\n",
        "    plt.show()\n",
        "\n",
        "# --- Gráfico 3: “card” con OR del logit e IC95% (mensaje ejecutivo en 1 cifra)\n",
        "def card_or_prev_any(df: pd.DataFrame, prev_col=\"previous_cancellations\"):\n",
        "    _, tmp = resumen_reincidencia(df, prev_col)\n",
        "    m = smf.logit(\"is_canceled ~ prev_any\", data=tmp).fit(disp=False, maxiter=200)\n",
        "    beta = m.params[\"prev_any\"]\n",
        "    se   = m.bse[\"prev_any\"]\n",
        "    orv  = float(np.exp(beta))\n",
        "    ci   = (float(np.exp(beta - 1.96*se)), float(np.exp(beta + 1.96*se)))\n",
        "\n",
        "    fig = plt.figure(figsize=(6.5,2.8))\n",
        "    plt.text(0.02, 0.65, \"Impacto de cancelaciones previas (logit univariante)\", fontsize=12, weight=\"bold\")\n",
        "    plt.text(0.02, 0.28, f\"Odds Ratio (prev_any=1 vs 0): {orv:.3f}\\nIC95%: [{ci[0]:.3f} ; {ci[1]:.3f}]\", fontsize=11)\n",
        "    plt.axis(\"off\")\n",
        "    plt.tight_layout()\n",
        "    plt.show()\n",
        "\n",
        "# ---- Ejecución (elige los que quieras mostrar) ----\n",
        "plot_100pct_stack_prev_any(data, \"previous_cancellations\")\n",
        "card_or_prev_any(data, \"previous_cancellations\")\n"
      ]
    },
    {
      "cell_type": "markdown",
      "metadata": {
        "id": "8aN9Xv4VaucR"
      },
      "source": [
        "Estimamos una regresión logística univariante donde la variable explicativa es prev_any (1 si el cliente registra al menos una cancelación previa) y la respuesta es is_canceled. El coeficiente para prev_any fue positivo y grande (β=2.079; p≈2.76×10⁻¹³⁶), por lo que rechazamos H0 al 5% y concluimos que contar con cancelaciones previas sí influye en la probabilidad de cancelar. En términos de magnitud, el odds ratio para clientes con historial previo frente a quienes no lo tienen es 7.998 (IC95%: 6.788–9.423), es decir, las odds de cancelar son aproximadamente ocho veces mayores en reincidentes. Como verificación no paramétrica, el test χ² de independencia sobre la tabla 2×2 fue también altamente significativo (χ²(1)=859.85; p≈5.26×10⁻¹⁸⁹), corroborando la asociación: la tasa empírica de cancelación fue ≈84.3% en clientes con historial previo (924/1,095) versus ≈40.3% en clientes sin historial (23,305/57,800). Aunque el pseudo-R² (0.011) es bajo —lo habitual en modelos logísticos con un único predictor—, los resultados muestran evidencia contundente de reincidencia en la cancelación."
      ]
    },
    {
      "cell_type": "code",
      "execution_count": 41,
      "metadata": {},
      "outputs": [
        {
          "data": {
            "image/png": "[encoded data removed]",
            "text/plain": [
              "<Figure size 750x460 with 1 Axes>"
            ]
          },
          "metadata": {},
          "output_type": "display_data"
        },
        {
          "data": {
            "image/png": "[encoded data removed]",
            "text/plain": [
              "<Figure size 780x460 with 1 Axes>"
            ]
          },
          "metadata": {},
          "output_type": "display_data"
        },
        {
          "data": {
            "image/png": "[encoded data removed]",
            "text/plain": [
              "<Figure size 650x280 with 1 Axes>"
            ]
          },
          "metadata": {},
          "output_type": "display_data"
        }
      ],
      "source": [
        "import pandas as pd\n",
        "import numpy as np\n",
        "import matplotlib.pyplot as plt\n",
        "from matplotlib.ticker import PercentFormatter\n",
        "import statsmodels.formula.api as smf\n",
        "from statsmodels.stats.proportion import proportion_confint\n",
        "\n",
        "# --- Utilidad: construir la binaria 'prev_any' y un resumen auditable\n",
        "def _coerce_binary_cancel(s):\n",
        "    s = pd.to_numeric(s, errors=\"coerce\").fillna(0)\n",
        "    return (s > 0).astype(int)\n",
        "\n",
        "def resumen_reincidencia(df: pd.DataFrame, prev_col=\"previous_cancellations\"):\n",
        "    tmp = df[[prev_col, \"is_canceled\"]].copy()\n",
        "    tmp[\"is_canceled\"] = _coerce_binary_cancel(tmp[\"is_canceled\"])\n",
        "    tmp[prev_col] = pd.to_numeric(tmp[prev_col], errors=\"coerce\")\n",
        "    tmp = tmp.dropna(subset=[prev_col])\n",
        "    tmp[\"prev_any\"] = (tmp[prev_col] > 0).astype(int)\n",
        "\n",
        "    g = tmp.groupby(\"prev_any\")[\"is_canceled\"].agg(cancelados=\"sum\", total=\"count\").reset_index()\n",
        "    g[\"pct_cancel\"] = 100 * g[\"cancelados\"] / g[\"total\"]\n",
        "    # IC95% (Wilson) para el % cancelado en cada grupo\n",
        "    lo, hi = proportion_confint(g[\"cancelados\"], g[\"total\"], alpha=0.05, method=\"wilson\")\n",
        "    g[\"ci_low\"] = lo * 100\n",
        "    g[\"ci_high\"] = hi * 100\n",
        "    # Ordenar: primero el grupo con mayor % cancelación\n",
        "    g = g.sort_values(\"pct_cancel\", ascending=False).reset_index(drop=True)\n",
        "    return g, tmp\n",
        "\n",
        "# --- Gráfico 1: barras con % de cancelación y etiqueta \"cancelados/total (= xx.x%)\"\n",
        "def plot_pct_cancel_prev_any(df: pd.DataFrame, prev_col=\"previous_cancellations\"):\n",
        "    g, _ = resumen_reincidencia(df, prev_col)\n",
        "    labels = g[\"prev_any\"].map({0:\"Sin cancelaciones previas\", 1:\"Con cancelaciones previas\"})\n",
        "    plt.figure(figsize=(7.5,4.6))\n",
        "    plt.bar(labels, g[\"pct_cancel\"])\n",
        "    # error bars (IC95% Wilson)\n",
        "    for i, (y, lo, hi, c, t) in enumerate(zip(g[\"pct_cancel\"], g[\"ci_low\"], g[\"ci_high\"], g[\"cancelados\"], g[\"total\"])):\n",
        "        # barra de error vertical\n",
        "        plt.vlines(i, lo, hi)\n",
        "        plt.plot([i-0.08, i+0.08], [lo, lo])\n",
        "        plt.plot([i-0.08, i+0.08], [hi, hi])\n",
        "        # etiqueta superior con conteo y %\n",
        "        plt.text(i, y, f\"{int(c)}/{int(t)} (= {y:.1f}%)\", ha=\"center\", va=\"bottom\", fontsize=10)\n",
        "    for i,t in enumerate(g[\"total\"]):\n",
        "        plt.text(i, 0, f\"n={int(t)}\", ha=\"center\", va=\"bottom\", fontsize=9, rotation=90)\n",
        "    plt.gca().yaxis.set_major_formatter(PercentFormatter())\n",
        "    plt.ylabel(\"% de cancelación\")\n",
        "    plt.title(\"Cancelación según historial previo\\n(previous_cancellations > 0)\")\n",
        "    plt.tight_layout()\n",
        "    plt.show()\n",
        "\n",
        "# --- Gráfico 2: apilado 100% (no cancelado vs cancelado) para cada grupo\n",
        "def plot_100pct_stack_prev_any(df: pd.DataFrame, prev_col=\"previous_cancellations\"):\n",
        "    g, _ = resumen_reincidencia(df, prev_col)\n",
        "    idx = np.arange(len(g))\n",
        "    pct1 = g[\"pct_cancel\"].values\n",
        "    pct0 = 100 - pct1\n",
        "    labels = g[\"prev_any\"].map({0:\"Sin cancelaciones previas\", 1:\"Con cancelaciones previas\"})\n",
        "\n",
        "    plt.figure(figsize=(7.8,4.6))\n",
        "    plt.bar(idx, pct1, label=\"% Cancelado (1)\")\n",
        "    plt.bar(idx, pct0, bottom=pct1, label=\"% No cancelado (0)\")\n",
        "    for i, (p1, p0, c, t) in enumerate(zip(pct1, pct0, g[\"cancelados\"], g[\"total\"])):\n",
        "        if p1 > 5:\n",
        "            plt.text(i, p1/2, f\"{int(c)}/{int(t)}\\n{p1:.1f}%\", ha=\"center\", va=\"center\", fontsize=9)\n",
        "        else:\n",
        "            plt.text(i, p1 + 1, f\"{int(c)}/{int(t)} ({p1:.1f}%)\", ha=\"center\", va=\"bottom\", fontsize=9)\n",
        "        if p0 > 5:\n",
        "            plt.text(i, p1 + p0/2, f\"{int(t-c)}/{int(t)}\\n{p0:.1f}%\", ha=\"center\", va=\"center\", fontsize=9)\n",
        "    plt.xticks(idx, labels)\n",
        "    plt.gca().yaxis.set_major_formatter(PercentFormatter())\n",
        "    plt.ylabel(\"Composición (%)\")\n",
        "    plt.title(\"Distribución 100%: cancelado vs no cancelado\\npor historial de cancelaciones previas\")\n",
        "    plt.legend()\n",
        "    plt.tight_layout()\n",
        "    plt.show()\n",
        "\n",
        "# --- Gráfico 3: “card” con OR del logit e IC95% (mensaje ejecutivo en 1 cifra)\n",
        "def card_or_prev_any(df: pd.DataFrame, prev_col=\"previous_cancellations\"):\n",
        "    _, tmp = resumen_reincidencia(df, prev_col)\n",
        "    m = smf.logit(\"is_canceled ~ prev_any\", data=tmp).fit(disp=False, maxiter=200)\n",
        "    beta = m.params[\"prev_any\"]\n",
        "    se   = m.bse[\"prev_any\"]\n",
        "    orv  = float(np.exp(beta))\n",
        "    ci   = (float(np.exp(beta - 1.96*se)), float(np.exp(beta + 1.96*se)))\n",
        "\n",
        "    fig = plt.figure(figsize=(6.5,2.8))\n",
        "    plt.text(0.02, 0.65, \"Impacto de cancelaciones previas (logit univariante)\", fontsize=12, weight=\"bold\")\n",
        "    plt.text(0.02, 0.28, f\"Odds Ratio (prev_any=1 vs 0): {orv:.3f}\\nIC95%: [{ci[0]:.3f} ; {ci[1]:.3f}]\", fontsize=11)\n",
        "    plt.axis(\"off\")\n",
        "    plt.tight_layout()\n",
        "    plt.show()\n",
        "\n",
        "# ---- Ejecución ------\n",
        "plot_pct_cancel_prev_any(data, \"previous_cancellations\")\n",
        "plot_100pct_stack_prev_any(data, \"previous_cancellations\")\n",
        "card_or_prev_any(data, \"previous_cancellations\")\n"
      ]
    },
    {
      "cell_type": "markdown",
      "metadata": {
        "id": "7DR4lYyNaucS"
      },
      "source": [
        "### 3.8. ¿Los clientes frecuentes tienden a cancelar mas/menos que los clientes que reservan por primera vez?"
      ]
    },
    {
      "cell_type": "markdown",
      "metadata": {
        "id": "T4y7_ihlaucS"
      },
      "source": [
        "H0 (nula):\n",
        "𝛽(is_repeated_guest)=0 ⇒ ser cliente frecuente no cambia la probabilidad de cancelación respecto a un cliente primerizo.\n",
        "\n",
        "H1 (alternativa):\n",
        "𝛽(is_repeated_guest) ≠ 0 ⇒ ser cliente frecuente sí cambia dicha probabilidad."
      ]
    },
    {
      "cell_type": "code",
      "execution_count": 42,
      "metadata": {
        "id": "hxZXf3qwaucS",
        "outputId": "6492ad21-c4cc-460b-fbc9-277601434194"
      },
      "outputs": [
        {
          "name": "stdout",
          "output_type": "stream",
          "text": [
            "=== Prueba principal (Logit: is_repeated_guest → is_canceled) ===\n",
            "N = 58895 | Pseudo-R² = 0.0146 | AIC = 78629.2 | BIC = 78647.1\n",
            "H0: β_is_repeated_guest = 0   vs   H1: β_is_repeated_guest ≠ 0   (α = 0.05)\n",
            "Coeficiente β: -2.395732\n",
            "p-valor (Wald): 5.902e-131\n",
            "OR (repetido=1 vs 0): 0.091  (IC95% 0.075–0.110)\n",
            "Decisión: RECHAZAS H0 (sí influye)\n",
            "\n",
            "=== Robustez ===\n",
            "Tabla 2x2 (is_repeated_guest x is_canceled):\n",
            "is_canceled            0      1\n",
            "is_repeated_guest              \n",
            "0                  32999  24118\n",
            "1                   1667    111 \n",
            "\n",
            "χ²(1) = 920.50, p = 3.437e-202\n",
            "Dos proporciones (z): z = -30.36, p = 1.634e-202\n"
          ]
        }
      ],
      "source": [
        "# --- 3.8 ¿Clientes frecuentes (is_repeated_guest) cancelan más/menos que los primerizos? ---\n",
        "# H0: β_repeated = 0  (no hay diferencia en prob. de cancelación entre repetidos y primerizos)\n",
        "# H1: β_repeated ≠ 0  (sí hay diferencia)\n",
        "\n",
        "import pandas as pd\n",
        "import numpy as np\n",
        "import statsmodels.formula.api as smf\n",
        "from scipy.stats import chi2_contingency\n",
        "from statsmodels.stats.proportion import proportions_ztest\n",
        "\n",
        "def probar_hipotesis_clientes_frecuentes(df: pd.DataFrame, alpha: float = 0.05,\n",
        "                                         col_rep: str = \"is_repeated_guest\"):\n",
        "    # 1) Validaciones y normalización binaria\n",
        "    for col in [\"is_canceled\", col_rep]:\n",
        "        if col not in df.columns:\n",
        "            raise ValueError(f\"Falta la columna requerida: {col!r}\")\n",
        "    tmp = df[[\"is_canceled\", col_rep]].copy()\n",
        "    tmp = tmp.dropna(subset=[\"is_canceled\", col_rep])\n",
        "\n",
        "    # Convertir is_canceled a 0/1\n",
        "    tmp[\"is_canceled\"] = pd.to_numeric(tmp[\"is_canceled\"], errors=\"coerce\").astype(\"Int64\")\n",
        "    tmp = tmp.dropna(subset=[\"is_canceled\"])\n",
        "    tmp[\"is_canceled\"] = tmp[\"is_canceled\"].astype(int)\n",
        "\n",
        "    # Mapear is_repeated_guest a 0/1 (acepta bools, 0/1, strings)\n",
        "    def to_binary(x):\n",
        "        if pd.isna(x): return np.nan\n",
        "        if isinstance(x, (int, np.integer, float, np.floating)):\n",
        "            return int(x != 0)\n",
        "        if isinstance(x, bool):\n",
        "            return int(x)\n",
        "        s = str(x).strip().lower()\n",
        "        return 1 if s in {\"1\",\"true\",\"t\",\"yes\",\"y\",\"si\",\"sí\"} else 0\n",
        "    tmp[col_rep] = tmp[col_rep].apply(to_binary)\n",
        "    tmp = tmp.dropna(subset=[col_rep])\n",
        "    tmp[col_rep] = tmp[col_rep].astype(int)\n",
        "\n",
        "    # Chequeo de variación\n",
        "    if tmp[col_rep].nunique() < 2:\n",
        "        raise ValueError(f\"{col_rep} no tiene variación (todo 0 o todo 1).\")\n",
        "    nobs = len(tmp)\n",
        "\n",
        "    # 2) Logit univariante: is_canceled ~ is_repeated_guest\n",
        "    model = smf.logit(f\"is_canceled ~ {col_rep}\", data=tmp).fit(disp=False, maxiter=200)\n",
        "    beta = model.params[col_rep]\n",
        "    p_wald = model.pvalues[col_rep]\n",
        "    or_val = float(np.exp(beta))\n",
        "    ci_low, ci_high = np.exp(model.conf_int().loc[col_rep].values)\n",
        "\n",
        "    llf, llnull = model.llf, model.llnull\n",
        "    pseudo_r2 = 1 - llf/llnull if llnull != 0 else np.nan\n",
        "    aic, bic = model.aic, model.bic\n",
        "\n",
        "    rechaza = p_wald < alpha\n",
        "    decision = \"RECHAZAS H0 (sí influye)\" if rechaza else \"NO rechazas H0 (no hay evidencia de influencia)\"\n",
        "\n",
        "    # 3) Robustez: χ² 2x2 e igualdad de proporciones\n",
        "    ct = pd.crosstab(tmp[col_rep], tmp[\"is_canceled\"])  # filas: repetido(0/1), cols: cancel(0/1)\n",
        "    chi2, p_chi, dof, _ = chi2_contingency(ct)\n",
        "\n",
        "    # Prueba dos proporciones: p(cancel|rep=1) vs p(cancel|rep=0)\n",
        "    canc_rep1 = ct.loc[1, 1] if (1 in ct.index and 1 in ct.columns) else 0\n",
        "    n_rep1     = ct.loc[1].sum() if 1 in ct.index else 0\n",
        "    canc_rep0 = ct.loc[0, 1] if (0 in ct.index and 1 in ct.columns) else 0\n",
        "    n_rep0     = ct.loc[0].sum() if 0 in ct.index else 0\n",
        "\n",
        "    if n_rep0 > 0 and n_rep1 > 0:\n",
        "        stat_z, p_z = proportions_ztest(count=[canc_rep1, canc_rep0],\n",
        "                                        nobs=[n_rep1, n_rep0],\n",
        "                                        alternative=\"two-sided\")\n",
        "    else:\n",
        "        stat_z, p_z = np.nan, np.nan\n",
        "\n",
        "    # 4) Impresiones\n",
        "    print(\"=== Prueba principal (Logit: is_repeated_guest → is_canceled) ===\")\n",
        "    print(f\"N = {nobs} | Pseudo-R² = {pseudo_r2:.4f} | AIC = {aic:.1f} | BIC = {bic:.1f}\")\n",
        "    print(f\"H0: β_{col_rep} = 0   vs   H1: β_{col_rep} ≠ 0   (α = {alpha})\")\n",
        "    print(f\"Coeficiente β: {beta:.6f}\")\n",
        "    print(f\"p-valor (Wald): {p_wald:.4g}\")\n",
        "    print(f\"OR (repetido=1 vs 0): {or_val:.3f}  (IC95% {ci_low:.3f}–{ci_high:.3f})\")\n",
        "    print(f\"Decisión: {decision}\\n\")\n",
        "\n",
        "    print(\"=== Robustez ===\")\n",
        "    print(\"Tabla 2x2 (is_repeated_guest x is_canceled):\")\n",
        "    print(ct, \"\\n\")\n",
        "    print(f\"χ²({dof}) = {chi2:.2f}, p = {p_chi:.4g}\")\n",
        "    if not np.isnan(p_z):\n",
        "        print(f\"Dos proporciones (z): z = {stat_z:.2f}, p = {p_z:.4g}\")\n",
        "    else:\n",
        "        print(\"Dos proporciones: no aplicable (algún grupo vacío)\")\n",
        "\n",
        "    # 5) Texto listo para informe\n",
        "    p_cancel_rep1 = canc_rep1 / n_rep1 if n_rep1 else np.nan\n",
        "    p_cancel_rep0 = canc_rep0 / n_rep0 if n_rep0 else np.nan\n",
        "\n",
        "    return {\n",
        "        \"n\": int(nobs),\n",
        "        \"beta\": float(beta),\n",
        "        \"p_wald\": float(p_wald),\n",
        "        \"odds_ratio_repeated_vs_first\": float(or_val),\n",
        "        \"ci95_or\": (float(ci_low), float(ci_high)),\n",
        "        \"pseudo_r2_mcfadden\": float(pseudo_r2) if np.isfinite(pseudo_r2) else None,\n",
        "        \"aic\": float(aic),\n",
        "        \"bic\": float(bic),\n",
        "        \"reject_H0\": bool(rechaza),\n",
        "        \"decision_text\": decision,\n",
        "        \"chi2\": float(chi2),\n",
        "        \"p_chi2\": float(p_chi),\n",
        "        \"z_2props\": float(stat_z) if not np.isnan(stat_z) else None,\n",
        "        \"p_2props\": float(p_z) if not np.isnan(p_z) else None,\n",
        "        \"p_cancel_repeated\": float(p_cancel_rep1) if not np.isnan(p_cancel_rep1) else None,\n",
        "        \"p_cancel_first\": float(p_cancel_rep0) if not np.isnan(p_cancel_rep0) else None,\n",
        "    }\n",
        "\n",
        "# Ejemplo de uso:\n",
        "res_rep = probar_hipotesis_clientes_frecuentes(data, alpha=0.05, col_rep=\"is_repeated_guest\")"
      ]
    },
    {
      "cell_type": "code",
      "execution_count": 43,
      "metadata": {},
      "outputs": [
        {
          "data": {
            "image/png": "[encoded data removed]",
            "text/plain": [
              "<Figure size 780x460 with 1 Axes>"
            ]
          },
          "metadata": {},
          "output_type": "display_data"
        },
        {
          "data": {
            "image/png": "[encoded data removed]",
            "text/plain": [
              "<Figure size 640x280 with 1 Axes>"
            ]
          },
          "metadata": {},
          "output_type": "display_data"
        }
      ],
      "source": [
        "import pandas as pd\n",
        "import numpy as np\n",
        "import matplotlib.pyplot as plt\n",
        "from matplotlib.ticker import PercentFormatter\n",
        "import statsmodels.formula.api as smf\n",
        "from statsmodels.stats.proportion import proportion_confint\n",
        "\n",
        "# --- Utilidad: normalizar columnas y calcular resumen auditables\n",
        "def _coerce_binary_cancel(s):\n",
        "    s = pd.to_numeric(s, errors=\"coerce\").fillna(0)\n",
        "    return (s > 0).astype(int)\n",
        "\n",
        "def _coerce_binary_repeated(x):\n",
        "    if pd.isna(x): return np.nan\n",
        "    if isinstance(x, (int, np.integer, float, np.floating)): return int(x != 0)\n",
        "    if isinstance(x, bool): return int(x)\n",
        "    s = str(x).strip().lower()\n",
        "    return 1 if s in {\"1\",\"true\",\"t\",\"yes\",\"y\",\"si\",\"sí\"} else 0\n",
        "\n",
        "def resumen_repeated(df: pd.DataFrame, col_rep=\"is_repeated_guest\"):\n",
        "    tmp = df[[col_rep, \"is_canceled\"]].copy()\n",
        "    tmp[\"is_canceled\"] = _coerce_binary_cancel(tmp[\"is_canceled\"])\n",
        "    tmp[col_rep] = tmp[col_rep].apply(_coerce_binary_repeated)\n",
        "    tmp = tmp.dropna(subset=[col_rep])\n",
        "    tmp[col_rep] = tmp[col_rep].astype(int)\n",
        "\n",
        "    g = tmp.groupby(col_rep)[\"is_canceled\"].agg(cancelados=\"sum\", total=\"count\").reset_index()\n",
        "    g[\"pct_cancel\"] = 100 * g[\"cancelados\"] / g[\"total\"]\n",
        "    lo, hi = proportion_confint(g[\"cancelados\"], g[\"total\"], alpha=0.05, method=\"wilson\")\n",
        "    g[\"ci_low\"] = lo * 100\n",
        "    g[\"ci_high\"] = hi * 100\n",
        "    g[\"label\"] = g[col_rep].map({0:\"Primerizos\", 1:\"Frecuentes\"})\n",
        "    # Ordenar: mayor a menor % cancelación (normalmente: primerizos > frecuentes)\n",
        "    g = g.sort_values(\"pct_cancel\", ascending=False).reset_index(drop=True)\n",
        "    return g, tmp\n",
        "\n",
        "# --- Gráfico 1: % cancelación con IC95% + conteos \"cancelados/total (= %)\"\n",
        "def plot_pct_cancel_repeated(df: pd.DataFrame, col_rep=\"is_repeated_guest\"):\n",
        "    g, _ = resumen_repeated(df, col_rep)\n",
        "    plt.figure(figsize=(7.6,4.6))\n",
        "    plt.bar(g[\"label\"], g[\"pct_cancel\"])\n",
        "    # barras de error (IC95% Wilson) y etiquetas\n",
        "    for i, (y, lo, hi, c, t) in enumerate(zip(g[\"pct_cancel\"], g[\"ci_low\"], g[\"ci_high\"], g[\"cancelados\"], g[\"total\"])):\n",
        "        plt.vlines(i, lo, hi)\n",
        "        plt.plot([i-0.08, i+0.08], [lo, lo])\n",
        "        plt.plot([i-0.08, i+0.08], [hi, hi])\n",
        "        plt.text(i, y, f\"{int(c)}/{int(t)} (= {y:.1f}%)\", ha=\"center\", va=\"bottom\", fontsize=10)\n",
        "        plt.text(i, 0, f\"n={int(t)}\", ha=\"center\", va=\"bottom\", fontsize=9, rotation=90)\n",
        "    plt.gca().yaxis.set_major_formatter(PercentFormatter())\n",
        "    plt.ylabel(\"% de cancelación\")\n",
        "    plt.title(\"Cancelación: clientes frecuentes vs. primerizos\")\n",
        "    plt.tight_layout()\n",
        "    plt.show()\n",
        "\n",
        "# --- Gráfico 2: apilado 100% (no cancelado vs cancelado) con conteos\n",
        "def plot_100pct_stack_repeated(df: pd.DataFrame, col_rep=\"is_repeated_guest\"):\n",
        "    g, _ = resumen_repeated(df, col_rep)\n",
        "    idx = np.arange(len(g))\n",
        "    pct1 = g[\"pct_cancel\"].values\n",
        "    pct0 = 100 - pct1\n",
        "\n",
        "    plt.figure(figsize=(7.8,4.6))\n",
        "    plt.bar(idx, pct1, label=\"% Cancelado (1)\")\n",
        "    plt.bar(idx, pct0, bottom=pct1, label=\"% No cancelado (0)\")\n",
        "    for i, (p1, p0, c, t) in enumerate(zip(pct1, pct0, g[\"cancelados\"], g[\"total\"])):\n",
        "        if p1 > 5:\n",
        "            plt.text(i, p1/2, f\"{int(c)}/{int(t)}\\n{p1:.1f}%\", ha=\"center\", va=\"center\", fontsize=9)\n",
        "        else:\n",
        "            plt.text(i, p1 + 1, f\"{int(c)}/{int(t)} ({p1:.1f}%)\", ha=\"center\", va=\"bottom\", fontsize=9)\n",
        "        if p0 > 5:\n",
        "            plt.text(i, p1 + p0/2, f\"{int(t-c)}/{int(t)}\\n{p0:.1f}%\", ha=\"center\", va=\"center\", fontsize=9)\n",
        "    plt.xticks(idx, g[\"label\"])\n",
        "    plt.gca().yaxis.set_major_formatter(PercentFormatter())\n",
        "    plt.ylabel(\"Composición (%)\")\n",
        "    plt.title(\"Distribución 100%: cancelado vs no cancelado\\n(Frecuentes vs Primerizos)\")\n",
        "    plt.legend()\n",
        "    plt.tight_layout()\n",
        "    plt.show()\n",
        "\n",
        "# --- (Opcional) Card ejecutiva con OR del logit e IC95% ---\n",
        "def card_or_repeated(df: pd.DataFrame, col_rep=\"is_repeated_guest\"):\n",
        "    _, tmp = resumen_repeated(df, col_rep)\n",
        "    m = smf.logit(\"is_canceled ~ \" + col_rep, data=tmp).fit(disp=False, maxiter=200)\n",
        "    beta = m.params[col_rep]\n",
        "    se   = m.bse[col_rep]\n",
        "    orv  = float(np.exp(beta))\n",
        "    ci   = (float(np.exp(beta - 1.96*se)), float(np.exp(beta + 1.96*se)))\n",
        "\n",
        "    fig = plt.figure(figsize=(6.4,2.8))\n",
        "    plt.text(0.02, 0.65, \"Impacto de ser cliente frecuente (logit univariante)\", fontsize=12, weight=\"bold\")\n",
        "    plt.text(0.02, 0.28, f\"Odds Ratio (frecuente vs primerizo): {orv:.3f}\\nIC95%: [{ci[0]:.3f} ; {ci[1]:.3f}]\", fontsize=11)\n",
        "    plt.axis(\"off\")\n",
        "    plt.tight_layout()\n",
        "    plt.show()\n",
        "\n",
        "# --- Cómo usarlos en tu notebook ---\n",
        "plot_100pct_stack_repeated(data, \"is_repeated_guest\")\n",
        "card_or_repeated(data, \"is_repeated_guest\")\n"
      ]
    },
    {
      "cell_type": "markdown",
      "metadata": {
        "id": "JqH7fj1VaucS"
      },
      "source": [
        "Estimamos una regresión logística univariante con is_canceled como respuesta e is_repeated_guest como predictor. El coeficiente resultó negativo y de gran magnitud (β = −2.396; p ≈ 5.90×10⁻¹³¹), por lo que rechazamos H0 al 5% y concluimos que ser cliente frecuente sí influye en la cancelación: el odds ratio fue 0.091 (IC95%: 0.075–0.110), es decir, las odds de cancelar de un cliente frecuente son alrededor de un 91% menores que las de un primerizo. De forma consistente, las tasas empíricas muestran ≈6.2% de cancelaciones entre frecuentes (111/1,778) frente a ≈42.2% entre primerizos (24,118/57,117). Las pruebas de robustez también respaldan este hallazgo: χ²(1)=920.50, p≈3.44×10⁻²⁰² en la tabla 2×2, y prueba de dos proporciones z=−30.36, p≈1.63×10⁻²⁰². Aunque el pseudo-R² (0.0146) es modesto —lo habitual con un único predictor—, la evidencia estadística es contundente: los clientes frecuentes tienden a cancelar mucho menos que quienes reservan por primera vez."
      ]
    }
  ],
  "metadata": {
    "colab": {
      "collapsed_sections": [
        "1oEzjP3Tn82D",
        "K6rCiKJarHQ_",
        "-g9nzwmmunuC",
        "oiYuZG6Su539",
        "HCBzrU1n2vaL",
        "Hby1mkRb6XuL",
        "lcqxj-df6hNO",
        "Ar1eE54ZG1ke"
      ],
      "provenance": []
    },
    "kernelspec": {
      "display_name": "venv",
      "language": "python",
      "name": "python3"
    },
    "language_info": {
      "codemirror_mode": {
        "name": "ipython",
        "version": 3
      },
      "file_extension": ".py",
      "mimetype": "text/x-python",
      "name": "python",
      "nbconvert_exporter": "python",
      "pygments_lexer": "ipython3",
      "version": "3.12.3"
    },
    "widgets": {
      "application/vnd.jupyter.widget-state+json": {
        "01de9c7af5244b34bae5768c2b37c740": {
          "model_module": "@jupyter-widgets/controls",
          "model_module_version": "1.5.0",
          "model_name": "HBoxModel",
          "state": {
            "_dom_classes": [],
            "_model_module": "@jupyter-widgets/controls",
            "_model_module_version": "1.5.0",
            "_model_name": "HBoxModel",
            "_view_count": null,
            "_view_module": "@jupyter-widgets/controls",
            "_view_module_version": "1.5.0",
            "_view_name": "HBoxView",
            "box_style": "",
            "children": [
              "IPY_MODEL_e98b6c13cf314847935a4c8ae10dee6b",
              "IPY_MODEL_3b4c6a81af5041978a8ba92cb4e50f21",
              "IPY_MODEL_241fc2b95c7948bfa299d3fb0eec97d5"
            ],
            "layout": "IPY_MODEL_b11658eaadba4b1fa578cf776c0c0e82"
          }
        },
        "03a13c26c7d642548e3e769aaf704590": {
          "model_module": "@jupyter-widgets/base",
          "model_module_version": "1.2.0",
          "model_name": "LayoutModel",
          "state": {
            "_model_module": "@jupyter-widgets/base",
            "_model_module_version": "1.2.0",
            "_model_name": "LayoutModel",
            "_view_count": null,
            "_view_module": "@jupyter-widgets/base",
            "_view_module_version": "1.2.0",
            "_view_name": "LayoutView",
            "align_content": null,
            "align_items": null,
            "align_self": null,
            "border": null,
            "bottom": null,
            "display": null,
            "flex": null,
            "flex_flow": null,
            "grid_area": null,
            "grid_auto_columns": null,
            "grid_auto_flow": null,
            "grid_auto_rows": null,
            "grid_column": null,
            "grid_gap": null,
            "grid_row": null,
            "grid_template_areas": null,
            "grid_template_columns": null,
            "grid_template_rows": null,
            "height": null,
            "justify_content": null,
            "justify_items": null,
            "left": null,
            "margin": null,
            "max_height": null,
            "max_width": null,
            "min_height": null,
            "min_width": null,
            "object_fit": null,
            "object_position": null,
            "order": null,
            "overflow": null,
            "overflow_x": null,
            "overflow_y": null,
            "padding": null,
            "right": null,
            "top": null,
            "visibility": null,
            "width": null
          }
        },
        "040a36378c2f4b40b95225ddebfad464": {
          "model_module": "@jupyter-widgets/base",
          "model_module_version": "1.2.0",
          "model_name": "LayoutModel",
          "state": {
            "_model_module": "@jupyter-widgets/base",
            "_model_module_version": "1.2.0",
            "_model_name": "LayoutModel",
            "_view_count": null,
            "_view_module": "@jupyter-widgets/base",
            "_view_module_version": "1.2.0",
            "_view_name": "LayoutView",
            "align_content": null,
            "align_items": null,
            "align_self": null,
            "border": null,
            "bottom": null,
            "display": null,
            "flex": null,
            "flex_flow": null,
            "grid_area": null,
            "grid_auto_columns": null,
            "grid_auto_flow": null,
            "grid_auto_rows": null,
            "grid_column": null,
            "grid_gap": null,
            "grid_row": null,
            "grid_template_areas": null,
            "grid_template_columns": null,
            "grid_template_rows": null,
            "height": null,
            "justify_content": null,
            "justify_items": null,
            "left": null,
            "margin": null,
            "max_height": null,
            "max_width": null,
            "min_height": null,
            "min_width": null,
            "object_fit": null,
            "object_position": null,
            "order": null,
            "overflow": null,
            "overflow_x": null,
            "overflow_y": null,
            "padding": null,
            "right": null,
            "top": null,
            "visibility": null,
            "width": null
          }
        },
        "09a73a5d549f4096bfa6d68a5f6b3762": {
          "model_module": "@jupyter-widgets/controls",
          "model_module_version": "1.5.0",
          "model_name": "ProgressStyleModel",
          "state": {
            "_model_module": "@jupyter-widgets/controls",
            "_model_module_version": "1.5.0",
            "_model_name": "ProgressStyleModel",
            "_view_count": null,
            "_view_module": "@jupyter-widgets/base",
            "_view_module_version": "1.2.0",
            "_view_name": "StyleView",
            "bar_color": null,
            "description_width": ""
          }
        },
        "0c114d47c8664608acca7c8b13d38160": {
          "model_module": "@jupyter-widgets/base",
          "model_module_version": "1.2.0",
          "model_name": "LayoutModel",
          "state": {
            "_model_module": "@jupyter-widgets/base",
            "_model_module_version": "1.2.0",
            "_model_name": "LayoutModel",
            "_view_count": null,
            "_view_module": "@jupyter-widgets/base",
            "_view_module_version": "1.2.0",
            "_view_name": "LayoutView",
            "align_content": null,
            "align_items": null,
            "align_self": null,
            "border": null,
            "bottom": null,
            "display": null,
            "flex": null,
            "flex_flow": null,
            "grid_area": null,
            "grid_auto_columns": null,
            "grid_auto_flow": null,
            "grid_auto_rows": null,
            "grid_column": null,
            "grid_gap": null,
            "grid_row": null,
            "grid_template_areas": null,
            "grid_template_columns": null,
            "grid_template_rows": null,
            "height": null,
            "justify_content": null,
            "justify_items": null,
            "left": null,
            "margin": null,
            "max_height": null,
            "max_width": null,
            "min_height": null,
            "min_width": null,
            "object_fit": null,
            "object_position": null,
            "order": null,
            "overflow": null,
            "overflow_x": null,
            "overflow_y": null,
            "padding": null,
            "right": null,
            "top": null,
            "visibility": null,
            "width": null
          }
        },
        "0d25d91e72ba4f859380495f59093158": {
          "model_module": "@jupyter-widgets/controls",
          "model_module_version": "1.5.0",
          "model_name": "ProgressStyleModel",
          "state": {
            "_model_module": "@jupyter-widgets/controls",
            "_model_module_version": "1.5.0",
            "_model_name": "ProgressStyleModel",
            "_view_count": null,
            "_view_module": "@jupyter-widgets/base",
            "_view_module_version": "1.2.0",
            "_view_name": "StyleView",
            "bar_color": null,
            "description_width": ""
          }
        },
        "0d410c69751b4b5a9032bfca0ac43b1e": {
          "model_module": "@jupyter-widgets/controls",
          "model_module_version": "1.5.0",
          "model_name": "DescriptionStyleModel",
          "state": {
            "_model_module": "@jupyter-widgets/controls",
            "_model_module_version": "1.5.0",
            "_model_name": "DescriptionStyleModel",
            "_view_count": null,
            "_view_module": "@jupyter-widgets/base",
            "_view_module_version": "1.2.0",
            "_view_name": "StyleView",
            "description_width": ""
          }
        },
        "1ca3d8b1a4f84b03b06f514b03a5bf3a": {
          "model_module": "@jupyter-widgets/controls",
          "model_module_version": "1.5.0",
          "model_name": "FloatProgressModel",
          "state": {
            "_dom_classes": [],
            "_model_module": "@jupyter-widgets/controls",
            "_model_module_version": "1.5.0",
            "_model_name": "FloatProgressModel",
            "_view_count": null,
            "_view_module": "@jupyter-widgets/controls",
            "_view_module_version": "1.5.0",
            "_view_name": "ProgressView",
            "bar_style": "success",
            "description": "",
            "description_tooltip": null,
            "layout": "IPY_MODEL_fcca1d0b4e8c4558b787876291d86d6f",
            "max": 5,
            "min": 0,
            "orientation": "horizontal",
            "style": "IPY_MODEL_09a73a5d549f4096bfa6d68a5f6b3762",
            "value": 5
          }
        },
        "1f99c0502efb45eba5db9a7cba6baf2b": {
          "model_module": "@jupyter-widgets/controls",
          "model_module_version": "1.5.0",
          "model_name": "DescriptionStyleModel",
          "state": {
            "_model_module": "@jupyter-widgets/controls",
            "_model_module_version": "1.5.0",
            "_model_name": "DescriptionStyleModel",
            "_view_count": null,
            "_view_module": "@jupyter-widgets/base",
            "_view_module_version": "1.2.0",
            "_view_name": "StyleView",
            "description_width": ""
          }
        },
        "2117bc85211e46ed8c7dfcb95decbb76": {
          "model_module": "@jupyter-widgets/base",
          "model_module_version": "1.2.0",
          "model_name": "LayoutModel",
          "state": {
            "_model_module": "@jupyter-widgets/base",
            "_model_module_version": "1.2.0",
            "_model_name": "LayoutModel",
            "_view_count": null,
            "_view_module": "@jupyter-widgets/base",
            "_view_module_version": "1.2.0",
            "_view_name": "LayoutView",
            "align_content": null,
            "align_items": null,
            "align_self": null,
            "border": null,
            "bottom": null,
            "display": null,
            "flex": null,
            "flex_flow": null,
            "grid_area": null,
            "grid_auto_columns": null,
            "grid_auto_flow": null,
            "grid_auto_rows": null,
            "grid_column": null,
            "grid_gap": null,
            "grid_row": null,
            "grid_template_areas": null,
            "grid_template_columns": null,
            "grid_template_rows": null,
            "height": null,
            "justify_content": null,
            "justify_items": null,
            "left": null,
            "margin": null,
            "max_height": null,
            "max_width": null,
            "min_height": null,
            "min_width": null,
            "object_fit": null,
            "object_position": null,
            "order": null,
            "overflow": null,
            "overflow_x": null,
            "overflow_y": null,
            "padding": null,
            "right": null,
            "top": null,
            "visibility": null,
            "width": null
          }
        },
        "241fc2b95c7948bfa299d3fb0eec97d5": {
          "model_module": "@jupyter-widgets/controls",
          "model_module_version": "1.5.0",
          "model_name": "HTMLModel",
          "state": {
            "_dom_classes": [],
            "_model_module": "@jupyter-widgets/controls",
            "_model_module_version": "1.5.0",
            "_model_name": "HTMLModel",
            "_view_count": null,
            "_view_module": "@jupyter-widgets/controls",
            "_view_module_version": "1.5.0",
            "_view_name": "HTMLView",
            "description": "",
            "description_tooltip": null,
            "layout": "IPY_MODEL_5fc1005d68464faa8b133283ab27f2d2",
            "placeholder": "​",
            "style": "IPY_MODEL_339396a3a3854042af7952b079de7e3d",
            "value": " 1/1 [00:00&lt;00:00, 16.16it/s]"
          }
        },
        "2c7306947cb245dc8cf568445e2f7af7": {
          "model_module": "@jupyter-widgets/base",
          "model_module_version": "1.2.0",
          "model_name": "LayoutModel",
          "state": {
            "_model_module": "@jupyter-widgets/base",
            "_model_module_version": "1.2.0",
            "_model_name": "LayoutModel",
            "_view_count": null,
            "_view_module": "@jupyter-widgets/base",
            "_view_module_version": "1.2.0",
            "_view_name": "LayoutView",
            "align_content": null,
            "align_items": null,
            "align_self": null,
            "border": null,
            "bottom": null,
            "display": null,
            "flex": null,
            "flex_flow": null,
            "grid_area": null,
            "grid_auto_columns": null,
            "grid_auto_flow": null,
            "grid_auto_rows": null,
            "grid_column": null,
            "grid_gap": null,
            "grid_row": null,
            "grid_template_areas": null,
            "grid_template_columns": null,
            "grid_template_rows": null,
            "height": null,
            "justify_content": null,
            "justify_items": null,
            "left": null,
            "margin": null,
            "max_height": null,
            "max_width": null,
            "min_height": null,
            "min_width": null,
            "object_fit": null,
            "object_position": null,
            "order": null,
            "overflow": null,
            "overflow_x": null,
            "overflow_y": null,
            "padding": null,
            "right": null,
            "top": null,
            "visibility": null,
            "width": null
          }
        },
        "339396a3a3854042af7952b079de7e3d": {
          "model_module": "@jupyter-widgets/controls",
          "model_module_version": "1.5.0",
          "model_name": "DescriptionStyleModel",
          "state": {
            "_model_module": "@jupyter-widgets/controls",
            "_model_module_version": "1.5.0",
            "_model_name": "DescriptionStyleModel",
            "_view_count": null,
            "_view_module": "@jupyter-widgets/base",
            "_view_module_version": "1.2.0",
            "_view_name": "StyleView",
            "description_width": ""
          }
        },
        "3b24e08f277847549836e6c28a634898": {
          "model_module": "@jupyter-widgets/base",
          "model_module_version": "1.2.0",
          "model_name": "LayoutModel",
          "state": {
            "_model_module": "@jupyter-widgets/base",
            "_model_module_version": "1.2.0",
            "_model_name": "LayoutModel",
            "_view_count": null,
            "_view_module": "@jupyter-widgets/base",
            "_view_module_version": "1.2.0",
            "_view_name": "LayoutView",
            "align_content": null,
            "align_items": null,
            "align_self": null,
            "border": null,
            "bottom": null,
            "display": null,
            "flex": null,
            "flex_flow": null,
            "grid_area": null,
            "grid_auto_columns": null,
            "grid_auto_flow": null,
            "grid_auto_rows": null,
            "grid_column": null,
            "grid_gap": null,
            "grid_row": null,
            "grid_template_areas": null,
            "grid_template_columns": null,
            "grid_template_rows": null,
            "height": null,
            "justify_content": null,
            "justify_items": null,
            "left": null,
            "margin": null,
            "max_height": null,
            "max_width": null,
            "min_height": null,
            "min_width": null,
            "object_fit": null,
            "object_position": null,
            "order": null,
            "overflow": null,
            "overflow_x": null,
            "overflow_y": null,
            "padding": null,
            "right": null,
            "top": null,
            "visibility": null,
            "width": null
          }
        },
        "3b4c6a81af5041978a8ba92cb4e50f21": {
          "model_module": "@jupyter-widgets/controls",
          "model_module_version": "1.5.0",
          "model_name": "FloatProgressModel",
          "state": {
            "_dom_classes": [],
            "_model_module": "@jupyter-widgets/controls",
            "_model_module_version": "1.5.0",
            "_model_name": "FloatProgressModel",
            "_view_count": null,
            "_view_module": "@jupyter-widgets/controls",
            "_view_module_version": "1.5.0",
            "_view_name": "ProgressView",
            "bar_style": "success",
            "description": "",
            "description_tooltip": null,
            "layout": "IPY_MODEL_3b24e08f277847549836e6c28a634898",
            "max": 1,
            "min": 0,
            "orientation": "horizontal",
            "style": "IPY_MODEL_432cf843138a4154b210219ff9b679fd",
            "value": 1
          }
        },
        "3e82523b88ab45b188d87fe3290b968f": {
          "model_module": "@jupyter-widgets/base",
          "model_module_version": "1.2.0",
          "model_name": "LayoutModel",
          "state": {
            "_model_module": "@jupyter-widgets/base",
            "_model_module_version": "1.2.0",
            "_model_name": "LayoutModel",
            "_view_count": null,
            "_view_module": "@jupyter-widgets/base",
            "_view_module_version": "1.2.0",
            "_view_name": "LayoutView",
            "align_content": null,
            "align_items": null,
            "align_self": null,
            "border": null,
            "bottom": null,
            "display": null,
            "flex": null,
            "flex_flow": null,
            "grid_area": null,
            "grid_auto_columns": null,
            "grid_auto_flow": null,
            "grid_auto_rows": null,
            "grid_column": null,
            "grid_gap": null,
            "grid_row": null,
            "grid_template_areas": null,
            "grid_template_columns": null,
            "grid_template_rows": null,
            "height": null,
            "justify_content": null,
            "justify_items": null,
            "left": null,
            "margin": null,
            "max_height": null,
            "max_width": null,
            "min_height": null,
            "min_width": null,
            "object_fit": null,
            "object_position": null,
            "order": null,
            "overflow": null,
            "overflow_x": null,
            "overflow_y": null,
            "padding": null,
            "right": null,
            "top": null,
            "visibility": null,
            "width": null
          }
        },
        "3e907bb029524126899632a00273cd19": {
          "model_module": "@jupyter-widgets/controls",
          "model_module_version": "1.5.0",
          "model_name": "HBoxModel",
          "state": {
            "_dom_classes": [],
            "_model_module": "@jupyter-widgets/controls",
            "_model_module_version": "1.5.0",
            "_model_name": "HBoxModel",
            "_view_count": null,
            "_view_module": "@jupyter-widgets/controls",
            "_view_module_version": "1.5.0",
            "_view_name": "HBoxView",
            "box_style": "",
            "children": [
              "IPY_MODEL_d01080202e0d4dd8b103328cb7f67618",
              "IPY_MODEL_1ca3d8b1a4f84b03b06f514b03a5bf3a",
              "IPY_MODEL_957c84e6e08d4483b53528c787fa2626"
            ],
            "layout": "IPY_MODEL_3e82523b88ab45b188d87fe3290b968f"
          }
        },
        "432cf843138a4154b210219ff9b679fd": {
          "model_module": "@jupyter-widgets/controls",
          "model_module_version": "1.5.0",
          "model_name": "ProgressStyleModel",
          "state": {
            "_model_module": "@jupyter-widgets/controls",
            "_model_module_version": "1.5.0",
            "_model_name": "ProgressStyleModel",
            "_view_count": null,
            "_view_module": "@jupyter-widgets/base",
            "_view_module_version": "1.2.0",
            "_view_name": "StyleView",
            "bar_color": null,
            "description_width": ""
          }
        },
        "4e2694f56c4249b48f4d16e2a730719f": {
          "model_module": "@jupyter-widgets/controls",
          "model_module_version": "1.5.0",
          "model_name": "HBoxModel",
          "state": {
            "_dom_classes": [],
            "_model_module": "@jupyter-widgets/controls",
            "_model_module_version": "1.5.0",
            "_model_name": "HBoxModel",
            "_view_count": null,
            "_view_module": "@jupyter-widgets/controls",
            "_view_module_version": "1.5.0",
            "_view_name": "HBoxView",
            "box_style": "",
            "children": [
              "IPY_MODEL_ec900a63b62d42418edc5b0f8625de55",
              "IPY_MODEL_7f32a646d5d04c83b9ae663fc546d22d",
              "IPY_MODEL_63a45132935a42fdb3e167bf60694a1f"
            ],
            "layout": "IPY_MODEL_c1d8f080ee6e495091c05965330b4f4c"
          }
        },
        "4e4814ce127842b79de9c19f0a8cb3d6": {
          "model_module": "@jupyter-widgets/controls",
          "model_module_version": "1.5.0",
          "model_name": "ProgressStyleModel",
          "state": {
            "_model_module": "@jupyter-widgets/controls",
            "_model_module_version": "1.5.0",
            "_model_name": "ProgressStyleModel",
            "_view_count": null,
            "_view_module": "@jupyter-widgets/base",
            "_view_module_version": "1.2.0",
            "_view_name": "StyleView",
            "bar_color": null,
            "description_width": ""
          }
        },
        "504e170ec35c41af824f99d1514343ff": {
          "model_module": "@jupyter-widgets/controls",
          "model_module_version": "1.5.0",
          "model_name": "DescriptionStyleModel",
          "state": {
            "_model_module": "@jupyter-widgets/controls",
            "_model_module_version": "1.5.0",
            "_model_name": "DescriptionStyleModel",
            "_view_count": null,
            "_view_module": "@jupyter-widgets/base",
            "_view_module_version": "1.2.0",
            "_view_name": "StyleView",
            "description_width": ""
          }
        },
        "57071692532a4808bc8f299096b57589": {
          "model_module": "@jupyter-widgets/base",
          "model_module_version": "1.2.0",
          "model_name": "LayoutModel",
          "state": {
            "_model_module": "@jupyter-widgets/base",
            "_model_module_version": "1.2.0",
            "_model_name": "LayoutModel",
            "_view_count": null,
            "_view_module": "@jupyter-widgets/base",
            "_view_module_version": "1.2.0",
            "_view_name": "LayoutView",
            "align_content": null,
            "align_items": null,
            "align_self": null,
            "border": null,
            "bottom": null,
            "display": null,
            "flex": null,
            "flex_flow": null,
            "grid_area": null,
            "grid_auto_columns": null,
            "grid_auto_flow": null,
            "grid_auto_rows": null,
            "grid_column": null,
            "grid_gap": null,
            "grid_row": null,
            "grid_template_areas": null,
            "grid_template_columns": null,
            "grid_template_rows": null,
            "height": null,
            "justify_content": null,
            "justify_items": null,
            "left": null,
            "margin": null,
            "max_height": null,
            "max_width": null,
            "min_height": null,
            "min_width": null,
            "object_fit": null,
            "object_position": null,
            "order": null,
            "overflow": null,
            "overflow_x": null,
            "overflow_y": null,
            "padding": null,
            "right": null,
            "top": null,
            "visibility": null,
            "width": null
          }
        },
        "5f0797bf80964e33bb72bb8b64d123f6": {
          "model_module": "@jupyter-widgets/base",
          "model_module_version": "1.2.0",
          "model_name": "LayoutModel",
          "state": {
            "_model_module": "@jupyter-widgets/base",
            "_model_module_version": "1.2.0",
            "_model_name": "LayoutModel",
            "_view_count": null,
            "_view_module": "@jupyter-widgets/base",
            "_view_module_version": "1.2.0",
            "_view_name": "LayoutView",
            "align_content": null,
            "align_items": null,
            "align_self": null,
            "border": null,
            "bottom": null,
            "display": null,
            "flex": null,
            "flex_flow": null,
            "grid_area": null,
            "grid_auto_columns": null,
            "grid_auto_flow": null,
            "grid_auto_rows": null,
            "grid_column": null,
            "grid_gap": null,
            "grid_row": null,
            "grid_template_areas": null,
            "grid_template_columns": null,
            "grid_template_rows": null,
            "height": null,
            "justify_content": null,
            "justify_items": null,
            "left": null,
            "margin": null,
            "max_height": null,
            "max_width": null,
            "min_height": null,
            "min_width": null,
            "object_fit": null,
            "object_position": null,
            "order": null,
            "overflow": null,
            "overflow_x": null,
            "overflow_y": null,
            "padding": null,
            "right": null,
            "top": null,
            "visibility": null,
            "width": null
          }
        },
        "5fc1005d68464faa8b133283ab27f2d2": {
          "model_module": "@jupyter-widgets/base",
          "model_module_version": "1.2.0",
          "model_name": "LayoutModel",
          "state": {
            "_model_module": "@jupyter-widgets/base",
            "_model_module_version": "1.2.0",
            "_model_name": "LayoutModel",
            "_view_count": null,
            "_view_module": "@jupyter-widgets/base",
            "_view_module_version": "1.2.0",
            "_view_name": "LayoutView",
            "align_content": null,
            "align_items": null,
            "align_self": null,
            "border": null,
            "bottom": null,
            "display": null,
            "flex": null,
            "flex_flow": null,
            "grid_area": null,
            "grid_auto_columns": null,
            "grid_auto_flow": null,
            "grid_auto_rows": null,
            "grid_column": null,
            "grid_gap": null,
            "grid_row": null,
            "grid_template_areas": null,
            "grid_template_columns": null,
            "grid_template_rows": null,
            "height": null,
            "justify_content": null,
            "justify_items": null,
            "left": null,
            "margin": null,
            "max_height": null,
            "max_width": null,
            "min_height": null,
            "min_width": null,
            "object_fit": null,
            "object_position": null,
            "order": null,
            "overflow": null,
            "overflow_x": null,
            "overflow_y": null,
            "padding": null,
            "right": null,
            "top": null,
            "visibility": null,
            "width": null
          }
        },
        "634652bf8d55477f9c297b8fc71db14e": {
          "model_module": "@jupyter-widgets/base",
          "model_module_version": "1.2.0",
          "model_name": "LayoutModel",
          "state": {
            "_model_module": "@jupyter-widgets/base",
            "_model_module_version": "1.2.0",
            "_model_name": "LayoutModel",
            "_view_count": null,
            "_view_module": "@jupyter-widgets/base",
            "_view_module_version": "1.2.0",
            "_view_name": "LayoutView",
            "align_content": null,
            "align_items": null,
            "align_self": null,
            "border": null,
            "bottom": null,
            "display": null,
            "flex": null,
            "flex_flow": null,
            "grid_area": null,
            "grid_auto_columns": null,
            "grid_auto_flow": null,
            "grid_auto_rows": null,
            "grid_column": null,
            "grid_gap": null,
            "grid_row": null,
            "grid_template_areas": null,
            "grid_template_columns": null,
            "grid_template_rows": null,
            "height": null,
            "justify_content": null,
            "justify_items": null,
            "left": null,
            "margin": null,
            "max_height": null,
            "max_width": null,
            "min_height": null,
            "min_width": null,
            "object_fit": null,
            "object_position": null,
            "order": null,
            "overflow": null,
            "overflow_x": null,
            "overflow_y": null,
            "padding": null,
            "right": null,
            "top": null,
            "visibility": null,
            "width": null
          }
        },
        "63a45132935a42fdb3e167bf60694a1f": {
          "model_module": "@jupyter-widgets/controls",
          "model_module_version": "1.5.0",
          "model_name": "HTMLModel",
          "state": {
            "_dom_classes": [],
            "_model_module": "@jupyter-widgets/controls",
            "_model_module_version": "1.5.0",
            "_model_name": "HTMLModel",
            "_view_count": null,
            "_view_module": "@jupyter-widgets/controls",
            "_view_module_version": "1.5.0",
            "_view_name": "HTMLView",
            "description": "",
            "description_tooltip": null,
            "layout": "IPY_MODEL_fc23cf6cb5f846a5aba43daa17b03bec",
            "placeholder": "​",
            "style": "IPY_MODEL_1f99c0502efb45eba5db9a7cba6baf2b",
            "value": " 1/1 [00:08&lt;00:00,  8.78s/it]"
          }
        },
        "6afd7c6106ef4ead81c3a75507c36d9c": {
          "model_module": "@jupyter-widgets/controls",
          "model_module_version": "1.5.0",
          "model_name": "DescriptionStyleModel",
          "state": {
            "_model_module": "@jupyter-widgets/controls",
            "_model_module_version": "1.5.0",
            "_model_name": "DescriptionStyleModel",
            "_view_count": null,
            "_view_module": "@jupyter-widgets/base",
            "_view_module_version": "1.2.0",
            "_view_name": "StyleView",
            "description_width": ""
          }
        },
        "7f32a646d5d04c83b9ae663fc546d22d": {
          "model_module": "@jupyter-widgets/controls",
          "model_module_version": "1.5.0",
          "model_name": "FloatProgressModel",
          "state": {
            "_dom_classes": [],
            "_model_module": "@jupyter-widgets/controls",
            "_model_module_version": "1.5.0",
            "_model_name": "FloatProgressModel",
            "_view_count": null,
            "_view_module": "@jupyter-widgets/controls",
            "_view_module_version": "1.5.0",
            "_view_name": "ProgressView",
            "bar_style": "success",
            "description": "",
            "description_tooltip": null,
            "layout": "IPY_MODEL_5f0797bf80964e33bb72bb8b64d123f6",
            "max": 1,
            "min": 0,
            "orientation": "horizontal",
            "style": "IPY_MODEL_0d25d91e72ba4f859380495f59093158",
            "value": 1
          }
        },
        "8e64bb63497441d1b18c22db3c9dc988": {
          "model_module": "@jupyter-widgets/controls",
          "model_module_version": "1.5.0",
          "model_name": "DescriptionStyleModel",
          "state": {
            "_model_module": "@jupyter-widgets/controls",
            "_model_module_version": "1.5.0",
            "_model_name": "DescriptionStyleModel",
            "_view_count": null,
            "_view_module": "@jupyter-widgets/base",
            "_view_module_version": "1.2.0",
            "_view_name": "StyleView",
            "description_width": ""
          }
        },
        "957c84e6e08d4483b53528c787fa2626": {
          "model_module": "@jupyter-widgets/controls",
          "model_module_version": "1.5.0",
          "model_name": "HTMLModel",
          "state": {
            "_dom_classes": [],
            "_model_module": "@jupyter-widgets/controls",
            "_model_module_version": "1.5.0",
            "_model_name": "HTMLModel",
            "_view_count": null,
            "_view_module": "@jupyter-widgets/controls",
            "_view_module_version": "1.5.0",
            "_view_name": "HTMLView",
            "description": "",
            "description_tooltip": null,
            "layout": "IPY_MODEL_040a36378c2f4b40b95225ddebfad464",
            "placeholder": "​",
            "style": "IPY_MODEL_6afd7c6106ef4ead81c3a75507c36d9c",
            "value": " 268/268 [00:40&lt;00:00,  5.26it/s, Completed]"
          }
        },
        "b0c79a9941324de59c113125adf0d2b8": {
          "model_module": "@jupyter-widgets/controls",
          "model_module_version": "1.5.0",
          "model_name": "DescriptionStyleModel",
          "state": {
            "_model_module": "@jupyter-widgets/controls",
            "_model_module_version": "1.5.0",
            "_model_name": "DescriptionStyleModel",
            "_view_count": null,
            "_view_module": "@jupyter-widgets/base",
            "_view_module_version": "1.2.0",
            "_view_name": "StyleView",
            "description_width": ""
          }
        },
        "b11658eaadba4b1fa578cf776c0c0e82": {
          "model_module": "@jupyter-widgets/base",
          "model_module_version": "1.2.0",
          "model_name": "LayoutModel",
          "state": {
            "_model_module": "@jupyter-widgets/base",
            "_model_module_version": "1.2.0",
            "_model_name": "LayoutModel",
            "_view_count": null,
            "_view_module": "@jupyter-widgets/base",
            "_view_module_version": "1.2.0",
            "_view_name": "LayoutView",
            "align_content": null,
            "align_items": null,
            "align_self": null,
            "border": null,
            "bottom": null,
            "display": null,
            "flex": null,
            "flex_flow": null,
            "grid_area": null,
            "grid_auto_columns": null,
            "grid_auto_flow": null,
            "grid_auto_rows": null,
            "grid_column": null,
            "grid_gap": null,
            "grid_row": null,
            "grid_template_areas": null,
            "grid_template_columns": null,
            "grid_template_rows": null,
            "height": null,
            "justify_content": null,
            "justify_items": null,
            "left": null,
            "margin": null,
            "max_height": null,
            "max_width": null,
            "min_height": null,
            "min_width": null,
            "object_fit": null,
            "object_position": null,
            "order": null,
            "overflow": null,
            "overflow_x": null,
            "overflow_y": null,
            "padding": null,
            "right": null,
            "top": null,
            "visibility": null,
            "width": null
          }
        },
        "c1d8f080ee6e495091c05965330b4f4c": {
          "model_module": "@jupyter-widgets/base",
          "model_module_version": "1.2.0",
          "model_name": "LayoutModel",
          "state": {
            "_model_module": "@jupyter-widgets/base",
            "_model_module_version": "1.2.0",
            "_model_name": "LayoutModel",
            "_view_count": null,
            "_view_module": "@jupyter-widgets/base",
            "_view_module_version": "1.2.0",
            "_view_name": "LayoutView",
            "align_content": null,
            "align_items": null,
            "align_self": null,
            "border": null,
            "bottom": null,
            "display": null,
            "flex": null,
            "flex_flow": null,
            "grid_area": null,
            "grid_auto_columns": null,
            "grid_auto_flow": null,
            "grid_auto_rows": null,
            "grid_column": null,
            "grid_gap": null,
            "grid_row": null,
            "grid_template_areas": null,
            "grid_template_columns": null,
            "grid_template_rows": null,
            "height": null,
            "justify_content": null,
            "justify_items": null,
            "left": null,
            "margin": null,
            "max_height": null,
            "max_width": null,
            "min_height": null,
            "min_width": null,
            "object_fit": null,
            "object_position": null,
            "order": null,
            "overflow": null,
            "overflow_x": null,
            "overflow_y": null,
            "padding": null,
            "right": null,
            "top": null,
            "visibility": null,
            "width": null
          }
        },
        "c76d3184a9c045edb4076e0ef62dbb55": {
          "model_module": "@jupyter-widgets/controls",
          "model_module_version": "1.5.0",
          "model_name": "HTMLModel",
          "state": {
            "_dom_classes": [],
            "_model_module": "@jupyter-widgets/controls",
            "_model_module_version": "1.5.0",
            "_model_name": "HTMLModel",
            "_view_count": null,
            "_view_module": "@jupyter-widgets/controls",
            "_view_module_version": "1.5.0",
            "_view_name": "HTMLView",
            "description": "",
            "description_tooltip": null,
            "layout": "IPY_MODEL_2c7306947cb245dc8cf568445e2f7af7",
            "placeholder": "​",
            "style": "IPY_MODEL_c812f2e6848b4ae8ae3feb37649e76c5",
            "value": "Render HTML: 100%"
          }
        },
        "c812f2e6848b4ae8ae3feb37649e76c5": {
          "model_module": "@jupyter-widgets/controls",
          "model_module_version": "1.5.0",
          "model_name": "DescriptionStyleModel",
          "state": {
            "_model_module": "@jupyter-widgets/controls",
            "_model_module_version": "1.5.0",
            "_model_name": "DescriptionStyleModel",
            "_view_count": null,
            "_view_module": "@jupyter-widgets/base",
            "_view_module_version": "1.2.0",
            "_view_name": "StyleView",
            "description_width": ""
          }
        },
        "d01080202e0d4dd8b103328cb7f67618": {
          "model_module": "@jupyter-widgets/controls",
          "model_module_version": "1.5.0",
          "model_name": "HTMLModel",
          "state": {
            "_dom_classes": [],
            "_model_module": "@jupyter-widgets/controls",
            "_model_module_version": "1.5.0",
            "_model_name": "HTMLModel",
            "_view_count": null,
            "_view_module": "@jupyter-widgets/controls",
            "_view_module_version": "1.5.0",
            "_view_name": "HTMLView",
            "description": "",
            "description_tooltip": null,
            "layout": "IPY_MODEL_0c114d47c8664608acca7c8b13d38160",
            "placeholder": "​",
            "style": "IPY_MODEL_8e64bb63497441d1b18c22db3c9dc988",
            "value": "Summarize dataset: 100%"
          }
        },
        "e630df804822477dba6e241afb6bfd8a": {
          "model_module": "@jupyter-widgets/controls",
          "model_module_version": "1.5.0",
          "model_name": "HBoxModel",
          "state": {
            "_dom_classes": [],
            "_model_module": "@jupyter-widgets/controls",
            "_model_module_version": "1.5.0",
            "_model_name": "HBoxModel",
            "_view_count": null,
            "_view_module": "@jupyter-widgets/controls",
            "_view_module_version": "1.5.0",
            "_view_name": "HBoxView",
            "box_style": "",
            "children": [
              "IPY_MODEL_c76d3184a9c045edb4076e0ef62dbb55",
              "IPY_MODEL_fa419ecc201b4bd69b8259b819d14612",
              "IPY_MODEL_f096cea9aea74ac0bd2c7539d634b708"
            ],
            "layout": "IPY_MODEL_f5f62cefc4c74f44902b70198e2b7553"
          }
        },
        "e98b6c13cf314847935a4c8ae10dee6b": {
          "model_module": "@jupyter-widgets/controls",
          "model_module_version": "1.5.0",
          "model_name": "HTMLModel",
          "state": {
            "_dom_classes": [],
            "_model_module": "@jupyter-widgets/controls",
            "_model_module_version": "1.5.0",
            "_model_name": "HTMLModel",
            "_view_count": null,
            "_view_module": "@jupyter-widgets/controls",
            "_view_module_version": "1.5.0",
            "_view_name": "HTMLView",
            "description": "",
            "description_tooltip": null,
            "layout": "IPY_MODEL_2117bc85211e46ed8c7dfcb95decbb76",
            "placeholder": "​",
            "style": "IPY_MODEL_504e170ec35c41af824f99d1514343ff",
            "value": "Export report to file: 100%"
          }
        },
        "ec900a63b62d42418edc5b0f8625de55": {
          "model_module": "@jupyter-widgets/controls",
          "model_module_version": "1.5.0",
          "model_name": "HTMLModel",
          "state": {
            "_dom_classes": [],
            "_model_module": "@jupyter-widgets/controls",
            "_model_module_version": "1.5.0",
            "_model_name": "HTMLModel",
            "_view_count": null,
            "_view_module": "@jupyter-widgets/controls",
            "_view_module_version": "1.5.0",
            "_view_name": "HTMLView",
            "description": "",
            "description_tooltip": null,
            "layout": "IPY_MODEL_634652bf8d55477f9c297b8fc71db14e",
            "placeholder": "​",
            "style": "IPY_MODEL_b0c79a9941324de59c113125adf0d2b8",
            "value": "Generate report structure: 100%"
          }
        },
        "f096cea9aea74ac0bd2c7539d634b708": {
          "model_module": "@jupyter-widgets/controls",
          "model_module_version": "1.5.0",
          "model_name": "HTMLModel",
          "state": {
            "_dom_classes": [],
            "_model_module": "@jupyter-widgets/controls",
            "_model_module_version": "1.5.0",
            "_model_name": "HTMLModel",
            "_view_count": null,
            "_view_module": "@jupyter-widgets/controls",
            "_view_module_version": "1.5.0",
            "_view_name": "HTMLView",
            "description": "",
            "description_tooltip": null,
            "layout": "IPY_MODEL_03a13c26c7d642548e3e769aaf704590",
            "placeholder": "​",
            "style": "IPY_MODEL_0d410c69751b4b5a9032bfca0ac43b1e",
            "value": " 1/1 [00:05&lt;00:00,  5.96s/it]"
          }
        },
        "f5f62cefc4c74f44902b70198e2b7553": {
          "model_module": "@jupyter-widgets/base",
          "model_module_version": "1.2.0",
          "model_name": "LayoutModel",
          "state": {
            "_model_module": "@jupyter-widgets/base",
            "_model_module_version": "1.2.0",
            "_model_name": "LayoutModel",
            "_view_count": null,
            "_view_module": "@jupyter-widgets/base",
            "_view_module_version": "1.2.0",
            "_view_name": "LayoutView",
            "align_content": null,
            "align_items": null,
            "align_self": null,
            "border": null,
            "bottom": null,
            "display": null,
            "flex": null,
            "flex_flow": null,
            "grid_area": null,
            "grid_auto_columns": null,
            "grid_auto_flow": null,
            "grid_auto_rows": null,
            "grid_column": null,
            "grid_gap": null,
            "grid_row": null,
            "grid_template_areas": null,
            "grid_template_columns": null,
            "grid_template_rows": null,
            "height": null,
            "justify_content": null,
            "justify_items": null,
            "left": null,
            "margin": null,
            "max_height": null,
            "max_width": null,
            "min_height": null,
            "min_width": null,
            "object_fit": null,
            "object_position": null,
            "order": null,
            "overflow": null,
            "overflow_x": null,
            "overflow_y": null,
            "padding": null,
            "right": null,
            "top": null,
            "visibility": null,
            "width": null
          }
        },
        "fa419ecc201b4bd69b8259b819d14612": {
          "model_module": "@jupyter-widgets/controls",
          "model_module_version": "1.5.0",
          "model_name": "FloatProgressModel",
          "state": {
            "_dom_classes": [],
            "_model_module": "@jupyter-widgets/controls",
            "_model_module_version": "1.5.0",
            "_model_name": "FloatProgressModel",
            "_view_count": null,
            "_view_module": "@jupyter-widgets/controls",
            "_view_module_version": "1.5.0",
            "_view_name": "ProgressView",
            "bar_style": "success",
            "description": "",
            "description_tooltip": null,
            "layout": "IPY_MODEL_57071692532a4808bc8f299096b57589",
            "max": 1,
            "min": 0,
            "orientation": "horizontal",
            "style": "IPY_MODEL_4e4814ce127842b79de9c19f0a8cb3d6",
            "value": 1
          }
        },
        "fc23cf6cb5f846a5aba43daa17b03bec": {
          "model_module": "@jupyter-widgets/base",
          "model_module_version": "1.2.0",
          "model_name": "LayoutModel",
          "state": {
            "_model_module": "@jupyter-widgets/base",
            "_model_module_version": "1.2.0",
            "_model_name": "LayoutModel",
            "_view_count": null,
            "_view_module": "@jupyter-widgets/base",
            "_view_module_version": "1.2.0",
            "_view_name": "LayoutView",
            "align_content": null,
            "align_items": null,
            "align_self": null,
            "border": null,
            "bottom": null,
            "display": null,
            "flex": null,
            "flex_flow": null,
            "grid_area": null,
            "grid_auto_columns": null,
            "grid_auto_flow": null,
            "grid_auto_rows": null,
            "grid_column": null,
            "grid_gap": null,
            "grid_row": null,
            "grid_template_areas": null,
            "grid_template_columns": null,
            "grid_template_rows": null,
            "height": null,
            "justify_content": null,
            "justify_items": null,
            "left": null,
            "margin": null,
            "max_height": null,
            "max_width": null,
            "min_height": null,
            "min_width": null,
            "object_fit": null,
            "object_position": null,
            "order": null,
            "overflow": null,
            "overflow_x": null,
            "overflow_y": null,
            "padding": null,
            "right": null,
            "top": null,
            "visibility": null,
            "width": null
          }
        },
        "fcca1d0b4e8c4558b787876291d86d6f": {
          "model_module": "@jupyter-widgets/base",
          "model_module_version": "1.2.0",
          "model_name": "LayoutModel",
          "state": {
            "_model_module": "@jupyter-widgets/base",
            "_model_module_version": "1.2.0",
            "_model_name": "LayoutModel",
            "_view_count": null,
            "_view_module": "@jupyter-widgets/base",
            "_view_module_version": "1.2.0",
            "_view_name": "LayoutView",
            "align_content": null,
            "align_items": null,
            "align_self": null,
            "border": null,
            "bottom": null,
            "display": null,
            "flex": null,
            "flex_flow": null,
            "grid_area": null,
            "grid_auto_columns": null,
            "grid_auto_flow": null,
            "grid_auto_rows": null,
            "grid_column": null,
            "grid_gap": null,
            "grid_row": null,
            "grid_template_areas": null,
            "grid_template_columns": null,
            "grid_template_rows": null,
            "height": null,
            "justify_content": null,
            "justify_items": null,
            "left": null,
            "margin": null,
            "max_height": null,
            "max_width": null,
            "min_height": null,
            "min_width": null,
            "object_fit": null,
            "object_position": null,
            "order": null,
            "overflow": null,
            "overflow_x": null,
            "overflow_y": null,
            "padding": null,
            "right": null,
            "top": null,
            "visibility": null,
            "width": null
          }
        }
      }
    }
  },
  "nbformat": 4,
  "nbformat_minor": 0
}
